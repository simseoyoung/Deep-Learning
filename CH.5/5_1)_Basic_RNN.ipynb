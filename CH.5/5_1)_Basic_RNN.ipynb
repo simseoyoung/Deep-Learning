{
  "cells": [
    {
      "cell_type": "markdown",
      "metadata": {
        "id": "view-in-github",
        "colab_type": "text"
      },
      "source": [
        "<a href=\"https://colab.research.google.com/github/simseoyoung/Deep-Learning/blob/main/CH.5/5_1)_Basic_RNN.ipynb\" target=\"_parent\"><img src=\"https://colab.research.google.com/assets/colab-badge.svg\" alt=\"Open In Colab\"/></a>"
      ]
    },
    {
      "cell_type": "markdown",
      "metadata": {
        "id": "Oa6mjeMhKgqA"
      },
      "source": [
        "## 문자열 데이터로 RNN 학습하기\n",
        "-문자열 데이터를 벡터로 표현하기 위해 원핫인코딩(One-Hot Encoding)을 사용한다.  \n",
        "-원핫인코딩으로 표현한 데이터를 가지고 RNN을 학습한다.\n",
        "\n",
        "-일정한 순서를 가지고 있는 문자열 데이터를 넣어 학습시켜 그 다음 sequence를 예측하게 한다."
      ]
    },
    {
      "cell_type": "code",
      "execution_count": 1,
      "metadata": {
        "id": "O0_G1yTTKgqQ"
      },
      "outputs": [],
      "source": [
        "import torch\n",
        "import torch.optim as optim\n",
        "import numpy as np\n",
        "import torch.nn.functional as F"
      ]
    },
    {
      "cell_type": "markdown",
      "metadata": {
        "id": "J0uJAazqKgqV"
      },
      "source": [
        "## [1] Data Preprocessing\n",
        "- 단어 'tomato'를 철자 단위에서 학습을 시켜보자"
      ]
    },
    {
      "cell_type": "code",
      "execution_count": 2,
      "metadata": {
        "colab": {
          "base_uri": "https://localhost:8080/"
        },
        "id": "ssNgFG7IKgqY",
        "outputId": "a57ee0d0-071e-4b77-bf56-ed4f8807009a"
      },
      "outputs": [
        {
          "output_type": "execute_result",
          "data": {
            "text/plain": [
              "['t', 'o', 'm', 'a', 't', 'o']"
            ]
          },
          "metadata": {},
          "execution_count": 2
        }
      ],
      "source": [
        "string = 'tomato'\n",
        "string = list(string)\n",
        "string"
      ]
    },
    {
      "cell_type": "code",
      "execution_count": 3,
      "metadata": {
        "colab": {
          "base_uri": "https://localhost:8080/"
        },
        "id": "yF9Kyn-0Kgqb",
        "outputId": "77749ff8-e22b-437f-9207-2d40485770ef"
      },
      "outputs": [
        {
          "output_type": "execute_result",
          "data": {
            "text/plain": [
              "{'a', 'm', 'o', 't'}"
            ]
          },
          "metadata": {},
          "execution_count": 3
        }
      ],
      "source": [
        "set_string = set(string) # 중복을 허용하지 않는 데이터 타입 set\n",
        "set_string               # tomato 단어는 t, o, m, a로 구성되어 있음"
      ]
    },
    {
      "cell_type": "code",
      "execution_count": 4,
      "metadata": {
        "id": "yatXNK_lKgqe"
      },
      "outputs": [],
      "source": [
        "set_string = ['t', 'o', 'm', 'a']"
      ]
    },
    {
      "cell_type": "code",
      "source": [
        ""
      ],
      "metadata": {
        "id": "IvynrsyILl3f"
      },
      "execution_count": null,
      "outputs": []
    },
    {
      "cell_type": "markdown",
      "metadata": {
        "id": "zJi9sA65Kgqg"
      },
      "source": [
        "- str데이터를 원핫인코딩으로 표현한다\n",
        "\n",
        "\n",
        "=> 문자열을 바로 인식하지 못하기 때문에 숫자로 바꿔줌\n",
        "\n"
      ]
    },
    {
      "cell_type": "code",
      "execution_count": 5,
      "metadata": {
        "id": "RhiIWffcKgqi"
      },
      "outputs": [],
      "source": [
        "# input data는 맨마지막 철자를 제외하고 입력한다\n",
        "\n",
        "encoding_X = [[[1, 0, 0, 0],   # t --> 0\n",
        "               [0, 1, 0, 0],   # o --> 1\n",
        "               [0, 1, 1, 0],   # m --> 2\n",
        "               [0, 0, 0, 1],   # a --> 3\n",
        "               [1, 0, 0, 0]]]  # t --> 0\n",
        "\n",
        "\n",
        "target = [[1, 2, 3, 0, 1]] # 처음 시작하는 철자를 제외하고 입력\n",
        "# x5는 나중에 test 시에 사용할 수 있도록 마지막 글자는 빼고 input data를 만듦\n"
      ]
    },
    {
      "cell_type": "code",
      "execution_count": 6,
      "metadata": {
        "colab": {
          "base_uri": "https://localhost:8080/"
        },
        "id": "FcNkE0HWKgqk",
        "outputId": "44d96bf6-40ad-4717-baba-5c8c59975cbd"
      },
      "outputs": [
        {
          "output_type": "execute_result",
          "data": {
            "text/plain": [
              "torch.Size([1, 5, 4])"
            ]
          },
          "metadata": {},
          "execution_count": 6
        }
      ],
      "source": [
        "X = torch.FloatTensor(encoding_X) # 실수형 tensor\n",
        "Y = torch.LongTensor(target) # int형 tensor\n",
        "X.shape # (seq, batch, input dimension)"
      ]
    },
    {
      "cell_type": "markdown",
      "metadata": {
        "id": "w5JOenpzKgqo"
      },
      "source": [
        "## [2] Model 정의"
      ]
    },
    {
      "cell_type": "code",
      "execution_count": 7,
      "metadata": {
        "id": "FBTsiQ0RKgqp"
      },
      "outputs": [],
      "source": [
        "# hyperparameter \n",
        "input_size = 4  #원핫인코딩의 Dimension\n",
        "hidden_size = 4\n",
        "epoch = 20\n",
        "learning_rate = 0.1"
      ]
    },
    {
      "cell_type": "code",
      "execution_count": 8,
      "metadata": {
        "id": "psMqQ3ypKgqq"
      },
      "outputs": [],
      "source": [
        "#모델 선언\n",
        "model = torch.nn.RNN(input_size, hidden_size, batch_first=True)  # batch_first --> (Batch, Seq, input_dim)\n"
      ]
    },
    {
      "cell_type": "code",
      "execution_count": 9,
      "metadata": {
        "id": "ImN4AEEkKgqr"
      },
      "outputs": [],
      "source": [
        "# loss function, optimizer 선언\n",
        "criterion = torch.nn.CrossEntropyLoss()\n",
        "optimizer = optim.Adam(model.parameters(), learning_rate)\n"
      ]
    },
    {
      "cell_type": "markdown",
      "metadata": {
        "id": "CZaG-yenKgqr"
      },
      "source": [
        "## [3] Training"
      ]
    },
    {
      "cell_type": "code",
      "execution_count": 14,
      "metadata": {
        "colab": {
          "base_uri": "https://localhost:8080/"
        },
        "id": "Q3b2jzhjKgqs",
        "outputId": "3771fbaf-e774-411a-8933-dcb8bd6f2d54"
      },
      "outputs": [
        {
          "output_type": "stream",
          "name": "stdout",
          "text": [
            "torch.Size([1, 5, 4])\n",
            "epoch:0 loss:0.36 --> 예측한 문자:omato, 예측값:[1 2 3 0 1]\n",
            "torch.Size([1, 5, 4])\n",
            "epoch:1 loss:0.36 --> 예측한 문자:omato, 예측값:[1 2 3 0 1]\n",
            "torch.Size([1, 5, 4])\n",
            "epoch:2 loss:0.36 --> 예측한 문자:omato, 예측값:[1 2 3 0 1]\n",
            "torch.Size([1, 5, 4])\n",
            "epoch:3 loss:0.36 --> 예측한 문자:omato, 예측값:[1 2 3 0 1]\n",
            "torch.Size([1, 5, 4])\n",
            "epoch:4 loss:0.36 --> 예측한 문자:omato, 예측값:[1 2 3 0 1]\n",
            "torch.Size([1, 5, 4])\n",
            "epoch:5 loss:0.35 --> 예측한 문자:omato, 예측값:[1 2 3 0 1]\n",
            "torch.Size([1, 5, 4])\n",
            "epoch:6 loss:0.35 --> 예측한 문자:omato, 예측값:[1 2 3 0 1]\n",
            "torch.Size([1, 5, 4])\n",
            "epoch:7 loss:0.35 --> 예측한 문자:omato, 예측값:[1 2 3 0 1]\n",
            "torch.Size([1, 5, 4])\n",
            "epoch:8 loss:0.35 --> 예측한 문자:omato, 예측값:[1 2 3 0 1]\n",
            "torch.Size([1, 5, 4])\n",
            "epoch:9 loss:0.35 --> 예측한 문자:omato, 예측값:[1 2 3 0 1]\n",
            "torch.Size([1, 5, 4])\n",
            "epoch:10 loss:0.35 --> 예측한 문자:omato, 예측값:[1 2 3 0 1]\n",
            "torch.Size([1, 5, 4])\n",
            "epoch:11 loss:0.35 --> 예측한 문자:omato, 예측값:[1 2 3 0 1]\n",
            "torch.Size([1, 5, 4])\n",
            "epoch:12 loss:0.35 --> 예측한 문자:omato, 예측값:[1 2 3 0 1]\n",
            "torch.Size([1, 5, 4])\n",
            "epoch:13 loss:0.35 --> 예측한 문자:omato, 예측값:[1 2 3 0 1]\n",
            "torch.Size([1, 5, 4])\n",
            "epoch:14 loss:0.35 --> 예측한 문자:omato, 예측값:[1 2 3 0 1]\n",
            "torch.Size([1, 5, 4])\n",
            "epoch:15 loss:0.35 --> 예측한 문자:omato, 예측값:[1 2 3 0 1]\n",
            "torch.Size([1, 5, 4])\n",
            "epoch:16 loss:0.35 --> 예측한 문자:omato, 예측값:[1 2 3 0 1]\n",
            "torch.Size([1, 5, 4])\n",
            "epoch:17 loss:0.34 --> 예측한 문자:omato, 예측값:[1 2 3 0 1]\n",
            "torch.Size([1, 5, 4])\n",
            "epoch:18 loss:0.34 --> 예측한 문자:omato, 예측값:[1 2 3 0 1]\n",
            "torch.Size([1, 5, 4])\n",
            "epoch:19 loss:0.34 --> 예측한 문자:omato, 예측값:[1 2 3 0 1]\n",
            "torch.Size([1, 5, 4])\n",
            "epoch:20 loss:0.34 --> 예측한 문자:omato, 예측값:[1 2 3 0 1]\n"
          ]
        }
      ],
      "source": [
        "#training\n",
        "for i in range(epoch+1):\n",
        "    optimizer.zero_grad()\n",
        "    outputs, status = model(X)\n",
        "    print(outputs.shape)\n",
        "    outputs = outputs.reshape(-1, input_size)\n",
        "    Y = Y.reshape(-1)\n",
        "    loss = criterion(outputs, Y)\n",
        "    loss.backward()\n",
        "    optimizer.step()\n",
        "\n",
        "    result = outputs.detach().numpy().argmax(axis=1) # detach는 메모리를 적게 쓰기 위함\n",
        "    result = result.reshape(-1)\n",
        "    result_string = ''.join([set_string[s] for s in result]) # 문자열로 변환\n",
        "\n",
        "    print(f'epoch:{i} loss:{loss:.2f} --> 예측한 문자:{result_string}, 예측값:{result}')"
      ]
    },
    {
      "cell_type": "markdown",
      "metadata": {
        "id": "um2R-AcKKgqv"
      },
      "source": [
        "## [4] Test\n",
        "-임의의 원핫인코딩 텐서를 입력해서 결과를 확인해본다"
      ]
    },
    {
      "cell_type": "code",
      "execution_count": 11,
      "metadata": {
        "colab": {
          "base_uri": "https://localhost:8080/"
        },
        "id": "yP_Vo6mgKgqw",
        "outputId": "a71c257f-e70b-4128-a1bf-00fa6c9c9c5e"
      },
      "outputs": [
        {
          "output_type": "execute_result",
          "data": {
            "text/plain": [
              "torch.Size([2, 1, 4])"
            ]
          },
          "metadata": {},
          "execution_count": 11
        }
      ],
      "source": [
        "test_x = torch.FloatTensor([[1, 0, 0, 0],\n",
        "                            [0, 1, 0, 0]] ) # t o m a 의 원핫인코딩값\n",
        "\n",
        "test_x = test_x.reshape(2, 1, 4)\n",
        "test_x.shape"
      ]
    },
    {
      "cell_type": "code",
      "execution_count": 12,
      "metadata": {
        "colab": {
          "base_uri": "https://localhost:8080/"
        },
        "id": "8UQQlpcsKgqx",
        "outputId": "29493508-515e-4521-e089-33f61a8bda3d"
      },
      "outputs": [
        {
          "output_type": "stream",
          "name": "stdout",
          "text": [
            "예측한 문자: om, 예측값:[1 2]\n"
          ]
        }
      ],
      "source": [
        "with torch.no_grad():\n",
        "    test_output, status = model(test_x)\n",
        "    result = test_output.detach().numpy().argmax(axis=2)\n",
        "    result = result.reshape(-1)\n",
        "    result_string = ''.join([set_string[s] for s in result])\n",
        "    print(f'예측한 문자: {result_string}, 예측값:{result}')"
      ]
    },
    {
      "cell_type": "code",
      "execution_count": 12,
      "metadata": {
        "id": "TVIt6xSTKgqz"
      },
      "outputs": [],
      "source": [
        ""
      ]
    }
  ],
  "metadata": {
    "kernelspec": {
      "display_name": "Python 3",
      "language": "python",
      "name": "python3"
    },
    "language_info": {
      "codemirror_mode": {
        "name": "ipython",
        "version": 3
      },
      "file_extension": ".py",
      "mimetype": "text/x-python",
      "name": "python",
      "nbconvert_exporter": "python",
      "pygments_lexer": "ipython3",
      "version": "3.7.6"
    },
    "colab": {
      "name": "Chap5-1)_Basic_RNN.ipynb",
      "provenance": [],
      "include_colab_link": true
    }
  },
  "nbformat": 4,
  "nbformat_minor": 0
}