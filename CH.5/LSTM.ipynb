{
  "nbformat": 4,
  "nbformat_minor": 0,
  "metadata": {
    "colab": {
      "name": "Untitled10.ipynb",
      "provenance": [],
      "collapsed_sections": [],
      "mount_file_id": "1dVenWoMpGAkYzLmOa0QfcD5mcQjoJcyu",
      "authorship_tag": "ABX9TyObbyBsfUs/S4LM1zGRRlVh",
      "include_colab_link": true
    },
    "kernelspec": {
      "name": "python3",
      "display_name": "Python 3"
    },
    "language_info": {
      "name": "python"
    }
  },
  "cells": [
    {
      "cell_type": "markdown",
      "metadata": {
        "id": "view-in-github",
        "colab_type": "text"
      },
      "source": [
        "<a href=\"https://colab.research.google.com/github/simseoyoung/Deep-Learning/blob/main/CH.5/LSTM.ipynb\" target=\"_parent\"><img src=\"https://colab.research.google.com/assets/colab-badge.svg\" alt=\"Open In Colab\"/></a>"
      ]
    },
    {
      "cell_type": "markdown",
      "source": [
        "## RNN\n",
        "\n",
        "- RNN 중 LSTM을 사용하여 주식 시계열 데이터 예측해보기 <br>\n",
        "\n",
        "\n",
        "- data set : Amazon 주식 dataset (AMZN.csv)"
      ],
      "metadata": {
        "id": "yzeRZPYa4xhR"
      }
    },
    {
      "cell_type": "code",
      "execution_count": 1,
      "metadata": {
        "id": "j5-oKIYK4kaS"
      },
      "outputs": [],
      "source": [
        "import torch\n",
        "import torch.nn as nn\n",
        "import torch.functional as F\n",
        "from torch.utils.data import Dataset, DataLoader\n",
        "import torch.utils.data as data_utils\n",
        "import datetime\n",
        "\n",
        "import numpy as np\n",
        "import pandas as pd\n",
        "from sklearn.preprocessing import StandardScaler\n",
        "from sklearn.model_selection import train_test_split\n",
        "import torch.optim as optim\n",
        "\n",
        "import matplotlib.pyplot as plt"
      ]
    },
    {
      "cell_type": "code",
      "source": [
        "device = \"cuda\" if torch.cuda.is_available() else 'cpu'\n",
        "\n",
        "torch.manual_seed(777)\n",
        "if device == \"cuda\":\n",
        "    torch.cuda.manual_seed_all(777)\n",
        "    \n",
        "print(device)"
      ],
      "metadata": {
        "colab": {
          "base_uri": "https://localhost:8080/"
        },
        "id": "4JK8cuPeisZ2",
        "outputId": "318cbe83-1e4b-4b42-ee8b-fb73965a892f"
      },
      "execution_count": 2,
      "outputs": [
        {
          "output_type": "stream",
          "name": "stdout",
          "text": [
            "cpu\n"
          ]
        }
      ]
    },
    {
      "cell_type": "markdown",
      "source": [
        "[1] Data processing"
      ],
      "metadata": {
        "id": "z6VEfii08IDE"
      }
    },
    {
      "cell_type": "code",
      "source": [
        "# 파일 불러오기\n",
        "train_data_url = \"/content/drive/MyDrive/DL 실습/AMZN.csv\"\n",
        "df = pd.read_csv(train_data_url)\n",
        "print (df.shape) # 파일 형식 확인\n",
        "df"
      ],
      "metadata": {
        "colab": {
          "base_uri": "https://localhost:8080/",
          "height": 442
        },
        "id": "H7W1wovs6ylf",
        "outputId": "c266f446-20ef-47a6-cf65-f04cdd28483e"
      },
      "execution_count": 3,
      "outputs": [
        {
          "output_type": "stream",
          "name": "stdout",
          "text": [
            "(5178, 7)\n"
          ]
        },
        {
          "output_type": "execute_result",
          "data": {
            "text/plain": [
              "            Date         Open         High          Low        Close  \\\n",
              "0     1997-05-15     2.437500     2.500000     1.927083     1.958333   \n",
              "1     1997-05-16     1.968750     1.979167     1.708333     1.729167   \n",
              "2     1997-05-19     1.760417     1.770833     1.625000     1.708333   \n",
              "3     1997-05-20     1.729167     1.750000     1.635417     1.635417   \n",
              "4     1997-05-21     1.635417     1.645833     1.375000     1.427083   \n",
              "...          ...          ...          ...          ...          ...   \n",
              "5173  2017-12-04  1173.849976  1175.199951  1128.000000  1133.949951   \n",
              "5174  2017-12-05  1128.260010  1159.270020  1124.739990  1141.569946   \n",
              "5175  2017-12-06  1137.989990  1155.890015  1136.079956  1152.349976   \n",
              "5176  2017-12-07  1156.589966  1163.189941  1151.000000  1159.790039   \n",
              "5177  2017-12-08  1170.400024  1172.750000  1157.099976  1162.000000   \n",
              "\n",
              "        Adj Close    Volume  \n",
              "0        1.958333  72156000  \n",
              "1        1.729167  14700000  \n",
              "2        1.708333   6106800  \n",
              "3        1.635417   5467200  \n",
              "4        1.427083  18853200  \n",
              "...           ...       ...  \n",
              "5173  1133.949951   5931900  \n",
              "5174  1141.569946   4079800  \n",
              "5175  1152.349976   2853300  \n",
              "5176  1159.790039   2508800  \n",
              "5177  1162.000000   2711530  \n",
              "\n",
              "[5178 rows x 7 columns]"
            ],
            "text/html": [
              "\n",
              "  <div id=\"df-c3ea58c0-13db-4ab3-b8b5-a4f901e02ff6\">\n",
              "    <div class=\"colab-df-container\">\n",
              "      <div>\n",
              "<style scoped>\n",
              "    .dataframe tbody tr th:only-of-type {\n",
              "        vertical-align: middle;\n",
              "    }\n",
              "\n",
              "    .dataframe tbody tr th {\n",
              "        vertical-align: top;\n",
              "    }\n",
              "\n",
              "    .dataframe thead th {\n",
              "        text-align: right;\n",
              "    }\n",
              "</style>\n",
              "<table border=\"1\" class=\"dataframe\">\n",
              "  <thead>\n",
              "    <tr style=\"text-align: right;\">\n",
              "      <th></th>\n",
              "      <th>Date</th>\n",
              "      <th>Open</th>\n",
              "      <th>High</th>\n",
              "      <th>Low</th>\n",
              "      <th>Close</th>\n",
              "      <th>Adj Close</th>\n",
              "      <th>Volume</th>\n",
              "    </tr>\n",
              "  </thead>\n",
              "  <tbody>\n",
              "    <tr>\n",
              "      <th>0</th>\n",
              "      <td>1997-05-15</td>\n",
              "      <td>2.437500</td>\n",
              "      <td>2.500000</td>\n",
              "      <td>1.927083</td>\n",
              "      <td>1.958333</td>\n",
              "      <td>1.958333</td>\n",
              "      <td>72156000</td>\n",
              "    </tr>\n",
              "    <tr>\n",
              "      <th>1</th>\n",
              "      <td>1997-05-16</td>\n",
              "      <td>1.968750</td>\n",
              "      <td>1.979167</td>\n",
              "      <td>1.708333</td>\n",
              "      <td>1.729167</td>\n",
              "      <td>1.729167</td>\n",
              "      <td>14700000</td>\n",
              "    </tr>\n",
              "    <tr>\n",
              "      <th>2</th>\n",
              "      <td>1997-05-19</td>\n",
              "      <td>1.760417</td>\n",
              "      <td>1.770833</td>\n",
              "      <td>1.625000</td>\n",
              "      <td>1.708333</td>\n",
              "      <td>1.708333</td>\n",
              "      <td>6106800</td>\n",
              "    </tr>\n",
              "    <tr>\n",
              "      <th>3</th>\n",
              "      <td>1997-05-20</td>\n",
              "      <td>1.729167</td>\n",
              "      <td>1.750000</td>\n",
              "      <td>1.635417</td>\n",
              "      <td>1.635417</td>\n",
              "      <td>1.635417</td>\n",
              "      <td>5467200</td>\n",
              "    </tr>\n",
              "    <tr>\n",
              "      <th>4</th>\n",
              "      <td>1997-05-21</td>\n",
              "      <td>1.635417</td>\n",
              "      <td>1.645833</td>\n",
              "      <td>1.375000</td>\n",
              "      <td>1.427083</td>\n",
              "      <td>1.427083</td>\n",
              "      <td>18853200</td>\n",
              "    </tr>\n",
              "    <tr>\n",
              "      <th>...</th>\n",
              "      <td>...</td>\n",
              "      <td>...</td>\n",
              "      <td>...</td>\n",
              "      <td>...</td>\n",
              "      <td>...</td>\n",
              "      <td>...</td>\n",
              "      <td>...</td>\n",
              "    </tr>\n",
              "    <tr>\n",
              "      <th>5173</th>\n",
              "      <td>2017-12-04</td>\n",
              "      <td>1173.849976</td>\n",
              "      <td>1175.199951</td>\n",
              "      <td>1128.000000</td>\n",
              "      <td>1133.949951</td>\n",
              "      <td>1133.949951</td>\n",
              "      <td>5931900</td>\n",
              "    </tr>\n",
              "    <tr>\n",
              "      <th>5174</th>\n",
              "      <td>2017-12-05</td>\n",
              "      <td>1128.260010</td>\n",
              "      <td>1159.270020</td>\n",
              "      <td>1124.739990</td>\n",
              "      <td>1141.569946</td>\n",
              "      <td>1141.569946</td>\n",
              "      <td>4079800</td>\n",
              "    </tr>\n",
              "    <tr>\n",
              "      <th>5175</th>\n",
              "      <td>2017-12-06</td>\n",
              "      <td>1137.989990</td>\n",
              "      <td>1155.890015</td>\n",
              "      <td>1136.079956</td>\n",
              "      <td>1152.349976</td>\n",
              "      <td>1152.349976</td>\n",
              "      <td>2853300</td>\n",
              "    </tr>\n",
              "    <tr>\n",
              "      <th>5176</th>\n",
              "      <td>2017-12-07</td>\n",
              "      <td>1156.589966</td>\n",
              "      <td>1163.189941</td>\n",
              "      <td>1151.000000</td>\n",
              "      <td>1159.790039</td>\n",
              "      <td>1159.790039</td>\n",
              "      <td>2508800</td>\n",
              "    </tr>\n",
              "    <tr>\n",
              "      <th>5177</th>\n",
              "      <td>2017-12-08</td>\n",
              "      <td>1170.400024</td>\n",
              "      <td>1172.750000</td>\n",
              "      <td>1157.099976</td>\n",
              "      <td>1162.000000</td>\n",
              "      <td>1162.000000</td>\n",
              "      <td>2711530</td>\n",
              "    </tr>\n",
              "  </tbody>\n",
              "</table>\n",
              "<p>5178 rows × 7 columns</p>\n",
              "</div>\n",
              "      <button class=\"colab-df-convert\" onclick=\"convertToInteractive('df-c3ea58c0-13db-4ab3-b8b5-a4f901e02ff6')\"\n",
              "              title=\"Convert this dataframe to an interactive table.\"\n",
              "              style=\"display:none;\">\n",
              "        \n",
              "  <svg xmlns=\"http://www.w3.org/2000/svg\" height=\"24px\"viewBox=\"0 0 24 24\"\n",
              "       width=\"24px\">\n",
              "    <path d=\"M0 0h24v24H0V0z\" fill=\"none\"/>\n",
              "    <path d=\"M18.56 5.44l.94 2.06.94-2.06 2.06-.94-2.06-.94-.94-2.06-.94 2.06-2.06.94zm-11 1L8.5 8.5l.94-2.06 2.06-.94-2.06-.94L8.5 2.5l-.94 2.06-2.06.94zm10 10l.94 2.06.94-2.06 2.06-.94-2.06-.94-.94-2.06-.94 2.06-2.06.94z\"/><path d=\"M17.41 7.96l-1.37-1.37c-.4-.4-.92-.59-1.43-.59-.52 0-1.04.2-1.43.59L10.3 9.45l-7.72 7.72c-.78.78-.78 2.05 0 2.83L4 21.41c.39.39.9.59 1.41.59.51 0 1.02-.2 1.41-.59l7.78-7.78 2.81-2.81c.8-.78.8-2.07 0-2.86zM5.41 20L4 18.59l7.72-7.72 1.47 1.35L5.41 20z\"/>\n",
              "  </svg>\n",
              "      </button>\n",
              "      \n",
              "  <style>\n",
              "    .colab-df-container {\n",
              "      display:flex;\n",
              "      flex-wrap:wrap;\n",
              "      gap: 12px;\n",
              "    }\n",
              "\n",
              "    .colab-df-convert {\n",
              "      background-color: #E8F0FE;\n",
              "      border: none;\n",
              "      border-radius: 50%;\n",
              "      cursor: pointer;\n",
              "      display: none;\n",
              "      fill: #1967D2;\n",
              "      height: 32px;\n",
              "      padding: 0 0 0 0;\n",
              "      width: 32px;\n",
              "    }\n",
              "\n",
              "    .colab-df-convert:hover {\n",
              "      background-color: #E2EBFA;\n",
              "      box-shadow: 0px 1px 2px rgba(60, 64, 67, 0.3), 0px 1px 3px 1px rgba(60, 64, 67, 0.15);\n",
              "      fill: #174EA6;\n",
              "    }\n",
              "\n",
              "    [theme=dark] .colab-df-convert {\n",
              "      background-color: #3B4455;\n",
              "      fill: #D2E3FC;\n",
              "    }\n",
              "\n",
              "    [theme=dark] .colab-df-convert:hover {\n",
              "      background-color: #434B5C;\n",
              "      box-shadow: 0px 1px 3px 1px rgba(0, 0, 0, 0.15);\n",
              "      filter: drop-shadow(0px 1px 2px rgba(0, 0, 0, 0.3));\n",
              "      fill: #FFFFFF;\n",
              "    }\n",
              "  </style>\n",
              "\n",
              "      <script>\n",
              "        const buttonEl =\n",
              "          document.querySelector('#df-c3ea58c0-13db-4ab3-b8b5-a4f901e02ff6 button.colab-df-convert');\n",
              "        buttonEl.style.display =\n",
              "          google.colab.kernel.accessAllowed ? 'block' : 'none';\n",
              "\n",
              "        async function convertToInteractive(key) {\n",
              "          const element = document.querySelector('#df-c3ea58c0-13db-4ab3-b8b5-a4f901e02ff6');\n",
              "          const dataTable =\n",
              "            await google.colab.kernel.invokeFunction('convertToInteractive',\n",
              "                                                     [key], {});\n",
              "          if (!dataTable) return;\n",
              "\n",
              "          const docLinkHtml = 'Like what you see? Visit the ' +\n",
              "            '<a target=\"_blank\" href=https://colab.research.google.com/notebooks/data_table.ipynb>data table notebook</a>'\n",
              "            + ' to learn more about interactive tables.';\n",
              "          element.innerHTML = '';\n",
              "          dataTable['output_type'] = 'display_data';\n",
              "          await google.colab.output.renderOutput(dataTable, element);\n",
              "          const docLink = document.createElement('div');\n",
              "          docLink.innerHTML = docLinkHtml;\n",
              "          element.appendChild(docLink);\n",
              "        }\n",
              "      </script>\n",
              "    </div>\n",
              "  </div>\n",
              "  "
            ]
          },
          "metadata": {},
          "execution_count": 3
        }
      ]
    },
    {
      "cell_type": "code",
      "source": [
        "# 필요없는 항목(Volume : 거래량) 제거\n",
        "X = df.drop(columns = ['Volume','Date'])\n",
        "# y값은 Adj Close 로 지정 ( 종가 )\n",
        "y = df.iloc[:, 5:6]\n",
        "\n",
        "print (X)\n",
        "print (y)"
      ],
      "metadata": {
        "colab": {
          "base_uri": "https://localhost:8080/"
        },
        "id": "6U7h5DNU8SYI",
        "outputId": "2c78e831-94c2-45ae-c549-276667207d39"
      },
      "execution_count": 4,
      "outputs": [
        {
          "output_type": "stream",
          "name": "stdout",
          "text": [
            "             Open         High          Low        Close    Adj Close\n",
            "0        2.437500     2.500000     1.927083     1.958333     1.958333\n",
            "1        1.968750     1.979167     1.708333     1.729167     1.729167\n",
            "2        1.760417     1.770833     1.625000     1.708333     1.708333\n",
            "3        1.729167     1.750000     1.635417     1.635417     1.635417\n",
            "4        1.635417     1.645833     1.375000     1.427083     1.427083\n",
            "...           ...          ...          ...          ...          ...\n",
            "5173  1173.849976  1175.199951  1128.000000  1133.949951  1133.949951\n",
            "5174  1128.260010  1159.270020  1124.739990  1141.569946  1141.569946\n",
            "5175  1137.989990  1155.890015  1136.079956  1152.349976  1152.349976\n",
            "5176  1156.589966  1163.189941  1151.000000  1159.790039  1159.790039\n",
            "5177  1170.400024  1172.750000  1157.099976  1162.000000  1162.000000\n",
            "\n",
            "[5178 rows x 5 columns]\n",
            "        Adj Close\n",
            "0        1.958333\n",
            "1        1.729167\n",
            "2        1.708333\n",
            "3        1.635417\n",
            "4        1.427083\n",
            "...           ...\n",
            "5173  1133.949951\n",
            "5174  1141.569946\n",
            "5175  1152.349976\n",
            "5176  1159.790039\n",
            "5177  1162.000000\n",
            "\n",
            "[5178 rows x 1 columns]\n"
          ]
        }
      ]
    },
    {
      "cell_type": "code",
      "source": [
        "scaler = StandardScaler()\n",
        "scaler.fit(X)\n",
        "scaler.fit(y)\n",
        "X_scale = scaler.fit_transform(X)\n",
        "y_scale = scaler.fit_transform(y)\n",
        "\n",
        "# train, test data set 나누기\n",
        "x_train, x_test, y_train, y_test = train_test_split(X_scale, y_scale, test_size = 0.3, shuffle = True, random_state = 1234)\n",
        "\n",
        "# train set\n",
        "print(\"x_train의 크기: \",x_train.shape)\n",
        "print(\"y_train의 크기: \",y_train.shape)\n",
        "\n",
        "# test set\n",
        "print(\"x_test의 크기: \",x_test.shape)\n",
        "print(\"y_test의 크기: \",y_test.shape)\n",
        "\n",
        "# data 텐서로 변환\n",
        "x_train_tensor = torch.FloatTensor(x_train)\n",
        "y_train_tensor = torch.FloatTensor(y_train)\n",
        "x_test_tensor = torch.FloatTensor(x_test)\n",
        "y_test_tensor = torch.FloatTensor(y_test)\n",
        "\n",
        "X_train_tensors_final = torch.reshape(x_train_tensor,   \n",
        "                        (x_train_tensor.shape[0], 1, x_train_tensor.shape[1]))\n",
        "X_test_tensors_final = torch.reshape(x_test_tensor,  \n",
        "                        (x_test_tensor.shape[0], 1, x_test_tensor.shape[1])) \n",
        "\n",
        "# train set\n",
        "print(\"x_train_shape: \",x_train_tensor.shape)\n",
        "print(\"y_train_shape:: \",y_train_tensor.shape)\n",
        "\n",
        "# test set\n",
        "print(\"x_test_shape: \",x_test_tensor.shape)\n",
        "print(\"y_test_shape: \",y_test_tensor.shape)"
      ],
      "metadata": {
        "colab": {
          "base_uri": "https://localhost:8080/"
        },
        "id": "VaxxB87Obd9F",
        "outputId": "680dceba-943d-4a6c-cfe7-012775f32a6d"
      },
      "execution_count": 13,
      "outputs": [
        {
          "output_type": "stream",
          "name": "stdout",
          "text": [
            "x_train의 크기:  (3624, 5)\n",
            "y_train의 크기:  (3624, 1)\n",
            "x_test의 크기:  (1554, 5)\n",
            "y_test의 크기:  (1554, 1)\n",
            "x_train_shape:  torch.Size([3624, 5])\n",
            "y_train_shape::  torch.Size([3624, 1])\n",
            "x_test_shape:  torch.Size([1554, 5])\n",
            "y_test_shape:  torch.Size([1554, 1])\n"
          ]
        }
      ]
    },
    {
      "cell_type": "markdown",
      "source": [
        "[2] Model\n",
        "\n",
        "- LSTM 사용 (시계열에 유용)"
      ],
      "metadata": {
        "id": "usBQHqypf5Fp"
      }
    },
    {
      "cell_type": "code",
      "source": [
        "\n",
        "class LSTM(nn.Module):\n",
        "  def __init__(self, num_classes, input_size, hidden_size, num_layers, seq_length):\n",
        "    super(LSTM, self).__init__()\n",
        "    self.num_classes = num_classes\n",
        "    self.num_layers = num_layers\n",
        "    self.input_size = input_size\n",
        "    self.hidden_size = hidden_size\n",
        "    self.seq_length = seq_length\n",
        "\n",
        "    self.lstm = nn.LSTM(input_size = input_size, hidden_size = hidden_size,\n",
        "                         num_layers = num_layers, batch_first = True)\n",
        "    self.layer1 = nn.Linear(hidden_size, 256)\n",
        "    self.layer2 = nn.Linear(256, 256)\n",
        "    self.layer3 = nn.Linear(256, 128)\n",
        "    self.layer_out = nn.Linear(128, num_classes)\n",
        "    self.relu = nn.ReLU()\n",
        "  \n",
        "  def forward(self, x):\n",
        "    # hidden state\n",
        "    h_0 = torch.zeros(self.num_layers, x.size(0), self.hidden_size).to(device)\n",
        "    # internal process state\n",
        "    c_0 = torch.zeros(self.num_layers, x.size(0), self.hidden_size).to(device)\n",
        "\n",
        "    output, (hn, cn) = self.lstm(x, (h_0, c_0))\n",
        "\n",
        "    # Data reshaping\n",
        "    hn = hn.view(-1, self.hidden_size)\n",
        "\n",
        "    out = self.relu(hn)\n",
        "    out = self.layer1(out)\n",
        "    out = self.relu(out)\n",
        "    out = self.layer2(out)\n",
        "    out = self.relu(out)\n",
        "    out = self.layer3(out)\n",
        "    out = self.relu(out)\n",
        "    out = self.layer_out(out)\n",
        "\n",
        "    return out\n"
      ],
      "metadata": {
        "id": "-4AmplTbf1Jb"
      },
      "execution_count": 6,
      "outputs": []
    },
    {
      "cell_type": "code",
      "source": [
        "# Parameter\n",
        "\n",
        "num_epoch = 5000\n",
        "learning_rate = 0.01\n",
        "\n",
        "input_size = 5\n",
        "hidden_size = 2\n",
        "num_layers = 1\n",
        "num_classes = 1"
      ],
      "metadata": {
        "id": "trA97gzAjwT_"
      },
      "execution_count": 29,
      "outputs": []
    },
    {
      "cell_type": "code",
      "source": [
        "lstm = LSTM(num_classes, input_size, hidden_size, num_layers, x_train_tensor.shape[1])\n",
        "loss_function = torch.nn.MSELoss() \n",
        "optimizer = optim.Adam(lstm.parameters(), lr = learning_rate)"
      ],
      "metadata": {
        "id": "XOuAI2Y0km7b"
      },
      "execution_count": 30,
      "outputs": []
    },
    {
      "cell_type": "markdown",
      "source": [
        "[3] Training"
      ],
      "metadata": {
        "id": "3BXju8CLlhIw"
      }
    },
    {
      "cell_type": "code",
      "source": [
        "loss_list = []\n",
        "for epoch in range(num_epoch):\n",
        "  outputs = lstm.forward(X_train_tensors_final.to(device))\n",
        "  optimizer.zero_grad()\n",
        "\n",
        "  loss = loss_function(outputs, y_train_tensor.to(device))\n",
        "  loss_list.append(loss)\n",
        "  loss.backward()\n",
        "\n",
        "  optimizer.step()\n",
        "  if epoch%100 == 0:\n",
        "    print('Epoch: {}, loss: {}%'.format(epoch, loss.item())) "
      ],
      "metadata": {
        "colab": {
          "base_uri": "https://localhost:8080/"
        },
        "id": "dMHXVlXIliqI",
        "outputId": "50da6475-bf7a-4ebd-904a-68a1dac9771b"
      },
      "execution_count": 34,
      "outputs": [
        {
          "output_type": "stream",
          "name": "stdout",
          "text": [
            "Epoch:  0, loss: 2.2077096218708903e-05%\n",
            "Epoch: 100, loss: 2.127275183738675e-05%\n",
            "Epoch: 200, loss: 2.0582814613590017e-05%\n",
            "Epoch: 300, loss: 3.575272421585396e-05%\n",
            "Epoch: 400, loss: 1.936333137564361e-05%\n",
            "Epoch: 500, loss: 1.9962526494055055e-05%\n",
            "Epoch: 600, loss: 1.80546358024003e-05%\n",
            "Epoch: 700, loss: 1.9050599803449586e-05%\n",
            "Epoch: 800, loss: 2.0015522750327364e-05%\n",
            "Epoch: 900, loss: 1.688263910182286e-05%\n",
            "Epoch: 1000, loss: 5.2988052630098537e-05%\n",
            "Epoch: 1100, loss: 2.1028063201811165e-05%\n",
            "Epoch: 1200, loss: 1.6610960301477462e-05%\n",
            "Epoch: 1300, loss: 1.5315399650717154e-05%\n",
            "Epoch: 1400, loss: 1.7040836610249244e-05%\n",
            "Epoch: 1500, loss: 1.536089985165745e-05%\n",
            "Epoch: 1600, loss: 7.4925490480382e-05%\n",
            "Epoch: 1700, loss: 0.0002359252393944189%\n",
            "Epoch: 1800, loss: 1.3858189959137235e-05%\n",
            "Epoch: 1900, loss: 0.00014849886065348983%\n",
            "Epoch: 2000, loss: 1.4681935681437608e-05%\n",
            "Epoch: 2100, loss: 1.337313005933538e-05%\n",
            "Epoch: 2200, loss: 1.2888634955743328e-05%\n",
            "Epoch: 2300, loss: 1.2523923032858875e-05%\n",
            "Epoch: 2400, loss: 1.4170524082146585e-05%\n",
            "Epoch: 2500, loss: 2.7094665711047128e-05%\n",
            "Epoch: 2600, loss: 1.2926654562761541e-05%\n",
            "Epoch: 2700, loss: 1.4765888408874162e-05%\n",
            "Epoch: 2800, loss: 2.7552056053536944e-05%\n",
            "Epoch: 2900, loss: 1.606934347364586e-05%\n",
            "Epoch: 3000, loss: 1.354093365080189e-05%\n",
            "Epoch: 3100, loss: 6.692716851830482e-05%\n",
            "Epoch: 3200, loss: 1.1348297448421363e-05%\n",
            "Epoch: 3300, loss: 7.370908133452758e-05%\n",
            "Epoch: 3400, loss: 1.7114016372943297e-05%\n",
            "Epoch: 3500, loss: 1.5588619135087356e-05%\n",
            "Epoch: 3600, loss: 1.4901393114996608e-05%\n",
            "Epoch: 3700, loss: 2.2691701815347187e-05%\n",
            "Epoch: 3800, loss: 4.1858602344291285e-05%\n",
            "Epoch: 3900, loss: 1.3811380085826386e-05%\n",
            "Epoch: 4000, loss: 3.446469418122433e-05%\n",
            "Epoch: 4100, loss: 1.2973483535461128e-05%\n",
            "Epoch: 4200, loss: 1.4415697478398215e-05%\n",
            "Epoch: 4300, loss: 1.2589615835167933e-05%\n",
            "Epoch: 4400, loss: 1.1936745067941956e-05%\n",
            "Epoch: 4500, loss: 1.1542659194674343e-05%\n",
            "Epoch: 4600, loss: 1.124414848163724e-05%\n",
            "Epoch: 4700, loss: 1.9619563317974098e-05%\n",
            "Epoch: 4800, loss: 1.1303188330202829e-05%\n",
            "Epoch: 4900, loss: 1.4084041140449699e-05%\n"
          ]
        }
      ]
    },
    {
      "cell_type": "code",
      "source": [
        "test_predict = lstm(X_train_tensors_final.to(device))\n",
        "predict = test_predict.data.detach().numpy()\n",
        "\n",
        "real = y_train_tensor.data.numpy()\n",
        "\n",
        "# Plotting\n",
        "plt.figure(figsize = (10,6)) \n",
        "plt.plot(real, label = 'Real Data')\n",
        "plt.plot(predict, label = 'predicted data')\n",
        "plt.title('Time series prediction')\n",
        "\n",
        "plt.legend()\n",
        "\n",
        "plt.show()\n",
        "\n",
        "# 잘 예측해 거의 겹쳐짐 확인"
      ],
      "metadata": {
        "colab": {
          "base_uri": "https://localhost:8080/",
          "height": 390
        },
        "id": "fFqYKw6CzN9x",
        "outputId": "ef4967fb-28ff-41e2-b529-8d2fef40e951"
      },
      "execution_count": 51,
      "outputs": [
        {
          "output_type": "display_data",
          "data": {
            "text/plain": [
              "<Figure size 720x432 with 1 Axes>"
            ],
            "image/png": "[encoded data removed]"
          },
          "metadata": {
            "needs_background": "light"
          }
        }
      ]
    }
  ]
}