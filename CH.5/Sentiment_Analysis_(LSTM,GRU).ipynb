{
  "nbformat": 4,
  "nbformat_minor": 0,
  "metadata": {
    "colab": {
      "name": "Untitled11.ipynb",
      "provenance": [],
      "authorship_tag": "ABX9TyPWEiuTB2Lad0M6/hHQDFfR",
      "include_colab_link": true
    },
    "kernelspec": {
      "name": "python3",
      "display_name": "Python 3"
    },
    "language_info": {
      "name": "python"
    }
  },
  "cells": [
    {
      "cell_type": "markdown",
      "metadata": {
        "id": "view-in-github",
        "colab_type": "text"
      },
      "source": [
        "<a href=\"https://colab.research.google.com/github/simseoyoung/Deep-Learning/blob/main/CH.5/Sentiment_Analysis_(LSTM%2CGRU).ipynb\" target=\"_parent\"><img src=\"https://colab.research.google.com/assets/colab-badge.svg\" alt=\"Open In Colab\"/></a>"
      ]
    },
    {
      "cell_type": "markdown",
      "source": [
        "#Sentiment Analysis\n",
        "\n",
        "- IMDB dataset으로 리뷰 감성 분류\n",
        "- one-hot encoding 사용\n",
        "- LSTM과 GRU 모델 비교"
      ],
      "metadata": {
        "id": "97Vohy9tA3ve"
      }
    },
    {
      "cell_type": "code",
      "execution_count": 15,
      "metadata": {
        "id": "Ju-kdmIeAamf"
      },
      "outputs": [],
      "source": [
        "import torch\n",
        "import torch.nn as nn\n",
        "import torch.nn.functional as F\n",
        "from tensorflow.keras.datasets import imdb\n",
        "from sklearn.model_selection import train_test_split\n",
        "import numpy as np\n",
        "import matplotlib.pyplot as plt\n",
        "from tensorflow import keras\n",
        "from keras.layers.embeddings import Embedding\n"
      ]
    },
    {
      "cell_type": "markdown",
      "source": [
        "[1] Data"
      ],
      "metadata": {
        "id": "Nq5sWVzRDRVz"
      }
    },
    {
      "cell_type": "code",
      "source": [
        "(x_train, y_train), (x_test, y_test) = imdb.load_data(num_words = 500)\n",
        "print (x_train.shape, x_test.shape)\n",
        "\n",
        "print(x_train[0])\n",
        "# 리뷰의 형태가 여러 개의 정수로 이루어져 있음(텍스트가 아닌 숫자로 데이터가 이루어져있음)\n",
        "\n",
        "# 문자로 확인\n",
        "word_to_index = imdb.get_word_index()\n",
        "index_to_word = {}\n",
        "\n",
        "for key, value in word_to_index.items():\n",
        "  index_to_word[value+3] = key\n",
        "  # 0, 1, 2, 3은 특별 token(0: padding, 1: 문장 시작, 2: 미확인)으로 3을 더해서 배열에 저장\n",
        "\n",
        "for index, token in enumerate((\"<pad>\", \"<sos>\", \"<unknown>\")):\n",
        "  index_to_word[index] = token\n",
        "\n",
        "print(''.join([index_to_word[index] for index in x_train[0]]))\n",
        "\n",
        "print(y_train[:20])\n",
        "# 1 : 긍정, 0 : 부정"
      ],
      "metadata": {
        "colab": {
          "base_uri": "https://localhost:8080/"
        },
        "id": "bs60abfmBdq0",
        "outputId": "e2beb252-f320-4ee8-facb-1eb6f1a1c4a0"
      },
      "execution_count": 2,
      "outputs": [
        {
          "output_type": "stream",
          "name": "stdout",
          "text": [
            "Downloading data from https://storage.googleapis.com/tensorflow/tf-keras-datasets/imdb.npz\n",
            "17465344/17464789 [==============================] - 1s 0us/step\n",
            "17473536/17464789 [==============================] - 1s 0us/step\n",
            "(25000,) (25000,)\n",
            "[1, 14, 22, 16, 43, 2, 2, 2, 2, 65, 458, 2, 66, 2, 4, 173, 36, 256, 5, 25, 100, 43, 2, 112, 50, 2, 2, 9, 35, 480, 284, 5, 150, 4, 172, 112, 167, 2, 336, 385, 39, 4, 172, 2, 2, 17, 2, 38, 13, 447, 4, 192, 50, 16, 6, 147, 2, 19, 14, 22, 4, 2, 2, 469, 4, 22, 71, 87, 12, 16, 43, 2, 38, 76, 15, 13, 2, 4, 22, 17, 2, 17, 12, 16, 2, 18, 2, 5, 62, 386, 12, 8, 316, 8, 106, 5, 4, 2, 2, 16, 480, 66, 2, 33, 4, 130, 12, 16, 38, 2, 5, 25, 124, 51, 36, 135, 48, 25, 2, 33, 6, 22, 12, 215, 28, 77, 52, 5, 14, 407, 16, 82, 2, 8, 4, 107, 117, 2, 15, 256, 4, 2, 7, 2, 5, 2, 36, 71, 43, 2, 476, 26, 400, 317, 46, 7, 4, 2, 2, 13, 104, 88, 4, 381, 15, 297, 98, 32, 2, 56, 26, 141, 6, 194, 2, 18, 4, 226, 22, 21, 134, 476, 26, 480, 5, 144, 30, 2, 18, 51, 36, 28, 224, 92, 25, 104, 4, 226, 65, 16, 38, 2, 88, 12, 16, 283, 5, 16, 2, 113, 103, 32, 15, 16, 2, 19, 178, 32]\n",
            "Downloading data from https://storage.googleapis.com/tensorflow/tf-keras-datasets/imdb_word_index.json\n",
            "1646592/1641221 [==============================] - 0s 0us/step\n",
            "1654784/1641221 [==============================] - 0s 0us/step\n",
            "<sos>thisfilmwasjust<unknown><unknown><unknown><unknown>storydirection<unknown>really<unknown>theparttheyplayedandyoucouldjust<unknown>beingthere<unknown><unknown>isanamazingactorandnowthesamebeingdirector<unknown>fathercamefromthesame<unknown><unknown>as<unknown>soilovedthefacttherewasareal<unknown>withthisfilmthe<unknown><unknown>throughoutthefilmweregreatitwasjust<unknown>somuchthati<unknown>thefilmas<unknown>asitwas<unknown>for<unknown>andwouldrecommendittoeveryonetowatchandthe<unknown><unknown>wasamazingreally<unknown>attheenditwasso<unknown>andyouknowwhattheysayifyou<unknown>atafilmitmusthavebeengoodandthisdefinitelywasalso<unknown>tothetwolittle<unknown>thatplayedthe<unknown>of<unknown>and<unknown>theywerejust<unknown>childrenareoftenleftoutofthe<unknown><unknown>ithinkbecausethestarsthatplaythemall<unknown>uparesuchabig<unknown>forthewholefilmbutthesechildrenareamazingandshouldbe<unknown>forwhattheyhavedonedon'tyouthinkthewholestorywasso<unknown>becauseitwastrueandwas<unknown>lifeafterallthatwas<unknown>withusall\n",
            "[1 0 0 1 0 0 1 0 1 0 1 0 0 0 0 0 1 1 0 1]\n"
          ]
        }
      ]
    },
    {
      "cell_type": "code",
      "source": [
        "x_train, x_test, y_train, y_test = train_test_split(x_train, y_train, test_size = 0.3, random_state = 1234)\n",
        "\n",
        "print(x_train.shape)\n",
        "print(x_test.shape)\n",
        "print(y_train.shape)\n",
        "print(y_test.shape)"
      ],
      "metadata": {
        "colab": {
          "base_uri": "https://localhost:8080/"
        },
        "id": "usorv1bvDPm1",
        "outputId": "9e75f254-b175-45ed-b8af-23c8dc382d01"
      },
      "execution_count": 4,
      "outputs": [
        {
          "output_type": "stream",
          "name": "stdout",
          "text": [
            "(12250,)\n",
            "(5250,)\n",
            "(12250,)\n",
            "(5250,)\n"
          ]
        }
      ]
    },
    {
      "cell_type": "code",
      "source": [
        "# x_train, x_test의 리뷰 길이가 너무 길기 때문에 리뷰 하나 당 길이를 맞춰줌\n",
        "x_train = keras.preprocessing.sequence.pad_sequences(x_train, maxlen=50)\n",
        "x_test = keras.preprocessing.sequence.pad_sequences(x_test, maxlen=50)\n",
        "\n",
        "print(x_train[0])"
      ],
      "metadata": {
        "colab": {
          "base_uri": "https://localhost:8080/"
        },
        "id": "SWAmkVWUYs-k",
        "outputId": "dfce6c4e-0dac-4b1b-c3fa-7b8daeb799d7"
      },
      "execution_count": 8,
      "outputs": [
        {
          "output_type": "stream",
          "name": "stdout",
          "text": [
            "[ 94   2   2   5   2   8   2 139 141  17 372   2   2   6   2  19   4   2\n",
            "   2  68   2   2   2 389 302  10  10   2   2  59   2   8   2   2  41 336\n",
            "   2   8   2 409  17  18  14  22  12  80   2  91  13 104]\n"
          ]
        }
      ]
    },
    {
      "cell_type": "markdown",
      "source": [
        "[2] Model"
      ],
      "metadata": {
        "id": "iU2LNoTUX_sK"
      }
    },
    {
      "cell_type": "code",
      "source": [
        "model = keras.Sequential()\n",
        "\n",
        "model.add(Embedding(input_dim = 12250, output_dim = 32, input_length = 50))\n",
        "# input_dim = x_train의 단어 수, input_length = maxlen = 50\n",
        "#model.add(keras.layers.LSTM(units = 100))\n",
        "model.add(keras.layers.GRU(128))\n",
        "model.add(keras.layers.Dense(units = 1 , activation = 'sigmoid'))\n",
        "model.compile(loss = 'binary_crossentropy', optimizer = 'adam', metrics = ['accuracy'])\n",
        "history = model.fit(x_train, y_train, epochs = 30, batch_size = 64)\n",
        "loss, acc = model.evaluate(x_test, y_test)\n",
        "print('loss : ', round(loss,3))\n",
        "print('accuracy : ', round(acc,3))"
      ],
      "metadata": {
        "colab": {
          "base_uri": "https://localhost:8080/"
        },
        "id": "TDR_tNd7D3Ox",
        "outputId": "dd3b8edd-1ba5-4eb0-fbba-1aaa2f5a727d"
      },
      "execution_count": 18,
      "outputs": [
        {
          "output_type": "stream",
          "name": "stdout",
          "text": [
            "Epoch 1/30\n",
            "192/192 [==============================] - 20s 96ms/step - loss: 0.6246 - accuracy: 0.6300\n",
            "Epoch 2/30\n",
            "192/192 [==============================] - 18s 95ms/step - loss: 0.5044 - accuracy: 0.7517\n",
            "Epoch 3/30\n",
            "192/192 [==============================] - 15s 77ms/step - loss: 0.4864 - accuracy: 0.7602\n",
            "Epoch 4/30\n",
            "192/192 [==============================] - 15s 77ms/step - loss: 0.4696 - accuracy: 0.7752\n",
            "Epoch 5/30\n",
            "192/192 [==============================] - 15s 78ms/step - loss: 0.4590 - accuracy: 0.7788\n",
            "Epoch 6/30\n",
            "192/192 [==============================] - 15s 78ms/step - loss: 0.4446 - accuracy: 0.7853\n",
            "Epoch 7/30\n",
            "192/192 [==============================] - 15s 78ms/step - loss: 0.4339 - accuracy: 0.7936\n",
            "Epoch 8/30\n",
            "192/192 [==============================] - 15s 80ms/step - loss: 0.4273 - accuracy: 0.7982\n",
            "Epoch 9/30\n",
            "192/192 [==============================] - 15s 79ms/step - loss: 0.4162 - accuracy: 0.8057\n",
            "Epoch 10/30\n",
            "192/192 [==============================] - 15s 80ms/step - loss: 0.4112 - accuracy: 0.8068\n",
            "Epoch 11/30\n",
            "192/192 [==============================] - 15s 78ms/step - loss: 0.4024 - accuracy: 0.8125\n",
            "Epoch 12/30\n",
            "192/192 [==============================] - 15s 78ms/step - loss: 0.3961 - accuracy: 0.8149\n",
            "Epoch 13/30\n",
            "192/192 [==============================] - 15s 77ms/step - loss: 0.3892 - accuracy: 0.8172\n",
            "Epoch 14/30\n",
            "192/192 [==============================] - 15s 77ms/step - loss: 0.3806 - accuracy: 0.8251\n",
            "Epoch 15/30\n",
            "192/192 [==============================] - 15s 79ms/step - loss: 0.3759 - accuracy: 0.8264\n",
            "Epoch 16/30\n",
            "192/192 [==============================] - 15s 77ms/step - loss: 0.3656 - accuracy: 0.8324\n",
            "Epoch 17/30\n",
            "192/192 [==============================] - 17s 86ms/step - loss: 0.3595 - accuracy: 0.8356\n",
            "Epoch 18/30\n",
            "192/192 [==============================] - 15s 76ms/step - loss: 0.3497 - accuracy: 0.8404\n",
            "Epoch 19/30\n",
            "192/192 [==============================] - 15s 77ms/step - loss: 0.3400 - accuracy: 0.8456\n",
            "Epoch 20/30\n",
            "192/192 [==============================] - 15s 77ms/step - loss: 0.3286 - accuracy: 0.8526\n",
            "Epoch 21/30\n",
            "192/192 [==============================] - 15s 77ms/step - loss: 0.3185 - accuracy: 0.8593\n",
            "Epoch 22/30\n",
            "192/192 [==============================] - 15s 77ms/step - loss: 0.3095 - accuracy: 0.8616\n",
            "Epoch 23/30\n",
            "192/192 [==============================] - 15s 77ms/step - loss: 0.3005 - accuracy: 0.8681\n",
            "Epoch 24/30\n",
            "192/192 [==============================] - 15s 77ms/step - loss: 0.2858 - accuracy: 0.8708\n",
            "Epoch 25/30\n",
            "192/192 [==============================] - 15s 77ms/step - loss: 0.2699 - accuracy: 0.8845\n",
            "Epoch 26/30\n",
            "192/192 [==============================] - 15s 76ms/step - loss: 0.2601 - accuracy: 0.8879\n",
            "Epoch 27/30\n",
            "192/192 [==============================] - 15s 76ms/step - loss: 0.2466 - accuracy: 0.8945\n",
            "Epoch 28/30\n",
            "192/192 [==============================] - 15s 77ms/step - loss: 0.2466 - accuracy: 0.8967\n",
            "Epoch 29/30\n",
            "192/192 [==============================] - 15s 77ms/step - loss: 0.2217 - accuracy: 0.9067\n",
            "Epoch 30/30\n",
            "192/192 [==============================] - 15s 77ms/step - loss: 0.2084 - accuracy: 0.9153\n",
            "165/165 [==============================] - 3s 13ms/step - loss: 0.8202 - accuracy: 0.7293\n",
            "loss :  0.82\n",
            "accuracy :  0.729\n"
          ]
        }
      ]
    },
    {
      "cell_type": "code",
      "source": [
        "# 그래프로 loss와 accuracy 나타내기\n",
        "plt.plot(history.history['loss'])\n",
        "plt.xlabel('epoch')\n",
        "plt.ylabel('loss')\n",
        "plt.title('Loss')\n",
        "plt.show()\n",
        "plt.plot(history.history['accuracy'],'g')\n",
        "plt.xlabel('epoch')\n",
        "plt.ylabel('accuracy')\n",
        "plt.title('Accuracy')\n",
        "plt.show()"
      ],
      "metadata": {
        "colab": {
          "base_uri": "https://localhost:8080/",
          "height": 573
        },
        "id": "Lv3LW72ebQ4n",
        "outputId": "861139f2-3376-469d-ad4f-2ce914ee8a32"
      },
      "execution_count": 24,
      "outputs": [
        {
          "output_type": "display_data",
          "data": {
            "text/plain": [
              "<Figure size 432x288 with 1 Axes>"
            ],
            "image/png": "[encoded data removed]"
          },
          "metadata": {
            "needs_background": "light"
          }
        },
        {
          "output_type": "display_data",
          "data": {
            "text/plain": [
              "<Figure size 432x288 with 1 Axes>"
            ],
            "image/png": "[encoded data removed]"
          },
          "metadata": {
            "needs_background": "light"
          }
        }
      ]
    }
  ]
}