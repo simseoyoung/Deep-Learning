{
  "cells": [
    {
      "cell_type": "markdown",
      "metadata": {
        "id": "view-in-github",
        "colab_type": "text"
      },
      "source": [
        "<a href=\"https://colab.research.google.com/github/simseoyoung/Deep-Learning/blob/main/CH.1/Chap1_2_1)_Linear_Regression%E2%85%A0_(1).ipynb\" target=\"_parent\"><img src=\"https://colab.research.google.com/assets/colab-badge.svg\" alt=\"Open In Colab\"/></a>"
      ]
    },
    {
      "cell_type": "markdown",
      "metadata": {
        "id": "ODzysfOYy99t"
      },
      "source": [
        "# Linear Regression - Ⅰ"
      ]
    },
    {
      "cell_type": "code",
      "execution_count": 3,
      "metadata": {
        "id": "kAAPlwLay992"
      },
      "outputs": [],
      "source": [
        "import torch\n",
        "import torch.nn\n",
        "import numpy as np\n",
        "import matplotlib.pyplot as plt"
      ]
    },
    {
      "cell_type": "markdown",
      "metadata": {
        "id": "APfks84ny995"
      },
      "source": [
        "## [1] Data\n",
        "-X , Y 좌표 데이터를 가지고 Linear regression 모델을 만들어 본다"
      ]
    },
    {
      "cell_type": "code",
      "execution_count": 4,
      "metadata": {
        "colab": {
          "base_uri": "https://localhost:8080/"
        },
        "id": "RWLjoSuFy996",
        "outputId": "0b267d5b-f55f-4f22-b4a9-5b54086f68fd"
      },
      "outputs": [
        {
          "output_type": "stream",
          "name": "stdout",
          "text": [
            "<class 'torch.Tensor'>\n"
          ]
        }
      ],
      "source": [
        "# Toy dataset\n",
        "x_train = np.array([[3.3], [4.4], [5.5], [6.1], [6.3], [4.8], \n",
        "                    [9.7], [6.2], [7.9], [2.7], [7.2], \n",
        "                    [10.1], [5.3], [7.7], [3.1]])\n",
        "\n",
        "y_train = np.array([[1.7], [1.9], [2.09], [2.1], [1.9], [1.3], \n",
        "                    [3.3], [2.5], [2.5], [1.1], [2.7], \n",
        "                    [3.4], [1.5], [2.4], [1.3]])\n",
        "\n",
        "#텐서화\n",
        "x_train_tensor = torch.FloatTensor(x_train)\n",
        "y_train_tensor = torch.FloatTensor(y_train)\n",
        "\n",
        "print(type(x_train_tensor))"
      ]
    },
    {
      "cell_type": "code",
      "execution_count": 5,
      "metadata": {
        "colab": {
          "base_uri": "https://localhost:8080/",
          "height": 287
        },
        "id": "Lu0tIoaey999",
        "outputId": "d265a978-a987-49fc-f909-fe10cf32d7c1"
      },
      "outputs": [
        {
          "output_type": "execute_result",
          "data": {
            "text/plain": [
              "<matplotlib.collections.PathCollection at 0x7fd88045ec90>"
            ]
          },
          "metadata": {},
          "execution_count": 5
        },
        {
          "output_type": "display_data",
          "data": {
            "text/plain": [
              "<Figure size 432x288 with 1 Axes>"
            ],
            "image/png": "[encoded data removed]"
          },
          "metadata": {
            "needs_background": "light"
          }
        }
      ],
      "source": [
        "# 그래프 그리기\n",
        "plt.figure()\n",
        "plt.scatter(x_train, y_train)"
      ]
    },
    {
      "cell_type": "markdown",
      "metadata": {
        "id": "1PiAgNqPy99_"
      },
      "source": [
        "## [2] Model"
      ]
    },
    {
      "cell_type": "markdown",
      "metadata": {
        "id": "4Y7KQDFMy9-A"
      },
      "source": [
        "$$ Wnew = Wold - \\alpha \\nabla W $$"
      ]
    },
    {
      "cell_type": "markdown",
      "metadata": {
        "id": "swBrRbsFy9-B"
      },
      "source": [
        "$$ H(x) = Wx + b $$"
      ]
    },
    {
      "cell_type": "code",
      "execution_count": 6,
      "metadata": {
        "id": "Y7mc1E5-y9-D"
      },
      "outputs": [],
      "source": [
        "# Hyper parameters\n",
        "# dimension = size (data의 개수가 아닌 차원)\n",
        "input_size = 1\n",
        "output_size = 1\n",
        "num_epochs = 50\n",
        "learning_rate = 0.01\n",
        "# loss값을 확인하면서 learning rate조정\n",
        "# if loss가 발산한다면 learning rate가 너무 큰 것이므로 작게 조정"
      ]
    },
    {
      "cell_type": "code",
      "execution_count": 7,
      "metadata": {
        "id": "6RmVwvd7y9-E"
      },
      "outputs": [],
      "source": [
        "# Linear Regression Model\n",
        "model = torch.nn.Linear(input_size, output_size)"
      ]
    },
    {
      "cell_type": "markdown",
      "metadata": {
        "id": "yuzMh0T1y9-F"
      },
      "source": [
        "$$ cost(W, b) = \\frac{1}{m} \\sum^m_{i=1} \\left( H(x^{(i)}) - y^{(i)} \\right)^2 $$"
      ]
    },
    {
      "cell_type": "code",
      "execution_count": 8,
      "metadata": {
        "id": "dAudRqRTy9-F"
      },
      "outputs": [],
      "source": [
        "# Loss function(손실함수), Optimizer 정의\n",
        "criterion = torch.nn.MSELoss()\n",
        "optimizer = torch.optim.SGD(model.parameters(), lr= learning_rate)"
      ]
    },
    {
      "cell_type": "markdown",
      "metadata": {
        "id": "AJL_S0way9-G"
      },
      "source": [
        "## [3] Training"
      ]
    },
    {
      "cell_type": "code",
      "execution_count": 9,
      "metadata": {
        "colab": {
          "base_uri": "https://localhost:8080/"
        },
        "id": "iLvqoWlAy9-H",
        "outputId": "d37d0690-3550-4d00-cc89-2fe74a85f015"
      },
      "outputs": [
        {
          "output_type": "stream",
          "name": "stdout",
          "text": [
            "Epoch : 2 , Loss: 1.12\n",
            "Epoch : 4 , Loss: 0.12\n",
            "Epoch : 6 , Loss: 0.12\n",
            "Epoch : 8 , Loss: 0.12\n",
            "Epoch : 10 , Loss: 0.12\n",
            "Epoch : 12 , Loss: 0.11\n",
            "Epoch : 14 , Loss: 0.11\n",
            "Epoch : 16 , Loss: 0.11\n",
            "Epoch : 18 , Loss: 0.11\n",
            "Epoch : 20 , Loss: 0.11\n",
            "Epoch : 22 , Loss: 0.11\n",
            "Epoch : 24 , Loss: 0.11\n",
            "Epoch : 26 , Loss: 0.11\n",
            "Epoch : 28 , Loss: 0.11\n",
            "Epoch : 30 , Loss: 0.11\n",
            "Epoch : 32 , Loss: 0.11\n",
            "Epoch : 34 , Loss: 0.11\n",
            "Epoch : 36 , Loss: 0.11\n",
            "Epoch : 38 , Loss: 0.11\n",
            "Epoch : 40 , Loss: 0.11\n",
            "Epoch : 42 , Loss: 0.11\n",
            "Epoch : 44 , Loss: 0.11\n",
            "Epoch : 46 , Loss: 0.11\n",
            "Epoch : 48 , Loss: 0.11\n",
            "Epoch : 50 , Loss: 0.11\n"
          ]
        }
      ],
      "source": [
        "# Train the model\n",
        "# epoch = 전체 데이터 셋을 한번 전체 학습시킴\n",
        "\n",
        "for epoch in range(num_epochs):\n",
        "    #모델링\n",
        "    optimizer.zero_grad()\n",
        "    \n",
        "    outputs = model(x_train_tensor) \n",
        "    \n",
        "    loss = criterion(outputs, y_train_tensor)\n",
        "\n",
        "    # 학습\n",
        "    loss.backward()\n",
        "    # backward를 통해 gradient를 계산하고 weight값 update\n",
        "    optimizer.step()\n",
        "\n",
        "    # Loss 확인하기\n",
        "    if (epoch+1) % 2 == 0: # 2epoch마다 loss확인\n",
        "        print (f'Epoch : {epoch+1} , Loss: {loss.item():.2f}')"
      ]
    },
    {
      "cell_type": "code",
      "execution_count": 14,
      "metadata": {
        "colab": {
          "base_uri": "https://localhost:8080/",
          "height": 265
        },
        "id": "F6ZRa8qey9-I",
        "outputId": "c49a515f-5d25-4d5a-8bb0-bced12a4d951"
      },
      "outputs": [
        {
          "output_type": "display_data",
          "data": {
            "text/plain": [
              "<Figure size 432x288 with 1 Axes>"
            ],
            "image/png": "[encoded data removed]"
          },
          "metadata": {
            "needs_background": "light"
          }
        }
      ],
      "source": [
        "x_train_plot= torch.FloatTensor(x_train)\n",
        "predicted = model(x_train_plot).detach().numpy()  # torch.detach().numpy()-->numpy를 텐서로 바꿔줌\n",
        "\n",
        "plt.figure()\n",
        "plt.plot(x_train, y_train, 'ro', label='data') # 'ro' --> 빨간색, o 동그라미(circle)를 의미\n",
        "plt.plot(x_train, predicted, label='linear function')\n",
        "plt.legend(loc='upper left') # 범례 위치 설정\n",
        "plt.show()"
      ]
    },
    {
      "cell_type": "markdown",
      "metadata": {
        "id": "FMM2DObay9-I"
      },
      "source": [
        "### Check"
      ]
    },
    {
      "cell_type": "code",
      "execution_count": null,
      "metadata": {
        "id": "zZaigf4ny9-J",
        "outputId": "ff6da80d-8b2e-4660-b699-fe09ab47a762"
      },
      "outputs": [
        {
          "data": {
            "text/plain": [
              "OrderedDict([('weight', tensor([[0.4371]])), ('bias', tensor([-0.6305]))])"
            ]
          },
          "execution_count": 9,
          "metadata": {},
          "output_type": "execute_result"
        }
      ],
      "source": [
        "model.state_dict()"
      ]
    },
    {
      "cell_type": "code",
      "execution_count": 12,
      "metadata": {
        "colab": {
          "base_uri": "https://localhost:8080/",
          "height": 265
        },
        "id": "6oz0Jkc8y9-J",
        "outputId": "76e95ca9-a153-464d-f83b-ed5dbc838b6a"
      },
      "outputs": [
        {
          "output_type": "display_data",
          "data": {
            "text/plain": [
              "<Figure size 432x288 with 1 Axes>"
            ],
            "image/png": "[encoded data removed]"
          },
          "metadata": {
            "needs_background": "light"
          }
        }
      ],
      "source": [
        "check_y = 0.4371*x_train -0.6305\n",
        "\n",
        "plt.figure()\n",
        "plt.plot(x_train, y_train, 'ro', label='data')\n",
        "plt.plot(x_train, check_y)\n",
        "plt.show()"
      ]
    },
    {
      "cell_type": "code",
      "execution_count": 10,
      "metadata": {
        "colab": {
          "base_uri": "https://localhost:8080/"
        },
        "id": "BmEKZPPjy9-K",
        "outputId": "d3f5481d-0d19-425d-a513-23f00e83ba7d"
      },
      "outputs": [
        {
          "output_type": "execute_result",
          "data": {
            "text/plain": [
              "OrderedDict([('weight', tensor([[0.3794]])), ('bias', tensor([-0.2396]))])"
            ]
          },
          "metadata": {},
          "execution_count": 10
        }
      ],
      "source": [
        "model.state_dict()"
      ]
    },
    {
      "cell_type": "code",
      "source": [
        "check_y = 0.4240*x_train - 0.5423\n",
        "\n",
        "plt.figure()\n",
        "plt.plot(x_train, y_train, 'ro', label = 'data')\n",
        "plt.plot(x_train, check_y)\n",
        "plt.show()"
      ],
      "metadata": {
        "colab": {
          "base_uri": "https://localhost:8080/",
          "height": 265
        },
        "id": "u7SqKa6Z2OU1",
        "outputId": "9ca5237c-ab93-455a-bfca-7b67aff96257"
      },
      "execution_count": 18,
      "outputs": [
        {
          "output_type": "display_data",
          "data": {
            "text/plain": [
              "<Figure size 432x288 with 1 Axes>"
            ],
            "image/png": "[encoded data removed]"
          },
          "metadata": {
            "needs_background": "light"
          }
        }
      ]
    }
  ],
  "metadata": {
    "kernelspec": {
      "display_name": "Python 3",
      "language": "python",
      "name": "python3"
    },
    "language_info": {
      "codemirror_mode": {
        "name": "ipython",
        "version": 3
      },
      "file_extension": ".py",
      "mimetype": "text/x-python",
      "name": "python",
      "nbconvert_exporter": "python",
      "pygments_lexer": "ipython3",
      "version": "3.7.6"
    },
    "colab": {
      "name": "Chap1-2-1)_Linear_RegressionⅠ (1).ipynb",
      "provenance": [],
      "include_colab_link": true
    }
  },
  "nbformat": 4,
  "nbformat_minor": 0
}
