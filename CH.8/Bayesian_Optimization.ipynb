{
  "nbformat": 4,
  "nbformat_minor": 0,
  "metadata": {
    "colab": {
      "name": "Untitled17.ipynb",
      "provenance": [],
      "mount_file_id": "1_SNGxrHuPGtuEV0E3L7XJL2OMCf6MeWq",
      "authorship_tag": "ABX9TyOgMNer8hgbqRWZU2QFv8BE",
      "include_colab_link": true
    },
    "kernelspec": {
      "name": "python3",
      "display_name": "Python 3"
    },
    "language_info": {
      "name": "python"
    }
  },
  "cells": [
    {
      "cell_type": "markdown",
      "metadata": {
        "id": "view-in-github",
        "colab_type": "text"
      },
      "source": [
        "<a href=\"https://colab.research.google.com/github/simseoyoung/Deep-Learning/blob/main/CH.8/Bayesian_Optimization.ipynb\" target=\"_parent\"><img src=\"https://colab.research.google.com/assets/colab-badge.svg\" alt=\"Open In Colab\"/></a>"
      ]
    },
    {
      "cell_type": "markdown",
      "source": [
        "# Bayesian Optimization\n",
        "\n",
        "- learning rate과 weight decay를 bayesian optimization함\n",
        "\n",
        "- lstm 사용\n",
        "\n",
        "- dataset : Amazon 주식 dataset (AMZN.csv)"
      ],
      "metadata": {
        "id": "STr8j_T6RC5P"
      }
    },
    {
      "cell_type": "code",
      "execution_count": 4,
      "metadata": {
        "colab": {
          "base_uri": "https://localhost:8080/"
        },
        "id": "7B--gPqKRCUH",
        "outputId": "6d7eba75-388e-4984-b6dd-dd9f941a2234"
      },
      "outputs": [
        {
          "output_type": "stream",
          "name": "stdout",
          "text": [
            "Looking in indexes: https://pypi.org/simple, https://us-python.pkg.dev/colab-wheels/public/simple/\n",
            "Requirement already satisfied: bayesian-optimization in /usr/local/lib/python3.7/dist-packages (1.2.0)\n",
            "Requirement already satisfied: scikit-learn>=0.18.0 in /usr/local/lib/python3.7/dist-packages (from bayesian-optimization) (1.0.2)\n",
            "Requirement already satisfied: scipy>=0.14.0 in /usr/local/lib/python3.7/dist-packages (from bayesian-optimization) (1.4.1)\n",
            "Requirement already satisfied: numpy>=1.9.0 in /usr/local/lib/python3.7/dist-packages (from bayesian-optimization) (1.21.6)\n",
            "Requirement already satisfied: joblib>=0.11 in /usr/local/lib/python3.7/dist-packages (from scikit-learn>=0.18.0->bayesian-optimization) (1.1.0)\n",
            "Requirement already satisfied: threadpoolctl>=2.0.0 in /usr/local/lib/python3.7/dist-packages (from scikit-learn>=0.18.0->bayesian-optimization) (3.1.0)\n"
          ]
        }
      ],
      "source": [
        "!pip install bayesian-optimization\n",
        "  \n",
        "import torch\n",
        "import torch.nn as nn\n",
        "import torch.functional as F\n",
        "from torch.utils.data import Dataset, DataLoader\n",
        "import torch.utils.data as data_utils\n",
        "import datetime\n",
        "\n",
        "import numpy as np\n",
        "import pandas as pd\n",
        "from sklearn.preprocessing import StandardScaler\n",
        "from sklearn.model_selection import train_test_split\n",
        "import torch.optim as optim\n",
        "import random\n",
        "\n",
        "import matplotlib.pyplot as plt"
      ]
    },
    {
      "cell_type": "code",
      "source": [
        "device = 'cuda' if torch.cuda.is_available() else 'cpu'\n",
        "print(device)\n",
        "\n",
        "random.seed(777)\n",
        "torch.manual_seed(777)\n",
        "if device == 'cuda':\n",
        "    torch.cuda.manual_seed_all(777)"
      ],
      "metadata": {
        "colab": {
          "base_uri": "https://localhost:8080/"
        },
        "id": "jVZDrHKbUKY_",
        "outputId": "d9f7fbff-427b-44dc-ff6d-4db2eabcc0f3"
      },
      "execution_count": 5,
      "outputs": [
        {
          "output_type": "stream",
          "name": "stdout",
          "text": [
            "cpu\n"
          ]
        }
      ]
    },
    {
      "cell_type": "markdown",
      "source": [
        "[1] Data processing"
      ],
      "metadata": {
        "id": "VlpnZgxnUX36"
      }
    },
    {
      "cell_type": "code",
      "source": [
        "# 파일 불러오기\n",
        "train_data_url = \"/content/drive/MyDrive/DL 실습/AMZN.csv\"\n",
        "df = pd.read_csv(train_data_url)\n",
        "print (df.shape) # 파일 형식 확인\n",
        "df"
      ],
      "metadata": {
        "colab": {
          "base_uri": "https://localhost:8080/",
          "height": 442
        },
        "id": "pwnTbRUYUWIf",
        "outputId": "9ad08145-6a7e-47d9-fd56-dbcc198e5116"
      },
      "execution_count": 7,
      "outputs": [
        {
          "output_type": "stream",
          "name": "stdout",
          "text": [
            "(5178, 7)\n"
          ]
        },
        {
          "output_type": "execute_result",
          "data": {
            "text/plain": [
              "            Date         Open         High          Low        Close  \\\n",
              "0     1997-05-15     2.437500     2.500000     1.927083     1.958333   \n",
              "1     1997-05-16     1.968750     1.979167     1.708333     1.729167   \n",
              "2     1997-05-19     1.760417     1.770833     1.625000     1.708333   \n",
              "3     1997-05-20     1.729167     1.750000     1.635417     1.635417   \n",
              "4     1997-05-21     1.635417     1.645833     1.375000     1.427083   \n",
              "...          ...          ...          ...          ...          ...   \n",
              "5173  2017-12-04  1173.849976  1175.199951  1128.000000  1133.949951   \n",
              "5174  2017-12-05  1128.260010  1159.270020  1124.739990  1141.569946   \n",
              "5175  2017-12-06  1137.989990  1155.890015  1136.079956  1152.349976   \n",
              "5176  2017-12-07  1156.589966  1163.189941  1151.000000  1159.790039   \n",
              "5177  2017-12-08  1170.400024  1172.750000  1157.099976  1162.000000   \n",
              "\n",
              "        Adj Close    Volume  \n",
              "0        1.958333  72156000  \n",
              "1        1.729167  14700000  \n",
              "2        1.708333   6106800  \n",
              "3        1.635417   5467200  \n",
              "4        1.427083  18853200  \n",
              "...           ...       ...  \n",
              "5173  1133.949951   5931900  \n",
              "5174  1141.569946   4079800  \n",
              "5175  1152.349976   2853300  \n",
              "5176  1159.790039   2508800  \n",
              "5177  1162.000000   2711530  \n",
              "\n",
              "[5178 rows x 7 columns]"
            ],
            "text/html": [
              "\n",
              "  <div id=\"df-02d5749c-d31b-4e7c-ae46-43bd3fbbfe09\">\n",
              "    <div class=\"colab-df-container\">\n",
              "      <div>\n",
              "<style scoped>\n",
              "    .dataframe tbody tr th:only-of-type {\n",
              "        vertical-align: middle;\n",
              "    }\n",
              "\n",
              "    .dataframe tbody tr th {\n",
              "        vertical-align: top;\n",
              "    }\n",
              "\n",
              "    .dataframe thead th {\n",
              "        text-align: right;\n",
              "    }\n",
              "</style>\n",
              "<table border=\"1\" class=\"dataframe\">\n",
              "  <thead>\n",
              "    <tr style=\"text-align: right;\">\n",
              "      <th></th>\n",
              "      <th>Date</th>\n",
              "      <th>Open</th>\n",
              "      <th>High</th>\n",
              "      <th>Low</th>\n",
              "      <th>Close</th>\n",
              "      <th>Adj Close</th>\n",
              "      <th>Volume</th>\n",
              "    </tr>\n",
              "  </thead>\n",
              "  <tbody>\n",
              "    <tr>\n",
              "      <th>0</th>\n",
              "      <td>1997-05-15</td>\n",
              "      <td>2.437500</td>\n",
              "      <td>2.500000</td>\n",
              "      <td>1.927083</td>\n",
              "      <td>1.958333</td>\n",
              "      <td>1.958333</td>\n",
              "      <td>72156000</td>\n",
              "    </tr>\n",
              "    <tr>\n",
              "      <th>1</th>\n",
              "      <td>1997-05-16</td>\n",
              "      <td>1.968750</td>\n",
              "      <td>1.979167</td>\n",
              "      <td>1.708333</td>\n",
              "      <td>1.729167</td>\n",
              "      <td>1.729167</td>\n",
              "      <td>14700000</td>\n",
              "    </tr>\n",
              "    <tr>\n",
              "      <th>2</th>\n",
              "      <td>1997-05-19</td>\n",
              "      <td>1.760417</td>\n",
              "      <td>1.770833</td>\n",
              "      <td>1.625000</td>\n",
              "      <td>1.708333</td>\n",
              "      <td>1.708333</td>\n",
              "      <td>6106800</td>\n",
              "    </tr>\n",
              "    <tr>\n",
              "      <th>3</th>\n",
              "      <td>1997-05-20</td>\n",
              "      <td>1.729167</td>\n",
              "      <td>1.750000</td>\n",
              "      <td>1.635417</td>\n",
              "      <td>1.635417</td>\n",
              "      <td>1.635417</td>\n",
              "      <td>5467200</td>\n",
              "    </tr>\n",
              "    <tr>\n",
              "      <th>4</th>\n",
              "      <td>1997-05-21</td>\n",
              "      <td>1.635417</td>\n",
              "      <td>1.645833</td>\n",
              "      <td>1.375000</td>\n",
              "      <td>1.427083</td>\n",
              "      <td>1.427083</td>\n",
              "      <td>18853200</td>\n",
              "    </tr>\n",
              "    <tr>\n",
              "      <th>...</th>\n",
              "      <td>...</td>\n",
              "      <td>...</td>\n",
              "      <td>...</td>\n",
              "      <td>...</td>\n",
              "      <td>...</td>\n",
              "      <td>...</td>\n",
              "      <td>...</td>\n",
              "    </tr>\n",
              "    <tr>\n",
              "      <th>5173</th>\n",
              "      <td>2017-12-04</td>\n",
              "      <td>1173.849976</td>\n",
              "      <td>1175.199951</td>\n",
              "      <td>1128.000000</td>\n",
              "      <td>1133.949951</td>\n",
              "      <td>1133.949951</td>\n",
              "      <td>5931900</td>\n",
              "    </tr>\n",
              "    <tr>\n",
              "      <th>5174</th>\n",
              "      <td>2017-12-05</td>\n",
              "      <td>1128.260010</td>\n",
              "      <td>1159.270020</td>\n",
              "      <td>1124.739990</td>\n",
              "      <td>1141.569946</td>\n",
              "      <td>1141.569946</td>\n",
              "      <td>4079800</td>\n",
              "    </tr>\n",
              "    <tr>\n",
              "      <th>5175</th>\n",
              "      <td>2017-12-06</td>\n",
              "      <td>1137.989990</td>\n",
              "      <td>1155.890015</td>\n",
              "      <td>1136.079956</td>\n",
              "      <td>1152.349976</td>\n",
              "      <td>1152.349976</td>\n",
              "      <td>2853300</td>\n",
              "    </tr>\n",
              "    <tr>\n",
              "      <th>5176</th>\n",
              "      <td>2017-12-07</td>\n",
              "      <td>1156.589966</td>\n",
              "      <td>1163.189941</td>\n",
              "      <td>1151.000000</td>\n",
              "      <td>1159.790039</td>\n",
              "      <td>1159.790039</td>\n",
              "      <td>2508800</td>\n",
              "    </tr>\n",
              "    <tr>\n",
              "      <th>5177</th>\n",
              "      <td>2017-12-08</td>\n",
              "      <td>1170.400024</td>\n",
              "      <td>1172.750000</td>\n",
              "      <td>1157.099976</td>\n",
              "      <td>1162.000000</td>\n",
              "      <td>1162.000000</td>\n",
              "      <td>2711530</td>\n",
              "    </tr>\n",
              "  </tbody>\n",
              "</table>\n",
              "<p>5178 rows × 7 columns</p>\n",
              "</div>\n",
              "      <button class=\"colab-df-convert\" onclick=\"convertToInteractive('df-02d5749c-d31b-4e7c-ae46-43bd3fbbfe09')\"\n",
              "              title=\"Convert this dataframe to an interactive table.\"\n",
              "              style=\"display:none;\">\n",
              "        \n",
              "  <svg xmlns=\"http://www.w3.org/2000/svg\" height=\"24px\"viewBox=\"0 0 24 24\"\n",
              "       width=\"24px\">\n",
              "    <path d=\"M0 0h24v24H0V0z\" fill=\"none\"/>\n",
              "    <path d=\"M18.56 5.44l.94 2.06.94-2.06 2.06-.94-2.06-.94-.94-2.06-.94 2.06-2.06.94zm-11 1L8.5 8.5l.94-2.06 2.06-.94-2.06-.94L8.5 2.5l-.94 2.06-2.06.94zm10 10l.94 2.06.94-2.06 2.06-.94-2.06-.94-.94-2.06-.94 2.06-2.06.94z\"/><path d=\"M17.41 7.96l-1.37-1.37c-.4-.4-.92-.59-1.43-.59-.52 0-1.04.2-1.43.59L10.3 9.45l-7.72 7.72c-.78.78-.78 2.05 0 2.83L4 21.41c.39.39.9.59 1.41.59.51 0 1.02-.2 1.41-.59l7.78-7.78 2.81-2.81c.8-.78.8-2.07 0-2.86zM5.41 20L4 18.59l7.72-7.72 1.47 1.35L5.41 20z\"/>\n",
              "  </svg>\n",
              "      </button>\n",
              "      \n",
              "  <style>\n",
              "    .colab-df-container {\n",
              "      display:flex;\n",
              "      flex-wrap:wrap;\n",
              "      gap: 12px;\n",
              "    }\n",
              "\n",
              "    .colab-df-convert {\n",
              "      background-color: #E8F0FE;\n",
              "      border: none;\n",
              "      border-radius: 50%;\n",
              "      cursor: pointer;\n",
              "      display: none;\n",
              "      fill: #1967D2;\n",
              "      height: 32px;\n",
              "      padding: 0 0 0 0;\n",
              "      width: 32px;\n",
              "    }\n",
              "\n",
              "    .colab-df-convert:hover {\n",
              "      background-color: #E2EBFA;\n",
              "      box-shadow: 0px 1px 2px rgba(60, 64, 67, 0.3), 0px 1px 3px 1px rgba(60, 64, 67, 0.15);\n",
              "      fill: #174EA6;\n",
              "    }\n",
              "\n",
              "    [theme=dark] .colab-df-convert {\n",
              "      background-color: #3B4455;\n",
              "      fill: #D2E3FC;\n",
              "    }\n",
              "\n",
              "    [theme=dark] .colab-df-convert:hover {\n",
              "      background-color: #434B5C;\n",
              "      box-shadow: 0px 1px 3px 1px rgba(0, 0, 0, 0.15);\n",
              "      filter: drop-shadow(0px 1px 2px rgba(0, 0, 0, 0.3));\n",
              "      fill: #FFFFFF;\n",
              "    }\n",
              "  </style>\n",
              "\n",
              "      <script>\n",
              "        const buttonEl =\n",
              "          document.querySelector('#df-02d5749c-d31b-4e7c-ae46-43bd3fbbfe09 button.colab-df-convert');\n",
              "        buttonEl.style.display =\n",
              "          google.colab.kernel.accessAllowed ? 'block' : 'none';\n",
              "\n",
              "        async function convertToInteractive(key) {\n",
              "          const element = document.querySelector('#df-02d5749c-d31b-4e7c-ae46-43bd3fbbfe09');\n",
              "          const dataTable =\n",
              "            await google.colab.kernel.invokeFunction('convertToInteractive',\n",
              "                                                     [key], {});\n",
              "          if (!dataTable) return;\n",
              "\n",
              "          const docLinkHtml = 'Like what you see? Visit the ' +\n",
              "            '<a target=\"_blank\" href=https://colab.research.google.com/notebooks/data_table.ipynb>data table notebook</a>'\n",
              "            + ' to learn more about interactive tables.';\n",
              "          element.innerHTML = '';\n",
              "          dataTable['output_type'] = 'display_data';\n",
              "          await google.colab.output.renderOutput(dataTable, element);\n",
              "          const docLink = document.createElement('div');\n",
              "          docLink.innerHTML = docLinkHtml;\n",
              "          element.appendChild(docLink);\n",
              "        }\n",
              "      </script>\n",
              "    </div>\n",
              "  </div>\n",
              "  "
            ]
          },
          "metadata": {},
          "execution_count": 7
        }
      ]
    },
    {
      "cell_type": "code",
      "source": [
        "# 필요없는 항목(Volume : 거래량) 제거\n",
        "X = df.drop(columns = ['Volume','Date'])\n",
        "# y값은 Adj Close 로 지정 ( 종가 )\n",
        "y = df.iloc[:, 5:6]\n",
        "\n",
        "print (X)\n",
        "print (y)"
      ],
      "metadata": {
        "colab": {
          "base_uri": "https://localhost:8080/"
        },
        "id": "yNdjuoF_UpZZ",
        "outputId": "744b528b-1d5d-4c45-e0ae-2dd8154561a0"
      },
      "execution_count": 8,
      "outputs": [
        {
          "output_type": "stream",
          "name": "stdout",
          "text": [
            "             Open         High          Low        Close    Adj Close\n",
            "0        2.437500     2.500000     1.927083     1.958333     1.958333\n",
            "1        1.968750     1.979167     1.708333     1.729167     1.729167\n",
            "2        1.760417     1.770833     1.625000     1.708333     1.708333\n",
            "3        1.729167     1.750000     1.635417     1.635417     1.635417\n",
            "4        1.635417     1.645833     1.375000     1.427083     1.427083\n",
            "...           ...          ...          ...          ...          ...\n",
            "5173  1173.849976  1175.199951  1128.000000  1133.949951  1133.949951\n",
            "5174  1128.260010  1159.270020  1124.739990  1141.569946  1141.569946\n",
            "5175  1137.989990  1155.890015  1136.079956  1152.349976  1152.349976\n",
            "5176  1156.589966  1163.189941  1151.000000  1159.790039  1159.790039\n",
            "5177  1170.400024  1172.750000  1157.099976  1162.000000  1162.000000\n",
            "\n",
            "[5178 rows x 5 columns]\n",
            "        Adj Close\n",
            "0        1.958333\n",
            "1        1.729167\n",
            "2        1.708333\n",
            "3        1.635417\n",
            "4        1.427083\n",
            "...           ...\n",
            "5173  1133.949951\n",
            "5174  1141.569946\n",
            "5175  1152.349976\n",
            "5176  1159.790039\n",
            "5177  1162.000000\n",
            "\n",
            "[5178 rows x 1 columns]\n"
          ]
        }
      ]
    },
    {
      "cell_type": "code",
      "source": [
        "scaler = StandardScaler()\n",
        "scaler.fit(X)\n",
        "scaler.fit(y)\n",
        "X_scale = scaler.fit_transform(X)\n",
        "y_scale = scaler.fit_transform(y)\n",
        "\n",
        "# train, test data set 나누기\n",
        "x_train, x_test, y_train, y_test = train_test_split(X_scale, y_scale, test_size = 0.3, shuffle = True, random_state = 1234)\n",
        "\n",
        "# train set\n",
        "print(\"x_train의 크기: \",x_train.shape)\n",
        "print(\"y_train의 크기: \",y_train.shape)\n",
        "\n",
        "# test set\n",
        "print(\"x_test의 크기: \",x_test.shape)\n",
        "print(\"y_test의 크기: \",y_test.shape)\n",
        "\n",
        "# data 텐서로 변환\n",
        "x_train_tensor = torch.FloatTensor(x_train)\n",
        "y_train_tensor = torch.FloatTensor(y_train)\n",
        "x_test_tensor = torch.FloatTensor(x_test)\n",
        "y_test_tensor = torch.FloatTensor(y_test)\n",
        "\n",
        "X_train_tensors_final = torch.reshape(x_train_tensor,   \n",
        "                        (x_train_tensor.shape[0], 1, x_train_tensor.shape[1]))\n",
        "X_test_tensors_final = torch.reshape(x_test_tensor,  \n",
        "                        (x_test_tensor.shape[0], 1, x_test_tensor.shape[1])) \n",
        "\n",
        "# train set\n",
        "print(\"x_train_shape: \",x_train_tensor.shape)\n",
        "print(\"y_train_shape:: \",y_train_tensor.shape)\n",
        "\n",
        "# test set\n",
        "print(\"x_test_shape: \",x_test_tensor.shape)\n",
        "print(\"y_test_shape: \",y_test_tensor.shape)"
      ],
      "metadata": {
        "colab": {
          "base_uri": "https://localhost:8080/"
        },
        "id": "AZQpwt9oUsEQ",
        "outputId": "93f26d61-ce0f-4839-a5e1-15556dfd7b53"
      },
      "execution_count": 9,
      "outputs": [
        {
          "output_type": "stream",
          "name": "stdout",
          "text": [
            "x_train의 크기:  (3624, 5)\n",
            "y_train의 크기:  (3624, 1)\n",
            "x_test의 크기:  (1554, 5)\n",
            "y_test의 크기:  (1554, 1)\n",
            "x_train_shape:  torch.Size([3624, 5])\n",
            "y_train_shape::  torch.Size([3624, 1])\n",
            "x_test_shape:  torch.Size([1554, 5])\n",
            "y_test_shape:  torch.Size([1554, 1])\n"
          ]
        }
      ]
    },
    {
      "cell_type": "markdown",
      "source": [
        "[2] Model"
      ],
      "metadata": {
        "id": "EC89s5gOU0QB"
      }
    },
    {
      "cell_type": "code",
      "source": [
        "class LSTM(nn.Module):\n",
        "  def __init__(self, num_classes, input_size, hidden_size, num_layers, seq_length):\n",
        "    super(LSTM, self).__init__()\n",
        "    self.num_classes = num_classes\n",
        "    self.num_layers = num_layers\n",
        "    self.input_size = input_size\n",
        "    self.hidden_size = hidden_size\n",
        "    self.seq_length = seq_length\n",
        "\n",
        "    self.lstm = nn.LSTM(input_size = input_size, hidden_size = hidden_size,\n",
        "                         num_layers = num_layers, batch_first = True)\n",
        "    self.layer1 = nn.Linear(hidden_size, 256)\n",
        "    self.layer2 = nn.Linear(256, 256)\n",
        "    self.layer3 = nn.Linear(256, 128)\n",
        "    self.layer_out = nn.Linear(128, num_classes)\n",
        "    self.relu = nn.ReLU()\n",
        "  \n",
        "  def forward(self, x):\n",
        "    # hidden state\n",
        "    h_0 = torch.zeros(self.num_layers, x.size(0), self.hidden_size).to(device)\n",
        "    # internal process state\n",
        "    c_0 = torch.zeros(self.num_layers, x.size(0), self.hidden_size).to(device)\n",
        "\n",
        "    output, (hn, cn) = self.lstm(x, (h_0, c_0))\n",
        "\n",
        "    # Data reshaping\n",
        "    hn = hn.view(-1, self.hidden_size)\n",
        "\n",
        "    out = self.relu(hn)\n",
        "    out = self.layer1(out)\n",
        "    out = self.relu(out)\n",
        "    out = self.layer2(out)\n",
        "    out = self.relu(out)\n",
        "    out = self.layer3(out)\n",
        "    out = self.relu(out)\n",
        "    out = self.layer_out(out)\n",
        "\n",
        "    return out"
      ],
      "metadata": {
        "id": "v2FMRd4vUzRh"
      },
      "execution_count": 10,
      "outputs": []
    },
    {
      "cell_type": "code",
      "source": [
        "# set parameter\n",
        "\n",
        "num_epoch = 50\n",
        "learning_rate = 0.01\n",
        "weight_decay = 1e-5\n",
        "\n",
        "input_size = 5\n",
        "hidden_size = 2\n",
        "num_layers = 1\n",
        "num_classes = 1\n",
        "\n",
        "lstm = LSTM(num_classes, input_size, hidden_size, num_layers, x_train_tensor.shape[1])\n",
        "loss_function = torch.nn.MSELoss() \n"
      ],
      "metadata": {
        "id": "z9o1vrXiVloV"
      },
      "execution_count": 19,
      "outputs": []
    },
    {
      "cell_type": "code",
      "source": [
        "def train_acc(lr, wd):\n",
        "\n",
        "    loss_list = []\n",
        "    learning_rate = lr\n",
        "    weight_decay = wd\n",
        "    \n",
        "    optimizer = optim.Adam(lstm.parameters(), lr = learning_rate, weight_decay=weight_decay)\n",
        "    for epoch in range(num_epoch):\n",
        "      outputs = lstm.forward(X_train_tensors_final.to(device))\n",
        "      optimizer.zero_grad()\n",
        "\n",
        "      loss = loss_function(outputs, y_train_tensor.to(device))\n",
        "      loss_list.append(loss.detach().numpy())\n",
        "      loss.backward()\n",
        "\n",
        "      optimizer.step()\n",
        "\n",
        "\n",
        "    return loss.detach().numpy()\n",
        "# loss를 기준으로 hyperparameter 찾도록 함"
      ],
      "metadata": {
        "id": "APRuQXmnWGbL"
      },
      "execution_count": 25,
      "outputs": []
    },
    {
      "cell_type": "code",
      "source": [
        "from bayes_opt import BayesianOptimization\n",
        "\n",
        "pbounds = {'lr':(0,1),  'wd':(0,1)} # 하이퍼파라미터 범위 설정\n",
        "optimizer = BayesianOptimization( f=train_acc, pbounds= pbounds, random_state=1 )\n",
        "\n",
        "optimizer.maximize( init_points= 5, n_iter=45 )"
      ],
      "metadata": {
        "colab": {
          "base_uri": "https://localhost:8080/"
        },
        "id": "L2AjkgVRU_Zf",
        "outputId": "1151ab5e-c664-4b90-c1b7-e7c72e07cb96"
      },
      "execution_count": 26,
      "outputs": [
        {
          "output_type": "stream",
          "name": "stdout",
          "text": [
            "|   iter    |  target   |    lr     |    wd     |\n",
            "-------------------------------------------------\n",
            "| \u001b[0m 1       \u001b[0m | \u001b[0m 120.6   \u001b[0m | \u001b[0m 0.417   \u001b[0m | \u001b[0m 0.7203  \u001b[0m |\n",
            "| \u001b[0m 2       \u001b[0m | \u001b[0m 0.539   \u001b[0m | \u001b[0m 0.000114\u001b[0m | \u001b[0m 0.3023  \u001b[0m |\n",
            "| \u001b[0m 3       \u001b[0m | \u001b[0m 0.5924  \u001b[0m | \u001b[0m 0.1468  \u001b[0m | \u001b[0m 0.09234 \u001b[0m |\n",
            "| \u001b[0m 4       \u001b[0m | \u001b[0m 0.3706  \u001b[0m | \u001b[0m 0.1863  \u001b[0m | \u001b[0m 0.3456  \u001b[0m |\n",
            "| \u001b[0m 5       \u001b[0m | \u001b[0m 7.08    \u001b[0m | \u001b[0m 0.3968  \u001b[0m | \u001b[0m 0.5388  \u001b[0m |\n",
            "| \u001b[0m 6       \u001b[0m | \u001b[0m 0.5655  \u001b[0m | \u001b[0m 0.1088  \u001b[0m | \u001b[0m 0.3689  \u001b[0m |\n",
            "| \u001b[0m 7       \u001b[0m | \u001b[0m 1.654   \u001b[0m | \u001b[0m 0.4295  \u001b[0m | \u001b[0m 0.8212  \u001b[0m |\n",
            "| \u001b[0m 8       \u001b[0m | \u001b[0m 5.841   \u001b[0m | \u001b[0m 0.1493  \u001b[0m | \u001b[0m 0.6288  \u001b[0m |\n",
            "| \u001b[0m 9       \u001b[0m | \u001b[0m 12.86   \u001b[0m | \u001b[0m 0.4152  \u001b[0m | \u001b[0m 0.7072  \u001b[0m |\n",
            "| \u001b[95m 10      \u001b[0m | \u001b[95m 315.2   \u001b[0m | \u001b[95m 0.3956  \u001b[0m | \u001b[95m 0.1615  \u001b[0m |\n",
            "| \u001b[0m 11      \u001b[0m | \u001b[0m 87.31   \u001b[0m | \u001b[0m 0.8877  \u001b[0m | \u001b[0m 0.4472  \u001b[0m |\n",
            "| \u001b[0m 12      \u001b[0m | \u001b[0m 15.22   \u001b[0m | \u001b[0m 0.4323  \u001b[0m | \u001b[0m 0.352   \u001b[0m |\n",
            "| \u001b[0m 13      \u001b[0m | \u001b[0m 18.74   \u001b[0m | \u001b[0m 0.6099  \u001b[0m | \u001b[0m 0.3929  \u001b[0m |\n",
            "| \u001b[0m 14      \u001b[0m | \u001b[0m 14.56   \u001b[0m | \u001b[0m 0.5532  \u001b[0m | \u001b[0m 0.702   \u001b[0m |\n",
            "| \u001b[0m 15      \u001b[0m | \u001b[0m 4.917   \u001b[0m | \u001b[0m 0.1484  \u001b[0m | \u001b[0m 0.4067  \u001b[0m |\n",
            "| \u001b[0m 16      \u001b[0m | \u001b[0m 0.2254  \u001b[0m | \u001b[0m 0.06681 \u001b[0m | \u001b[0m 0.5343  \u001b[0m |\n",
            "| \u001b[0m 17      \u001b[0m | \u001b[0m 33.36   \u001b[0m | \u001b[0m 0.3392  \u001b[0m | \u001b[0m 0.2749  \u001b[0m |\n",
            "| \u001b[0m 18      \u001b[0m | \u001b[0m 0.2067  \u001b[0m | \u001b[0m 0.1909  \u001b[0m | \u001b[0m 0.6735  \u001b[0m |\n",
            "| \u001b[95m 19      \u001b[0m | \u001b[95m 3.341e+0\u001b[0m | \u001b[95m 0.9098  \u001b[0m | \u001b[95m 0.4161  \u001b[0m |\n",
            "| \u001b[0m 20      \u001b[0m | \u001b[0m 3.765e+0\u001b[0m | \u001b[0m 0.1681  \u001b[0m | \u001b[0m 0.6841  \u001b[0m |\n",
            "| \u001b[0m 21      \u001b[0m | \u001b[0m 2.24    \u001b[0m | \u001b[0m 0.9201  \u001b[0m | \u001b[0m 0.4042  \u001b[0m |\n",
            "| \u001b[0m 22      \u001b[0m | \u001b[0m 15.72   \u001b[0m | \u001b[0m 0.07974 \u001b[0m | \u001b[0m 0.6272  \u001b[0m |\n",
            "| \u001b[0m 23      \u001b[0m | \u001b[0m 0.1863  \u001b[0m | \u001b[0m 0.01099 \u001b[0m | \u001b[0m 0.3749  \u001b[0m |\n",
            "| \u001b[0m 24      \u001b[0m | \u001b[0m 1.336   \u001b[0m | \u001b[0m 0.2195  \u001b[0m | \u001b[0m 0.8328  \u001b[0m |\n",
            "| \u001b[0m 25      \u001b[0m | \u001b[0m 1.277   \u001b[0m | \u001b[0m 0.5103  \u001b[0m | \u001b[0m 0.7786  \u001b[0m |\n",
            "| \u001b[0m 26      \u001b[0m | \u001b[0m 2.793   \u001b[0m | \u001b[0m 0.8441  \u001b[0m | \u001b[0m 0.6097  \u001b[0m |\n",
            "| \u001b[0m 27      \u001b[0m | \u001b[0m 299.1   \u001b[0m | \u001b[0m 0.7915  \u001b[0m | \u001b[0m 0.7686  \u001b[0m |\n",
            "| \u001b[0m 28      \u001b[0m | \u001b[0m 1.5     \u001b[0m | \u001b[0m 0.01034 \u001b[0m | \u001b[0m 0.365   \u001b[0m |\n",
            "| \u001b[0m 29      \u001b[0m | \u001b[0m 78.45   \u001b[0m | \u001b[0m 0.4614  \u001b[0m | \u001b[0m 0.488   \u001b[0m |\n",
            "| \u001b[0m 30      \u001b[0m | \u001b[0m 1.125e+0\u001b[0m | \u001b[0m 0.9029  \u001b[0m | \u001b[0m 0.4189  \u001b[0m |\n",
            "| \u001b[0m 31      \u001b[0m | \u001b[0m 6.427   \u001b[0m | \u001b[0m 0.3143  \u001b[0m | \u001b[0m 0.2145  \u001b[0m |\n",
            "| \u001b[0m 32      \u001b[0m | \u001b[0m 3.85e+03\u001b[0m | \u001b[0m 0.9083  \u001b[0m | \u001b[0m 0.4133  \u001b[0m |\n",
            "| \u001b[0m 33      \u001b[0m | \u001b[0m 5.867e+0\u001b[0m | \u001b[0m 0.9046  \u001b[0m | \u001b[0m 0.4237  \u001b[0m |\n",
            "| \u001b[95m 34      \u001b[0m | \u001b[95m 2.821e+0\u001b[0m | \u001b[95m 0.9111  \u001b[0m | \u001b[95m 0.4176  \u001b[0m |\n",
            "| \u001b[0m 35      \u001b[0m | \u001b[0m 3.502e+0\u001b[0m | \u001b[0m 0.7387  \u001b[0m | \u001b[0m 0.2981  \u001b[0m |\n",
            "| \u001b[0m 36      \u001b[0m | \u001b[0m 9.083e+0\u001b[0m | \u001b[0m 0.6659  \u001b[0m | \u001b[0m 0.9458  \u001b[0m |\n",
            "| \u001b[0m 37      \u001b[0m | \u001b[0m 1.331   \u001b[0m | \u001b[0m 0.2224  \u001b[0m | \u001b[0m 0.8813  \u001b[0m |\n",
            "| \u001b[0m 38      \u001b[0m | \u001b[0m 0.4698  \u001b[0m | \u001b[0m 0.08495 \u001b[0m | \u001b[0m 0.6477  \u001b[0m |\n",
            "| \u001b[0m 39      \u001b[0m | \u001b[0m 2.849e+0\u001b[0m | \u001b[0m 0.8952  \u001b[0m | \u001b[0m 0.4704  \u001b[0m |\n",
            "| \u001b[0m 40      \u001b[0m | \u001b[0m 3.703e+0\u001b[0m | \u001b[0m 0.4322  \u001b[0m | \u001b[0m 0.8655  \u001b[0m |\n",
            "| \u001b[0m 41      \u001b[0m | \u001b[0m 2.569   \u001b[0m | \u001b[0m 0.0279  \u001b[0m | \u001b[0m 0.1382  \u001b[0m |\n",
            "| \u001b[0m 42      \u001b[0m | \u001b[0m 737.8   \u001b[0m | \u001b[0m 0.926   \u001b[0m | \u001b[0m 0.4566  \u001b[0m |\n",
            "| \u001b[0m 43      \u001b[0m | \u001b[0m 2.328   \u001b[0m | \u001b[0m 0.8823  \u001b[0m | \u001b[0m 0.8403  \u001b[0m |\n",
            "| \u001b[0m 44      \u001b[0m | \u001b[0m 2.009e+0\u001b[0m | \u001b[0m 0.6112  \u001b[0m | \u001b[0m 0.809   \u001b[0m |\n",
            "| \u001b[0m 45      \u001b[0m | \u001b[0m 13.32   \u001b[0m | \u001b[0m 0.06263 \u001b[0m | \u001b[0m 0.5274  \u001b[0m |\n",
            "| \u001b[0m 46      \u001b[0m | \u001b[0m 0.4737  \u001b[0m | \u001b[0m 0.3433  \u001b[0m | \u001b[0m 0.6393  \u001b[0m |\n",
            "| \u001b[0m 47      \u001b[0m | \u001b[0m 130.3   \u001b[0m | \u001b[0m 0.7272  \u001b[0m | \u001b[0m 0.2415  \u001b[0m |\n",
            "| \u001b[0m 48      \u001b[0m | \u001b[0m 5.246   \u001b[0m | \u001b[0m 0.7515  \u001b[0m | \u001b[0m 0.8588  \u001b[0m |\n",
            "| \u001b[0m 49      \u001b[0m | \u001b[0m 1.145   \u001b[0m | \u001b[0m 0.1587  \u001b[0m | \u001b[0m 0.6697  \u001b[0m |\n",
            "| \u001b[0m 50      \u001b[0m | \u001b[0m 2.461   \u001b[0m | \u001b[0m 0.2926  \u001b[0m | \u001b[0m 0.9978  \u001b[0m |\n",
            "=================================================\n"
          ]
        }
      ]
    },
    {
      "cell_type": "code",
      "source": [
        "print( optimizer.max )"
      ],
      "metadata": {
        "colab": {
          "base_uri": "https://localhost:8080/"
        },
        "id": "GfFevS93Y3RP",
        "outputId": "ba780f01-4677-45ba-ea2f-a9133009258b"
      },
      "execution_count": 27,
      "outputs": [
        {
          "output_type": "stream",
          "name": "stdout",
          "text": [
            "{'target': 2820995.5, 'params': {'lr': 0.9111313637898341, 'wd': 0.41757886369625574}}\n"
          ]
        }
      ]
    },
    {
      "cell_type": "code",
      "source": [
        "# hyperparmeter로 학습\n",
        "learning_rate =  0.9111313637898341\n",
        "weight_decay =  0.41757886369625574\n",
        "num_epoch = 1000\n",
        "lstm = LSTM(num_classes, input_size, hidden_size, num_layers, x_train_tensor.shape[1])\n",
        "loss_function = torch.nn.MSELoss() \n",
        "optimizer = optim.Adam(lstm.parameters(), lr = learning_rate)\n",
        "loss_list = []\n",
        "for epoch in range(num_epoch):\n",
        "  outputs = lstm.forward(X_train_tensors_final.to(device))\n",
        "  optimizer.zero_grad()\n",
        "\n",
        "  loss = loss_function(outputs, y_train_tensor.to(device))\n",
        "  loss_list.append(loss.detach().numpy())\n",
        "  loss.backward()\n",
        "\n",
        "  optimizer.step()\n",
        "  if epoch%100 == 0:\n",
        "    print('Epoch: {}, loss: {}%'.format(epoch, loss.item()))"
      ],
      "metadata": {
        "colab": {
          "base_uri": "https://localhost:8080/"
        },
        "id": "jOtYpIleZMVJ",
        "outputId": "075c2c5c-2d59-4369-a43c-4e82f9eff012"
      },
      "execution_count": 29,
      "outputs": [
        {
          "output_type": "stream",
          "name": "stdout",
          "text": [
            "Epoch: 0, loss: 0.9706291556358337%\n",
            "Epoch: 100, loss: 0.9895516037940979%\n",
            "Epoch: 200, loss: 0.7880679368972778%\n",
            "Epoch: 300, loss: 0.6565371751785278%\n",
            "Epoch: 400, loss: 0.5529198050498962%\n",
            "Epoch: 500, loss: 0.4656383991241455%\n",
            "Epoch: 600, loss: 0.4072442948818207%\n",
            "Epoch: 700, loss: 0.36380234360694885%\n",
            "Epoch: 800, loss: 0.36309295892715454%\n",
            "Epoch: 900, loss: 0.34587180614471436%\n"
          ]
        }
      ]
    },
    {
      "cell_type": "code",
      "source": [
        "# Plotting\n",
        "plt.figure(figsize = (10,6)) \n",
        "plt.plot(loss_list, label = 'loss')\n",
        "plt.xlabel('iteration')\n",
        "plt.ylabel('loss')\n",
        "plt.title('Loss')\n",
        "\n",
        "\n",
        "plt.show()\n"
      ],
      "metadata": {
        "colab": {
          "base_uri": "https://localhost:8080/",
          "height": 404
        },
        "id": "K44tZlhYZhr3",
        "outputId": "d9834164-14ed-4c28-ab6e-d90db3525c3f"
      },
      "execution_count": 33,
      "outputs": [
        {
          "output_type": "display_data",
          "data": {
            "text/plain": [
              "<Figure size 720x432 with 1 Axes>"
            ],
            "image/png": "[encoded data removed]"
          },
          "metadata": {
            "needs_background": "light"
          }
        }
      ]
    }
  ]
}