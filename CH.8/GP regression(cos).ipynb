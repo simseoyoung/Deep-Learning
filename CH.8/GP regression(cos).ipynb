{
  "nbformat": 4,
  "nbformat_minor": 0,
  "metadata": {
    "colab": {
      "name": "Untitled16.ipynb",
      "provenance": [],
      "authorship_tag": "ABX9TyPi65DaDeJD0NYxayDkNJdX",
      "include_colab_link": true
    },
    "kernelspec": {
      "name": "python3",
      "display_name": "Python 3"
    },
    "language_info": {
      "name": "python"
    }
  },
  "cells": [
    {
      "cell_type": "markdown",
      "metadata": {
        "id": "view-in-github",
        "colab_type": "text"
      },
      "source": [
        "<a href=\"https://colab.research.google.com/github/simseoyoung/Deep-Learning/blob/main/CH.8/GP%20regression(cos).ipynb\" target=\"_parent\"><img src=\"https://colab.research.google.com/assets/colab-badge.svg\" alt=\"Open In Colab\"/></a>"
      ]
    },
    {
      "cell_type": "markdown",
      "source": [
        "# Gaussian Process Regression\n",
        "\n",
        "- predict 값과 함께 predict 값의 불확실성도 알 수 있음 ( 신뢰도 ) <br>\n",
        "- cos 함수를 data로 사용해 불확실성과 예측 함께 나타내기"
      ],
      "metadata": {
        "id": "NGldOlHiM9AS"
      }
    },
    {
      "cell_type": "code",
      "execution_count": 2,
      "metadata": {
        "colab": {
          "base_uri": "https://localhost:8080/"
        },
        "id": "q8o7wNhmM8JE",
        "outputId": "92b4d107-57c1-49a3-d35d-6492f22ea7d8"
      },
      "outputs": [
        {
          "output_type": "stream",
          "name": "stdout",
          "text": [
            "Looking in indexes: https://pypi.org/simple, https://us-python.pkg.dev/colab-wheels/public/simple/\n",
            "Collecting gpytorch\n",
            "  Downloading gpytorch-1.6.0.tar.gz (310 kB)\n",
            "\u001b[K     |████████████████████████████████| 310 kB 5.2 MB/s \n",
            "\u001b[?25hBuilding wheels for collected packages: gpytorch\n",
            "  Building wheel for gpytorch (setup.py) ... \u001b[?25l\u001b[?25hdone\n",
            "  Created wheel for gpytorch: filename=gpytorch-1.6.0-py2.py3-none-any.whl size=509889 sha256=caaa27c6e9701c39b7f45ba064933c0bc8cb6d19e1ea6a2495007ce659947ae6\n",
            "  Stored in directory: /root/.cache/pip/wheels/66/b5/89/34c06ad393a6feb72b4cdde46d0f1c667f3e2632960f9df109\n",
            "Successfully built gpytorch\n",
            "Installing collected packages: gpytorch\n",
            "Successfully installed gpytorch-1.6.0\n"
          ]
        }
      ],
      "source": [
        "! pip install gpytorch\n",
        "import math\n",
        "import torch\n",
        "import gpytorch \n",
        "from matplotlib import pyplot as plt\n",
        "import numpy as np"
      ]
    },
    {
      "cell_type": "markdown",
      "source": [
        "[1] Data\n",
        "\n",
        "- cos함수로부터 data random하게 generate해 dataset 만들기"
      ],
      "metadata": {
        "id": "Yi5j69ffNwUF"
      }
    },
    {
      "cell_type": "code",
      "source": [
        "torch.manual_seed(1234) \n",
        "train_x = torch.linspace(0,1, 100)  # 0~1사이 수를 100등분\n",
        "print(train_x.size())\n",
        "train_x\n",
        "\n",
        "train_y = torch.cos(train_x*(2*math.pi)) + torch.randn(train_x.size())*math.sqrt(0.05)\n",
        "train_y.shape\n",
        "\n",
        "plt.scatter(train_x, train_y)\n",
        "plt.show()  "
      ],
      "metadata": {
        "colab": {
          "base_uri": "https://localhost:8080/",
          "height": 284
        },
        "id": "EYE0JWOgNlex",
        "outputId": "0b91bddf-56eb-4db1-8e80-c460a2ae1fcc"
      },
      "execution_count": 6,
      "outputs": [
        {
          "output_type": "stream",
          "name": "stdout",
          "text": [
            "torch.Size([100])\n"
          ]
        },
        {
          "output_type": "display_data",
          "data": {
            "text/plain": [
              "<Figure size 432x288 with 1 Axes>"
            ],
            "image/png": "[encoded data removed]"
          },
          "metadata": {
            "needs_background": "light"
          }
        }
      ]
    },
    {
      "cell_type": "markdown",
      "source": [
        "[2] Model"
      ],
      "metadata": {
        "id": "c6YObhsxOXKu"
      }
    },
    {
      "cell_type": "code",
      "source": [
        "class ExactGPModel(gpytorch.models.ExactGP):\n",
        "    def __init__(self, train_x, train_y, likelihood):\n",
        "        super(ExactGPModel, self).__init__(train_x, train_y, likelihood)\n",
        "        self.mean_module = gpytorch.means.ConstantMean() # mean값 구하는 module\n",
        "        self.covar_module = gpytorch.kernels.ScaleKernel(gpytorch.kernels.RBFKernel())\n",
        "        # Gaussian kernel가져와서 사용\n",
        "\n",
        "    def forward(self, x):\n",
        "        mean_x = self.mean_module(x)\n",
        "        covar_x = self.covar_module(x)\n",
        "        distribution = gpytorch.distributions.MultivariateNormal(mean_x, covar_x)\n",
        "        return distribution"
      ],
      "metadata": {
        "id": "g6UQg96TOW16"
      },
      "execution_count": 7,
      "outputs": []
    },
    {
      "cell_type": "code",
      "source": [
        "likelihood = gpytorch.likelihoods.GaussianLikelihood()\n",
        "model = ExactGPModel(train_x, train_y, likelihood) \n",
        "optimizer = torch.optim.Adam(model.parameters(), lr=0.01)\n",
        "\n",
        "# loss function(최적화 시 필요) : margianl log likelihood 사용\n",
        "mll = gpytorch.mlls.ExactMarginalLogLikelihood(likelihood, model)"
      ],
      "metadata": {
        "id": "bqpgCKkUOeNm"
      },
      "execution_count": 9,
      "outputs": []
    },
    {
      "cell_type": "markdown",
      "source": [
        "[3] Train"
      ],
      "metadata": {
        "id": "eKhYjEQQO03r"
      }
    },
    {
      "cell_type": "code",
      "source": [
        "epoch = 50\n",
        "\n",
        "model.train()\n",
        "likelihood.train()\n",
        "\n",
        "for i in range(epoch):\n",
        "    optimizer.zero_grad()\n",
        "\n",
        "    output = model(train_x)\n",
        "    loss = -mll(output, train_y)\n",
        "    loss.backward()\n",
        "    optimizer.step()\n",
        "    \n",
        "    print('Epoch : %d/%d - Loss: %.3f   lengthscale: %.3f   noise: %.3f' % (\n",
        "        i + 1, epoch, loss.item(),\n",
        "        model.covar_module.base_kernel.lengthscale.item(),\n",
        "        model.likelihood.noise.item()))"
      ],
      "metadata": {
        "colab": {
          "base_uri": "https://localhost:8080/"
        },
        "id": "fy2DlqoQO2fB",
        "outputId": "f8d89d15-a277-4afc-d056-b87aa73efbfe"
      },
      "execution_count": 10,
      "outputs": [
        {
          "output_type": "stream",
          "name": "stderr",
          "text": [
            "/usr/local/lib/python3.7/dist-packages/gpytorch/lazy/triangular_lazy_tensor.py:130: UserWarning: torch.triangular_solve is deprecated in favor of torch.linalg.solve_triangularand will be removed in a future PyTorch release.\n",
            "torch.linalg.solve_triangular has its arguments reversed and does not return a copy of one of the inputs.\n",
            "X = torch.triangular_solve(B, A).solution\n",
            "should be replaced with\n",
            "X = torch.linalg.solve_triangular(A, B). (Triggered internally at  ../aten/src/ATen/native/BatchLinearAlgebra.cpp:1672.)\n",
            "  res = torch.triangular_solve(right_tensor, self.evaluate(), upper=self.upper).solution\n"
          ]
        },
        {
          "output_type": "stream",
          "name": "stdout",
          "text": [
            "Epoch : 1/50 - Loss: 1.002   lengthscale: 0.688   noise: 0.688\n",
            "Epoch : 2/50 - Loss: 0.997   lengthscale: 0.683   noise: 0.683\n",
            "Epoch : 3/50 - Loss: 0.991   lengthscale: 0.678   noise: 0.678\n",
            "Epoch : 4/50 - Loss: 0.986   lengthscale: 0.673   noise: 0.673\n",
            "Epoch : 5/50 - Loss: 0.980   lengthscale: 0.668   noise: 0.669\n",
            "Epoch : 6/50 - Loss: 0.974   lengthscale: 0.664   noise: 0.664\n",
            "Epoch : 7/50 - Loss: 0.968   lengthscale: 0.659   noise: 0.659\n",
            "Epoch : 8/50 - Loss: 0.963   lengthscale: 0.654   noise: 0.654\n",
            "Epoch : 9/50 - Loss: 0.957   lengthscale: 0.649   noise: 0.649\n",
            "Epoch : 10/50 - Loss: 0.951   lengthscale: 0.644   noise: 0.644\n",
            "Epoch : 11/50 - Loss: 0.945   lengthscale: 0.640   noise: 0.640\n",
            "Epoch : 12/50 - Loss: 0.939   lengthscale: 0.635   noise: 0.635\n",
            "Epoch : 13/50 - Loss: 0.933   lengthscale: 0.630   noise: 0.630\n",
            "Epoch : 14/50 - Loss: 0.927   lengthscale: 0.625   noise: 0.625\n",
            "Epoch : 15/50 - Loss: 0.921   lengthscale: 0.621   noise: 0.621\n",
            "Epoch : 16/50 - Loss: 0.915   lengthscale: 0.616   noise: 0.616\n",
            "Epoch : 17/50 - Loss: 0.909   lengthscale: 0.612   noise: 0.611\n",
            "Epoch : 18/50 - Loss: 0.903   lengthscale: 0.607   noise: 0.607\n",
            "Epoch : 19/50 - Loss: 0.897   lengthscale: 0.602   noise: 0.602\n",
            "Epoch : 20/50 - Loss: 0.891   lengthscale: 0.598   noise: 0.597\n",
            "Epoch : 21/50 - Loss: 0.885   lengthscale: 0.593   noise: 0.593\n",
            "Epoch : 22/50 - Loss: 0.879   lengthscale: 0.589   noise: 0.588\n",
            "Epoch : 23/50 - Loss: 0.873   lengthscale: 0.585   noise: 0.584\n",
            "Epoch : 24/50 - Loss: 0.867   lengthscale: 0.580   noise: 0.579\n",
            "Epoch : 25/50 - Loss: 0.861   lengthscale: 0.576   noise: 0.574\n",
            "Epoch : 26/50 - Loss: 0.856   lengthscale: 0.572   noise: 0.570\n",
            "Epoch : 27/50 - Loss: 0.850   lengthscale: 0.567   noise: 0.565\n",
            "Epoch : 28/50 - Loss: 0.844   lengthscale: 0.563   noise: 0.561\n",
            "Epoch : 29/50 - Loss: 0.838   lengthscale: 0.559   noise: 0.556\n",
            "Epoch : 30/50 - Loss: 0.832   lengthscale: 0.555   noise: 0.552\n",
            "Epoch : 31/50 - Loss: 0.826   lengthscale: 0.551   noise: 0.548\n",
            "Epoch : 32/50 - Loss: 0.821   lengthscale: 0.547   noise: 0.543\n",
            "Epoch : 33/50 - Loss: 0.815   lengthscale: 0.543   noise: 0.539\n",
            "Epoch : 34/50 - Loss: 0.809   lengthscale: 0.539   noise: 0.534\n",
            "Epoch : 35/50 - Loss: 0.804   lengthscale: 0.535   noise: 0.530\n",
            "Epoch : 36/50 - Loss: 0.798   lengthscale: 0.531   noise: 0.526\n",
            "Epoch : 37/50 - Loss: 0.793   lengthscale: 0.527   noise: 0.521\n",
            "Epoch : 38/50 - Loss: 0.787   lengthscale: 0.523   noise: 0.517\n",
            "Epoch : 39/50 - Loss: 0.782   lengthscale: 0.520   noise: 0.513\n",
            "Epoch : 40/50 - Loss: 0.776   lengthscale: 0.516   noise: 0.509\n",
            "Epoch : 41/50 - Loss: 0.771   lengthscale: 0.512   noise: 0.504\n",
            "Epoch : 42/50 - Loss: 0.765   lengthscale: 0.509   noise: 0.500\n",
            "Epoch : 43/50 - Loss: 0.760   lengthscale: 0.505   noise: 0.496\n",
            "Epoch : 44/50 - Loss: 0.755   lengthscale: 0.502   noise: 0.492\n",
            "Epoch : 45/50 - Loss: 0.750   lengthscale: 0.498   noise: 0.488\n",
            "Epoch : 46/50 - Loss: 0.744   lengthscale: 0.495   noise: 0.484\n",
            "Epoch : 47/50 - Loss: 0.739   lengthscale: 0.492   noise: 0.479\n",
            "Epoch : 48/50 - Loss: 0.734   lengthscale: 0.488   noise: 0.475\n",
            "Epoch : 49/50 - Loss: 0.729   lengthscale: 0.485   noise: 0.471\n",
            "Epoch : 50/50 - Loss: 0.724   lengthscale: 0.482   noise: 0.467\n"
          ]
        }
      ]
    },
    {
      "cell_type": "markdown",
      "source": [
        "[4] Predict"
      ],
      "metadata": {
        "id": "Ii-d7w4aPEwl"
      }
    },
    {
      "cell_type": "code",
      "source": [
        "model.eval()\n",
        "likelihood.eval()\n",
        "\n",
        "# TEST Model \n",
        "with torch.no_grad(), gpytorch.settings.fast_pred_var():\n",
        "    test_x = torch.linspace(0, 3, 51) \n",
        "    observed_pred = likelihood(model(test_x))  "
      ],
      "metadata": {
        "id": "VXU51i4bPBqh"
      },
      "execution_count": 12,
      "outputs": []
    },
    {
      "cell_type": "code",
      "source": [
        "# 결과 plot하여 prediction과 uncertainty 확인\n",
        "\n",
        "f, ax = plt.subplots(1, 1, figsize=(8, 5))\n",
        "lower, upper = observed_pred.confidence_region()\n",
        "# 실제 값\n",
        "ax.plot(train_x.numpy(), train_y.numpy(), 'k*')\n",
        "# 예측값 평균\n",
        "ax.plot(test_x.numpy(), observed_pred.mean.numpy(), 'b')\n",
        "\n",
        "# Confidence bound (boundary를 색칠함)\n",
        "ax.fill_between(test_x.numpy(), lower.numpy(), upper.numpy(), alpha=0.3)\n",
        "ax.set_ylim([-3, 3])# y값의 범위를 [-3, 3]\n",
        "\n",
        "ax.legend(['Observed Data', 'Mean', 'Confidence'])"
      ],
      "metadata": {
        "colab": {
          "base_uri": "https://localhost:8080/",
          "height": 343
        },
        "id": "LvJrSvzzPO-A",
        "outputId": "d0767cb8-e748-4387-cacd-73b6d535b1ab"
      },
      "execution_count": 14,
      "outputs": [
        {
          "output_type": "execute_result",
          "data": {
            "text/plain": [
              "<matplotlib.legend.Legend at 0x7ff71ed02510>"
            ]
          },
          "metadata": {},
          "execution_count": 14
        },
        {
          "output_type": "display_data",
          "data": {
            "text/plain": [
              "<Figure size 576x360 with 1 Axes>"
            ],
            "image/png": "[encoded data removed]"
          },
          "metadata": {
            "needs_background": "light"
          }
        }
      ]
    }
  ]
}