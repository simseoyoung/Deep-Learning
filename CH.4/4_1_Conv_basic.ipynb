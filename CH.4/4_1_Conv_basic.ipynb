{
  "cells": [
    {
      "cell_type": "markdown",
      "metadata": {
        "id": "view-in-github",
        "colab_type": "text"
      },
      "source": [
        "<a href=\"https://colab.research.google.com/github/simseoyoung/Deep-Learning/blob/main/CH.4/4_1_Conv_basic.ipynb\" target=\"_parent\"><img src=\"https://colab.research.google.com/assets/colab-badge.svg\" alt=\"Open In Colab\"/></a>"
      ]
    },
    {
      "cell_type": "code",
      "execution_count": 1,
      "metadata": {
        "id": "CYxR6re6fi6Y"
      },
      "outputs": [],
      "source": [
        "import torch\n",
        "import torch.nn as nn"
      ]
    },
    {
      "cell_type": "markdown",
      "metadata": {
        "id": "t8XGQ9_-fi6f"
      },
      "source": [
        "### Filter 는 어떻게 선언하는 걸까? (feat. Conv2d)\n",
        "### Convolutional Filter 와 친해지는 시간을 가져보자!!"
      ]
    },
    {
      "cell_type": "markdown",
      "metadata": {
        "id": "4UiXRnCDfi6i"
      },
      "source": [
        "#### Conv2d (input channel, output channel, kernel_size, stride, padding)"
      ]
    },
    {
      "cell_type": "markdown",
      "metadata": {
        "id": "TXFCbwG1fi6j"
      },
      "source": [
        "(input_ch = 1, output_ch = 1, kernel_size = 3) ☞ input channel 1 (= 흑백 img), output chennel 도 1, kernel size = 3 \\* 3<br>\n",
        "만약 kernel_size = (3,1) 이라면? ☞ 3 \\* 1 짜리 커널을 일컫는다"
      ]
    },
    {
      "cell_type": "markdown",
      "metadata": {
        "id": "_L-x6LsFfi6k"
      },
      "source": [
        "### - Example : Convolutional Layer 선언하기"
      ]
    },
    {
      "cell_type": "markdown",
      "metadata": {
        "id": "NasxldEVfi6k"
      },
      "source": [
        "input channel 이 1, output channel 이 12, kernel size 가 2 * 2 짜리 Conv layer 는 어떻게 만들까요?"
      ]
    },
    {
      "cell_type": "code",
      "execution_count": 2,
      "metadata": {
        "colab": {
          "base_uri": "https://localhost:8080/"
        },
        "id": "Z863sodPfi6m",
        "outputId": "1a41ba65-78a1-47bc-fc48-9544af3cbfad"
      },
      "outputs": [
        {
          "output_type": "execute_result",
          "data": {
            "text/plain": [
              "Conv2d(1, 12, kernel_size=(2, 2), stride=(1, 1))"
            ]
          },
          "metadata": {},
          "execution_count": 2
        }
      ],
      "source": [
        "conv = nn.Conv2d(1,12,2)  \n",
        "conv"
      ]
    },
    {
      "cell_type": "markdown",
      "metadata": {
        "id": "F0h363mnfi6p"
      },
      "source": [
        "그렇다면 input channel 이 3, output channel 이 5, kernel size 가 11, stride 가 4, padding 1 은 어떻게 만들죠?"
      ]
    },
    {
      "cell_type": "code",
      "execution_count": 3,
      "metadata": {
        "scrolled": true,
        "colab": {
          "base_uri": "https://localhost:8080/"
        },
        "id": "NpE4jmKOfi6q",
        "outputId": "4d48f9fa-296d-4b63-e7ee-4b4909e714ee"
      },
      "outputs": [
        {
          "output_type": "execute_result",
          "data": {
            "text/plain": [
              "Conv2d(3, 5, kernel_size=(11, 11), stride=(4, 4), padding=(1, 1))"
            ]
          },
          "metadata": {},
          "execution_count": 3
        }
      ],
      "source": [
        "conv = nn.Conv2d(3, 5, 11, stride = 4, padding = 1)\n",
        "conv"
      ]
    },
    {
      "cell_type": "markdown",
      "metadata": {
        "id": "Eofm_0ksfi6t"
      },
      "source": [
        "### - 이제는 실제로 data 를 Conv Layer 에 넣어보고 output 을 관찰해봅시다!\n",
        "### - Kernel size, stride, padding 을 이용해서 output data의 shape 를 계산하려면?"
      ]
    },
    {
      "cell_type": "markdown",
      "metadata": {
        "id": "O0Rp7j_yfi6v"
      },
      "source": [
        "$$shape = \\displaystyle \\frac{(Input shape) - (kernel size)+ 2*(padding)}{stride} + 1$$"
      ]
    },
    {
      "cell_type": "markdown",
      "metadata": {
        "id": "sMyfdDgnfi6w"
      },
      "source": [
        "Ex)\n",
        " - input data shape = 57, 57\n",
        " - Kernel size = (3,3)\n",
        " - stride = 2\n",
        " - padding = 0"
      ]
    },
    {
      "cell_type": "markdown",
      "metadata": {
        "id": "iwe30EPHfi6x"
      },
      "source": [
        "$$shape = \\displaystyle \\frac{(57,57) - (3)+ 2*(0)}{2} + 1= \\displaystyle \\frac{(54,54)}{2} + 1= \\displaystyle {(27,27)} + 1= \\displaystyle {(28,28)}$$"
      ]
    },
    {
      "cell_type": "markdown",
      "metadata": {
        "id": "zs8SP2zgfi6x"
      },
      "source": [
        "#### 실제로 해보자 (예제 1)<br>\n",
        " - H = 57, W = 57 짜리 input 을 선언 (data 갯수 1, channel 3 이라 가정)\n",
        " - Output channel 은 32\n",
        " - Con Layer는 아까와 마찬가지로 kernel size 가 3, stride 가 2, padding 0"
      ]
    },
    {
      "cell_type": "markdown",
      "metadata": {
        "id": "kPAmLS-afi6y"
      },
      "source": [
        "##### 1. data 선언"
      ]
    },
    {
      "cell_type": "code",
      "execution_count": 4,
      "metadata": {
        "scrolled": true,
        "colab": {
          "base_uri": "https://localhost:8080/"
        },
        "id": "je4WPtbwfi6y",
        "outputId": "7f0202c2-424b-471a-fdc3-19f5ae6bfcda"
      },
      "outputs": [
        {
          "output_type": "execute_result",
          "data": {
            "text/plain": [
              "torch.Size([1, 3, 57, 57])"
            ]
          },
          "metadata": {},
          "execution_count": 4
        }
      ],
      "source": [
        "input_size = torch.Tensor(1, 3 ,57, 57) # 1 = batch size, 3 = input channel. 57,57 = data shape \n",
        "input_size.shape"
      ]
    },
    {
      "cell_type": "markdown",
      "metadata": {
        "id": "dC0dz3QUfi6z"
      },
      "source": [
        "##### 2. Convolutional Layer 선언"
      ]
    },
    {
      "cell_type": "code",
      "execution_count": 5,
      "metadata": {
        "colab": {
          "base_uri": "https://localhost:8080/"
        },
        "id": "HZvTiTkBfi6z",
        "outputId": "d2764d6d-91eb-4e2e-8148-ea505eaf281a"
      },
      "outputs": [
        {
          "output_type": "execute_result",
          "data": {
            "text/plain": [
              "Conv2d(3, 32, kernel_size=(3, 3), stride=(2, 2))"
            ]
          },
          "metadata": {},
          "execution_count": 5
        }
      ],
      "source": [
        "conv = nn.Conv2d(3, 32, 3, stride =2, padding =0)\n",
        "conv"
      ]
    },
    {
      "cell_type": "markdown",
      "metadata": {
        "id": "2LvLi4PPfi60"
      },
      "source": [
        "첫번째 Convolutional Layer 에 통과시켜보자<br>\n",
        "Conv2d(3, 1, kernel_size=(3, 3), stride=(2, 2))"
      ]
    },
    {
      "cell_type": "markdown",
      "metadata": {
        "id": "U2JBmYSJfi61"
      },
      "source": [
        "#### → output channel 32 그리고 28 * 28 의 output 을 얻었다"
      ]
    },
    {
      "cell_type": "code",
      "execution_count": 6,
      "metadata": {
        "colab": {
          "base_uri": "https://localhost:8080/"
        },
        "id": "k5n7tN3yfi61",
        "outputId": "8c370b3b-39d5-4cf6-b691-390c548cca7c"
      },
      "outputs": [
        {
          "output_type": "execute_result",
          "data": {
            "text/plain": [
              "torch.Size([1, 32, 28, 28])"
            ]
          },
          "metadata": {},
          "execution_count": 6
        }
      ],
      "source": [
        "out = conv(input_size)\n",
        "out.shape\n",
        "\n",
        "# 여기서 55,55 는 어떻게 계산되었을까?\n",
        "# (57 - 3 + 2*padding) / 2 + 1 = 28"
      ]
    },
    {
      "cell_type": "markdown",
      "metadata": {
        "id": "-BaDeI_Jfi62"
      },
      "source": [
        "### Quiz) 예시를 통해서 스스로 계산해보기 (data 의 갯수는 전부  1개)\n",
        " - Practice 1<br>input shape ☞ 128, 128  <br>Conv layer ☞ kernel size=5* 5 stride=2, padding=1 <br> input channel 3 <br> output channel 32<br><br> \n",
        " - Practice 2<br>input shape ☞ 224, 224<br>Conv layer ☞ kernel size=7* 7 stride=4, padding=0 <br> input channel 64 <br> output channel 128"
      ]
    },
    {
      "cell_type": "markdown",
      "metadata": {
        "id": "U2yuyx6yfi62"
      },
      "source": [
        "### Pratice 1"
      ]
    },
    {
      "cell_type": "code",
      "execution_count": null,
      "metadata": {
        "id": "jgXvHIdKfi63",
        "outputId": "b3a81c46-e6b1-4540-fc27-1756204fd4e4"
      },
      "outputs": [
        {
          "name": "stdout",
          "output_type": "stream",
          "text": [
            "output data 의 shape 는 torch.Size([1, 32, 63, 63])\n"
          ]
        }
      ],
      "source": [
        "# ((128, 128) - 5 + 2) / 2 + 1 = 63.5 => 버림으로 63\n",
        "\n",
        "input_data = torch.Tensor(1,3,128,128)\n",
        "Convlayer = nn.Conv2d(3, 32, 5,2,1)\n",
        "\n",
        "output_data = Convlayer(input_data)\n",
        "\n",
        "print(\"output data 의 shape 는\", output_data.shape)"
      ]
    },
    {
      "cell_type": "markdown",
      "metadata": {
        "id": "AdxHOSl9fi64"
      },
      "source": [
        "#### 위의 예제를 통해 소수점이 있는 (나누어 떨어지지 않는) 경우 결과값에서 '버림' 을 함을 알 수 있다.\n",
        "63.5 => 63"
      ]
    },
    {
      "cell_type": "markdown",
      "metadata": {
        "id": "7JLxssxVfi65"
      },
      "source": [
        "### Pratice 2"
      ]
    },
    {
      "cell_type": "code",
      "execution_count": null,
      "metadata": {
        "scrolled": true,
        "id": "sJCNKEMZfi65",
        "outputId": "eedbabee-b64e-44ff-a8a6-6d719f6b2524"
      },
      "outputs": [
        {
          "name": "stdout",
          "output_type": "stream",
          "text": [
            "output data 의 shape 는 torch.Size([1, 128, 55, 55])\n"
          ]
        }
      ],
      "source": [
        "# ((224, 224) - 7 + 0) / 4 + 1 = 55.25 => 버림으로 55\n",
        "\n",
        "input_data = torch.Tensor(1, 64, 224, 224)\n",
        "Convlayer = nn.Conv2d(64, 128, 7, 4, 0)\n",
        "\n",
        "output_data = Convlayer(input_data)\n",
        "\n",
        "print(\"output data 의 shape 는\", output_data.shape)"
      ]
    },
    {
      "cell_type": "markdown",
      "metadata": {
        "id": "6nV_09ETfi66"
      },
      "source": [
        "### 자꾸 나누어 떨어지지 '않는' 것만 하니까 뭔가 아쉽다!"
      ]
    },
    {
      "cell_type": "markdown",
      "metadata": {
        "id": "kP4q95Oxfi66"
      },
      "source": [
        "input shape ☞ 40, 40 <br>\n",
        "Conv layer ☞ kernel size=4* 4 stride=4, padding=4 <br>\n",
        "input channel 4 <br> output channel 4"
      ]
    },
    {
      "cell_type": "code",
      "execution_count": null,
      "metadata": {
        "id": "eBJPgyj1fi66",
        "outputId": "34f2278f-ba49-45be-f866-b3386152c0ac"
      },
      "outputs": [
        {
          "name": "stdout",
          "output_type": "stream",
          "text": [
            "output data 의 shape 는 torch.Size([1, 4, 12, 12])\n"
          ]
        }
      ],
      "source": [
        "# ((40, 40) - 4 + 8) / 4 + 1 = 12\n",
        "\n",
        "input_data = torch.Tensor(1, 4, 40, 40)\n",
        "Convlayer = nn.Conv2d(4, 4, 4, 4, 4)\n",
        "\n",
        "output_data = Convlayer(input_data)\n",
        "\n",
        "print(\"output data 의 shape 는\", output_data.shape)"
      ]
    }
  ],
  "metadata": {
    "kernelspec": {
      "display_name": "Python 3",
      "language": "python",
      "name": "python3"
    },
    "language_info": {
      "codemirror_mode": {
        "name": "ipython",
        "version": 3
      },
      "file_extension": ".py",
      "mimetype": "text/x-python",
      "name": "python",
      "nbconvert_exporter": "python",
      "pygments_lexer": "ipython3",
      "version": "3.7.7"
    },
    "colab": {
      "name": "day4_01_Conv_basic-answer.ipynb",
      "provenance": [],
      "include_colab_link": true
    }
  },
  "nbformat": 4,
  "nbformat_minor": 0
}