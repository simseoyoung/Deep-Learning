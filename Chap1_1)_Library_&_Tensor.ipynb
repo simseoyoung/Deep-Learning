{
  "cells": [
    {
      "cell_type": "markdown",
      "metadata": {
        "id": "view-in-github",
        "colab_type": "text"
      },
      "source": [
        "<a href=\"https://colab.research.google.com/github/simseoyoung/Deep-Learning/blob/main/Chap1_1)_Library_%26_Tensor.ipynb\" target=\"_parent\"><img src=\"https://colab.research.google.com/assets/colab-badge.svg\" alt=\"Open In Colab\"/></a>"
      ]
    },
    {
      "cell_type": "markdown",
      "metadata": {
        "id": "ek8A_vKGvtYz"
      },
      "source": [
        "## [1]모듈 불러오기"
      ]
    },
    {
      "cell_type": "code",
      "execution_count": null,
      "metadata": {
        "id": "IHVwoJaJvtY8",
        "outputId": "2dc71e06-5fb4-41f7-a1a2-907f68370900"
      },
      "outputs": [
        {
          "name": "stdout",
          "output_type": "stream",
          "text": [
            "Pytorch 버전: 1.5.0\n",
            "pandas 버전: 1.0.1\n",
            "matplotlib 버전: 3.1.3\n",
            "NumPy 버전: 1.18.1\n",
            "scikit-learn 버전: 0.22.1\n"
          ]
        }
      ],
      "source": [
        "import torch\n",
        "print(\"Pytorch 버전: {}\".format(torch.__version__))\n",
        "\n",
        "import pandas as pd\n",
        "print(\"pandas 버전: {}\".format(pd.__version__))\n",
        "\n",
        "import matplotlib\n",
        "print(\"matplotlib 버전: {}\".format(matplotlib.__version__))\n",
        "\n",
        "import numpy as np\n",
        "print(\"NumPy 버전: {}\".format(np.__version__))\n",
        "\n",
        "import sklearn\n",
        "print(\"scikit-learn 버전: {}\".format(sklearn.__version__))"
      ]
    },
    {
      "cell_type": "markdown",
      "metadata": {
        "id": "4wswPUcqvtZD"
      },
      "source": [
        "## [2] Python 기본"
      ]
    },
    {
      "cell_type": "code",
      "execution_count": null,
      "metadata": {
        "id": "i9a0XzKXvtZE",
        "outputId": "db759a8a-025e-4c63-fc74-f4d177a12ad0"
      },
      "outputs": [
        {
          "name": "stdout",
          "output_type": "stream",
          "text": [
            "Hello baro\n"
          ]
        }
      ],
      "source": [
        "# print\n",
        "print('Hello baro')"
      ]
    },
    {
      "cell_type": "code",
      "execution_count": null,
      "metadata": {
        "id": "ESx2XwkPvtZG",
        "outputId": "ec59bfd8-7a20-4f26-e230-f458c1f16a5d"
      },
      "outputs": [
        {
          "name": "stdout",
          "output_type": "stream",
          "text": [
            "3 <class 'int'>\n",
            "1.0 <class 'float'>\n",
            "data <class 'str'>\n"
          ]
        }
      ],
      "source": [
        "# Variables\n",
        "num = 3\n",
        "print(num, type(num))\n",
        "\n",
        "real_value = 1.0\n",
        "print(real_value, type(real_value))\n",
        "\n",
        "string = 'data'\n",
        "print(string, type(string))"
      ]
    },
    {
      "cell_type": "code",
      "execution_count": null,
      "metadata": {
        "id": "Szdv-f_ovtZH",
        "outputId": "e4dc82af-1bc1-4525-b1f3-a2956ecd461b"
      },
      "outputs": [
        {
          "name": "stdout",
          "output_type": "stream",
          "text": [
            "<class 'list'>\n",
            "[1, 2, 3, 4, 5]\n"
          ]
        }
      ],
      "source": [
        "#자료구조, 리스트\n",
        "baro_list = [1, 2, 3, 4, 5]\n",
        "\n",
        "print(type(baro_list))\n",
        "print(baro_list)"
      ]
    },
    {
      "cell_type": "code",
      "execution_count": null,
      "metadata": {
        "id": "l7QXHymvvtZJ",
        "outputId": "fe113c0b-c958-4e46-c7c9-2bbcc51fa496"
      },
      "outputs": [
        {
          "name": "stdout",
          "output_type": "stream",
          "text": [
            "[1, 2, 3, 4, 5, 6]\n"
          ]
        }
      ],
      "source": [
        "#리스트에 값 추가하기\n",
        "add_value=6\n",
        "\n",
        "baro_list.append(add_value)\n",
        "\n",
        "print(baro_list) "
      ]
    },
    {
      "cell_type": "code",
      "execution_count": null,
      "metadata": {
        "id": "k04gEYbwvtZL",
        "outputId": "0b3406f2-acd6-47fc-af30-503860de1bd6"
      },
      "outputs": [
        {
          "data": {
            "text/plain": [
              "6"
            ]
          },
          "execution_count": 6,
          "metadata": {},
          "output_type": "execute_result"
        }
      ],
      "source": [
        "# list 크기\n",
        "len(baro_list)"
      ]
    },
    {
      "cell_type": "code",
      "execution_count": null,
      "metadata": {
        "id": "N8FjcI43vtZU",
        "outputId": "9b7f9e31-a086-4940-bf58-c65ed669d4b0"
      },
      "outputs": [
        {
          "name": "stdout",
          "output_type": "stream",
          "text": [
            "0 하나\n",
            "1 둘\n",
            "2 셋\n",
            "3 넷\n",
            "4 다섯\n"
          ]
        }
      ],
      "source": [
        "# enumerate 낱낱이 세다\n",
        "baro_list = ['하나','둘', '셋','넷','다섯']\n",
        "\n",
        "for index , value in enumerate(baro_list): # index값과 list 값을 return\n",
        "    print(index, value)\n"
      ]
    },
    {
      "cell_type": "markdown",
      "metadata": {
        "id": "pKEfIT7mvtZX"
      },
      "source": [
        "## [3] Numpy"
      ]
    },
    {
      "cell_type": "markdown",
      "metadata": {
        "id": "2tymh1FzvtZZ"
      },
      "source": [
        "#### 1) array - 다차원 연산의 기본 데이터 타입"
      ]
    },
    {
      "cell_type": "code",
      "execution_count": null,
      "metadata": {
        "id": "NrI960muvtZb",
        "outputId": "087b2996-2169-4948-f5a8-6a1874031743"
      },
      "outputs": [
        {
          "name": "stdout",
          "output_type": "stream",
          "text": [
            "num → 3\n",
            "<class 'numpy.ndarray'>\n",
            "\n",
            "\n",
            "string → data\n",
            "<class 'numpy.ndarray'>\n",
            "\n",
            "\n",
            "arr_onerank → [1 2 3]\n",
            "<class 'numpy.ndarray'>\n",
            "\n",
            "\n",
            "arr_matrix → [[1 2 3]\n",
            " [4 5 6]]\n",
            "<class 'numpy.ndarray'>\n"
          ]
        }
      ],
      "source": [
        "# np array and print\n",
        "num = np.array(3)\n",
        "print(\"num →\", num)\n",
        "print(type(num))\n",
        "print('\\n')\n",
        "\n",
        "string = np.array('data')\n",
        "print(\"string →\", string)\n",
        "print(type(string))\n",
        "print('\\n')\n",
        "\n",
        "arr_onerank = np.array([1, 2, 3])\n",
        "print(\"arr_onerank →\", arr_onerank)\n",
        "print(type(arr_onerank))\n",
        "print('\\n')\n",
        "\n",
        "arr_matrix = np.array([[1, 2, 3],[4, 5, 6]])\n",
        "print(\"arr_matrix →\", arr_matrix)\n",
        "print(type(arr_matrix))"
      ]
    },
    {
      "cell_type": "markdown",
      "metadata": {
        "id": "LjaHF_QEvtZe"
      },
      "source": [
        "#### 2) array size & reshape"
      ]
    },
    {
      "cell_type": "code",
      "execution_count": null,
      "metadata": {
        "id": "tcU-q2yRvtZf",
        "outputId": "4588f7bf-633b-451b-9390-5e45b3653b25"
      },
      "outputs": [
        {
          "name": "stdout",
          "output_type": "stream",
          "text": [
            "()\n",
            "(3,)\n",
            "(2, 3)\n",
            "[[1 2 3]\n",
            " [4 5 6]]\n",
            "arr_reshape의 shape:  (6,)\n"
          ]
        },
        {
          "data": {
            "text/plain": [
              "array([1, 2, 3, 4, 5, 6])"
            ]
          },
          "execution_count": 9,
          "metadata": {},
          "output_type": "execute_result"
        }
      ],
      "source": [
        "# shape, reshape\n",
        "print(num.shape)\n",
        "print(arr_onerank.shape)\n",
        "print(arr_matrix.shape)\n",
        "print(arr_matrix)\n",
        "\n",
        "arr_reshape = arr_matrix.reshape(-1) # \"-1\"은 나머지 성분을 차례로 배열\n",
        "print('arr_reshape의 shape: ',arr_reshape.shape)\n",
        "arr_reshape"
      ]
    },
    {
      "cell_type": "markdown",
      "metadata": {
        "id": "irXxibn2vtZl"
      },
      "source": [
        "#### 3) array 생성"
      ]
    },
    {
      "cell_type": "code",
      "execution_count": null,
      "metadata": {
        "id": "4h1sBGbHvtZm",
        "outputId": "2b39f995-e55f-4cc1-e413-25a8343a82da"
      },
      "outputs": [
        {
          "name": "stdout",
          "output_type": "stream",
          "text": [
            "linspace_arr : \n",
            " [ 0.   2.5  5.   7.5 10. ]\n",
            "\n",
            "rand_arr : \n",
            " [0.15266373 0.30235661 0.06203641 0.45986034 0.83525338 0.92699705\n",
            " 0.72698898 0.76849622 0.26920507 0.64402929]\n",
            "\n",
            "normal_arr : \n",
            " [[-1.75244452  1.00244907]]\n"
          ]
        }
      ],
      "source": [
        "np.random.seed(777)\n",
        "# Generate data from numpy\n",
        "linspace_arr = np.linspace(0, 10, 5)\n",
        "print(f'linspace_arr : \\n {linspace_arr}\\n')\n",
        "\n",
        "# 0과 1사이의 난수 생성\n",
        "rand_arr = np.random.rand(10)\n",
        "print(f'rand_arr : \\n {rand_arr}\\n')\n",
        "\n",
        "# randn 명령은 기댓값이 0이고 표준편차가 1인 가우시안 표준 정규 분포를 따르는 난수를 생성한다. 인수 사용법은 rand 명령과 같다.\n",
        "normal_arr = np.random.randn(1,2)\n",
        "print(f'normal_arr : \\n {normal_arr}')\n",
        "\n"
      ]
    },
    {
      "cell_type": "code",
      "execution_count": null,
      "metadata": {
        "id": "r_X4kVbqvtZo",
        "outputId": "fc45d7ca-e9e1-4640-ece9-24d0e9f08838"
      },
      "outputs": [
        {
          "data": {
            "text/plain": [
              "array([1, 3, 5, 7, 9])"
            ]
          },
          "execution_count": 11,
          "metadata": {},
          "output_type": "execute_result"
        }
      ],
      "source": [
        "# Arange 함수 - 범위내 지정된 간격으로 array 생성\n",
        "arange_arr= np.arange(1, 10, 2)# (stop) or (start,stop) or (start, stop, step) # stop은 포함되지않음\n",
        "arange_arr"
      ]
    },
    {
      "cell_type": "code",
      "execution_count": null,
      "metadata": {
        "id": "I6MvcLnRvtZp",
        "outputId": "b67546d2-d4fc-4a40-d7ba-6c859b54fa0f"
      },
      "outputs": [
        {
          "data": {
            "text/plain": [
              "array([0, 1, 2, 3, 4])"
            ]
          },
          "execution_count": 12,
          "metadata": {},
          "output_type": "execute_result"
        }
      ],
      "source": [
        "arange_arr2= np.arange(0, 5, 1)\n",
        "arange_arr2"
      ]
    },
    {
      "cell_type": "markdown",
      "metadata": {
        "id": "J2wxYRnfvtZq"
      },
      "source": [
        "#### 4) numpy 합치기"
      ]
    },
    {
      "cell_type": "code",
      "execution_count": null,
      "metadata": {
        "id": "ww3J3dQBvtZr",
        "outputId": "5446faa5-5d81-40ef-a5db-9f9d95bd6771"
      },
      "outputs": [
        {
          "name": "stdout",
          "output_type": "stream",
          "text": [
            "[1 2 3 4 5 6]\n"
          ]
        }
      ],
      "source": [
        "arr1 = np.array([1, 2, 3]) \n",
        "arr2 = np.array([4, 5, 6])\n",
        "arr3 = np.concatenate([arr1, arr2], axis=0 )\n",
        "\n",
        "print(arr3)"
      ]
    },
    {
      "cell_type": "code",
      "execution_count": null,
      "metadata": {
        "id": "000iIuPDvtZt",
        "outputId": "457cbfef-6e5b-4374-c690-1f2d917934af"
      },
      "outputs": [
        {
          "name": "stdout",
          "output_type": "stream",
          "text": [
            "[[0 1 2]] \n",
            "\n",
            "[[0 1 2]\n",
            " [3 4 5]] \n",
            "\n",
            "(3, 3) \n",
            "\n",
            "[[0 1 2]\n",
            " [0 1 2]\n",
            " [3 4 5]]\n"
          ]
        }
      ],
      "source": [
        "\n",
        "arr1 = np.arange(3).reshape(1, 3)\n",
        "arr2 = np.arange(6).reshape(2, 3)\n",
        "arr_concat = np.concatenate([arr1, arr2], axis=0)\n",
        "\n",
        "print(arr1,'\\n')\n",
        "print(arr2,'\\n')\n",
        "print(arr_concat.shape,'\\n')\n",
        "print(arr_concat)\n"
      ]
    },
    {
      "cell_type": "markdown",
      "metadata": {
        "id": "b494phq3vtZu"
      },
      "source": [
        "## [4] Pandas"
      ]
    },
    {
      "cell_type": "code",
      "execution_count": null,
      "metadata": {
        "id": "1a7LLkrpvtZu"
      },
      "outputs": [],
      "source": [
        "#csv파일 읽기(Comma-separated variables)\n",
        "df_raw = pd.read_csv(\"./BostonHousing.csv\") "
      ]
    },
    {
      "cell_type": "code",
      "execution_count": null,
      "metadata": {
        "id": "L8_46DAQvtZv",
        "outputId": "6b4ff3dd-5bce-4062-c08f-3ca8fdf10860"
      },
      "outputs": [
        {
          "name": "stdout",
          "output_type": "stream",
          "text": [
            "(506, 14)\n"
          ]
        },
        {
          "data": {
            "text/html": [
              "<div>\n",
              "<style scoped>\n",
              "    .dataframe tbody tr th:only-of-type {\n",
              "        vertical-align: middle;\n",
              "    }\n",
              "\n",
              "    .dataframe tbody tr th {\n",
              "        vertical-align: top;\n",
              "    }\n",
              "\n",
              "    .dataframe thead th {\n",
              "        text-align: right;\n",
              "    }\n",
              "</style>\n",
              "<table border=\"1\" class=\"dataframe\">\n",
              "  <thead>\n",
              "    <tr style=\"text-align: right;\">\n",
              "      <th></th>\n",
              "      <th>crim</th>\n",
              "      <th>zn</th>\n",
              "      <th>indus</th>\n",
              "      <th>chas</th>\n",
              "      <th>nox</th>\n",
              "      <th>rm</th>\n",
              "      <th>age</th>\n",
              "      <th>dis</th>\n",
              "      <th>rad</th>\n",
              "      <th>tax</th>\n",
              "      <th>ptratio</th>\n",
              "      <th>black</th>\n",
              "      <th>lstat</th>\n",
              "      <th>medv</th>\n",
              "    </tr>\n",
              "  </thead>\n",
              "  <tbody>\n",
              "    <tr>\n",
              "      <th>0</th>\n",
              "      <td>0.00632</td>\n",
              "      <td>18.0</td>\n",
              "      <td>2.31</td>\n",
              "      <td>0</td>\n",
              "      <td>0.538</td>\n",
              "      <td>6.575</td>\n",
              "      <td>65.2</td>\n",
              "      <td>4.0900</td>\n",
              "      <td>1</td>\n",
              "      <td>296</td>\n",
              "      <td>15.3</td>\n",
              "      <td>396.90</td>\n",
              "      <td>4.98</td>\n",
              "      <td>24.0</td>\n",
              "    </tr>\n",
              "    <tr>\n",
              "      <th>1</th>\n",
              "      <td>0.02731</td>\n",
              "      <td>0.0</td>\n",
              "      <td>7.07</td>\n",
              "      <td>0</td>\n",
              "      <td>0.469</td>\n",
              "      <td>6.421</td>\n",
              "      <td>78.9</td>\n",
              "      <td>4.9671</td>\n",
              "      <td>2</td>\n",
              "      <td>242</td>\n",
              "      <td>17.8</td>\n",
              "      <td>396.90</td>\n",
              "      <td>9.14</td>\n",
              "      <td>21.6</td>\n",
              "    </tr>\n",
              "    <tr>\n",
              "      <th>2</th>\n",
              "      <td>0.02729</td>\n",
              "      <td>0.0</td>\n",
              "      <td>7.07</td>\n",
              "      <td>0</td>\n",
              "      <td>0.469</td>\n",
              "      <td>7.185</td>\n",
              "      <td>61.1</td>\n",
              "      <td>4.9671</td>\n",
              "      <td>2</td>\n",
              "      <td>242</td>\n",
              "      <td>17.8</td>\n",
              "      <td>392.83</td>\n",
              "      <td>4.03</td>\n",
              "      <td>34.7</td>\n",
              "    </tr>\n",
              "    <tr>\n",
              "      <th>3</th>\n",
              "      <td>0.03237</td>\n",
              "      <td>0.0</td>\n",
              "      <td>2.18</td>\n",
              "      <td>0</td>\n",
              "      <td>0.458</td>\n",
              "      <td>6.998</td>\n",
              "      <td>45.8</td>\n",
              "      <td>6.0622</td>\n",
              "      <td>3</td>\n",
              "      <td>222</td>\n",
              "      <td>18.7</td>\n",
              "      <td>394.63</td>\n",
              "      <td>2.94</td>\n",
              "      <td>33.4</td>\n",
              "    </tr>\n",
              "    <tr>\n",
              "      <th>4</th>\n",
              "      <td>0.06905</td>\n",
              "      <td>0.0</td>\n",
              "      <td>2.18</td>\n",
              "      <td>0</td>\n",
              "      <td>0.458</td>\n",
              "      <td>7.147</td>\n",
              "      <td>54.2</td>\n",
              "      <td>6.0622</td>\n",
              "      <td>3</td>\n",
              "      <td>222</td>\n",
              "      <td>18.7</td>\n",
              "      <td>396.90</td>\n",
              "      <td>5.33</td>\n",
              "      <td>36.2</td>\n",
              "    </tr>\n",
              "    <tr>\n",
              "      <th>...</th>\n",
              "      <td>...</td>\n",
              "      <td>...</td>\n",
              "      <td>...</td>\n",
              "      <td>...</td>\n",
              "      <td>...</td>\n",
              "      <td>...</td>\n",
              "      <td>...</td>\n",
              "      <td>...</td>\n",
              "      <td>...</td>\n",
              "      <td>...</td>\n",
              "      <td>...</td>\n",
              "      <td>...</td>\n",
              "      <td>...</td>\n",
              "      <td>...</td>\n",
              "    </tr>\n",
              "    <tr>\n",
              "      <th>501</th>\n",
              "      <td>0.06263</td>\n",
              "      <td>0.0</td>\n",
              "      <td>11.93</td>\n",
              "      <td>0</td>\n",
              "      <td>0.573</td>\n",
              "      <td>6.593</td>\n",
              "      <td>69.1</td>\n",
              "      <td>2.4786</td>\n",
              "      <td>1</td>\n",
              "      <td>273</td>\n",
              "      <td>21.0</td>\n",
              "      <td>391.99</td>\n",
              "      <td>9.67</td>\n",
              "      <td>22.4</td>\n",
              "    </tr>\n",
              "    <tr>\n",
              "      <th>502</th>\n",
              "      <td>0.04527</td>\n",
              "      <td>0.0</td>\n",
              "      <td>11.93</td>\n",
              "      <td>0</td>\n",
              "      <td>0.573</td>\n",
              "      <td>6.120</td>\n",
              "      <td>76.7</td>\n",
              "      <td>2.2875</td>\n",
              "      <td>1</td>\n",
              "      <td>273</td>\n",
              "      <td>21.0</td>\n",
              "      <td>396.90</td>\n",
              "      <td>9.08</td>\n",
              "      <td>20.6</td>\n",
              "    </tr>\n",
              "    <tr>\n",
              "      <th>503</th>\n",
              "      <td>0.06076</td>\n",
              "      <td>0.0</td>\n",
              "      <td>11.93</td>\n",
              "      <td>0</td>\n",
              "      <td>0.573</td>\n",
              "      <td>6.976</td>\n",
              "      <td>91.0</td>\n",
              "      <td>2.1675</td>\n",
              "      <td>1</td>\n",
              "      <td>273</td>\n",
              "      <td>21.0</td>\n",
              "      <td>396.90</td>\n",
              "      <td>5.64</td>\n",
              "      <td>23.9</td>\n",
              "    </tr>\n",
              "    <tr>\n",
              "      <th>504</th>\n",
              "      <td>0.10959</td>\n",
              "      <td>0.0</td>\n",
              "      <td>11.93</td>\n",
              "      <td>0</td>\n",
              "      <td>0.573</td>\n",
              "      <td>6.794</td>\n",
              "      <td>89.3</td>\n",
              "      <td>2.3889</td>\n",
              "      <td>1</td>\n",
              "      <td>273</td>\n",
              "      <td>21.0</td>\n",
              "      <td>393.45</td>\n",
              "      <td>6.48</td>\n",
              "      <td>22.0</td>\n",
              "    </tr>\n",
              "    <tr>\n",
              "      <th>505</th>\n",
              "      <td>0.04741</td>\n",
              "      <td>0.0</td>\n",
              "      <td>11.93</td>\n",
              "      <td>0</td>\n",
              "      <td>0.573</td>\n",
              "      <td>6.030</td>\n",
              "      <td>80.8</td>\n",
              "      <td>2.5050</td>\n",
              "      <td>1</td>\n",
              "      <td>273</td>\n",
              "      <td>21.0</td>\n",
              "      <td>396.90</td>\n",
              "      <td>7.88</td>\n",
              "      <td>11.9</td>\n",
              "    </tr>\n",
              "  </tbody>\n",
              "</table>\n",
              "<p>506 rows × 14 columns</p>\n",
              "</div>"
            ],
            "text/plain": [
              "        crim    zn  indus  chas    nox     rm   age     dis  rad  tax  \\\n",
              "0    0.00632  18.0   2.31     0  0.538  6.575  65.2  4.0900    1  296   \n",
              "1    0.02731   0.0   7.07     0  0.469  6.421  78.9  4.9671    2  242   \n",
              "2    0.02729   0.0   7.07     0  0.469  7.185  61.1  4.9671    2  242   \n",
              "3    0.03237   0.0   2.18     0  0.458  6.998  45.8  6.0622    3  222   \n",
              "4    0.06905   0.0   2.18     0  0.458  7.147  54.2  6.0622    3  222   \n",
              "..       ...   ...    ...   ...    ...    ...   ...     ...  ...  ...   \n",
              "501  0.06263   0.0  11.93     0  0.573  6.593  69.1  2.4786    1  273   \n",
              "502  0.04527   0.0  11.93     0  0.573  6.120  76.7  2.2875    1  273   \n",
              "503  0.06076   0.0  11.93     0  0.573  6.976  91.0  2.1675    1  273   \n",
              "504  0.10959   0.0  11.93     0  0.573  6.794  89.3  2.3889    1  273   \n",
              "505  0.04741   0.0  11.93     0  0.573  6.030  80.8  2.5050    1  273   \n",
              "\n",
              "     ptratio   black  lstat  medv  \n",
              "0       15.3  396.90   4.98  24.0  \n",
              "1       17.8  396.90   9.14  21.6  \n",
              "2       17.8  392.83   4.03  34.7  \n",
              "3       18.7  394.63   2.94  33.4  \n",
              "4       18.7  396.90   5.33  36.2  \n",
              "..       ...     ...    ...   ...  \n",
              "501     21.0  391.99   9.67  22.4  \n",
              "502     21.0  396.90   9.08  20.6  \n",
              "503     21.0  396.90   5.64  23.9  \n",
              "504     21.0  393.45   6.48  22.0  \n",
              "505     21.0  396.90   7.88  11.9  \n",
              "\n",
              "[506 rows x 14 columns]"
            ]
          },
          "execution_count": 16,
          "metadata": {},
          "output_type": "execute_result"
        }
      ],
      "source": [
        "print(df_raw.shape)\n",
        "df_raw"
      ]
    },
    {
      "cell_type": "code",
      "execution_count": null,
      "metadata": {
        "id": "sFnCTsV8vtZw",
        "outputId": "35c1a855-01b5-41eb-94aa-8a7f49858b90"
      },
      "outputs": [
        {
          "name": "stdout",
          "output_type": "stream",
          "text": [
            "crim 컬럼 삭제\n"
          ]
        },
        {
          "data": {
            "text/html": [
              "<div>\n",
              "<style scoped>\n",
              "    .dataframe tbody tr th:only-of-type {\n",
              "        vertical-align: middle;\n",
              "    }\n",
              "\n",
              "    .dataframe tbody tr th {\n",
              "        vertical-align: top;\n",
              "    }\n",
              "\n",
              "    .dataframe thead th {\n",
              "        text-align: right;\n",
              "    }\n",
              "</style>\n",
              "<table border=\"1\" class=\"dataframe\">\n",
              "  <thead>\n",
              "    <tr style=\"text-align: right;\">\n",
              "      <th></th>\n",
              "      <th>zn</th>\n",
              "      <th>indus</th>\n",
              "      <th>chas</th>\n",
              "      <th>nox</th>\n",
              "      <th>rm</th>\n",
              "      <th>age</th>\n",
              "      <th>dis</th>\n",
              "      <th>rad</th>\n",
              "      <th>tax</th>\n",
              "      <th>ptratio</th>\n",
              "      <th>black</th>\n",
              "      <th>lstat</th>\n",
              "      <th>medv</th>\n",
              "    </tr>\n",
              "  </thead>\n",
              "  <tbody>\n",
              "    <tr>\n",
              "      <th>0</th>\n",
              "      <td>18.0</td>\n",
              "      <td>2.31</td>\n",
              "      <td>0</td>\n",
              "      <td>0.538</td>\n",
              "      <td>6.575</td>\n",
              "      <td>65.2</td>\n",
              "      <td>4.0900</td>\n",
              "      <td>1</td>\n",
              "      <td>296</td>\n",
              "      <td>15.3</td>\n",
              "      <td>396.90</td>\n",
              "      <td>4.98</td>\n",
              "      <td>24.0</td>\n",
              "    </tr>\n",
              "    <tr>\n",
              "      <th>1</th>\n",
              "      <td>0.0</td>\n",
              "      <td>7.07</td>\n",
              "      <td>0</td>\n",
              "      <td>0.469</td>\n",
              "      <td>6.421</td>\n",
              "      <td>78.9</td>\n",
              "      <td>4.9671</td>\n",
              "      <td>2</td>\n",
              "      <td>242</td>\n",
              "      <td>17.8</td>\n",
              "      <td>396.90</td>\n",
              "      <td>9.14</td>\n",
              "      <td>21.6</td>\n",
              "    </tr>\n",
              "    <tr>\n",
              "      <th>2</th>\n",
              "      <td>0.0</td>\n",
              "      <td>7.07</td>\n",
              "      <td>0</td>\n",
              "      <td>0.469</td>\n",
              "      <td>7.185</td>\n",
              "      <td>61.1</td>\n",
              "      <td>4.9671</td>\n",
              "      <td>2</td>\n",
              "      <td>242</td>\n",
              "      <td>17.8</td>\n",
              "      <td>392.83</td>\n",
              "      <td>4.03</td>\n",
              "      <td>34.7</td>\n",
              "    </tr>\n",
              "    <tr>\n",
              "      <th>3</th>\n",
              "      <td>0.0</td>\n",
              "      <td>2.18</td>\n",
              "      <td>0</td>\n",
              "      <td>0.458</td>\n",
              "      <td>6.998</td>\n",
              "      <td>45.8</td>\n",
              "      <td>6.0622</td>\n",
              "      <td>3</td>\n",
              "      <td>222</td>\n",
              "      <td>18.7</td>\n",
              "      <td>394.63</td>\n",
              "      <td>2.94</td>\n",
              "      <td>33.4</td>\n",
              "    </tr>\n",
              "    <tr>\n",
              "      <th>4</th>\n",
              "      <td>0.0</td>\n",
              "      <td>2.18</td>\n",
              "      <td>0</td>\n",
              "      <td>0.458</td>\n",
              "      <td>7.147</td>\n",
              "      <td>54.2</td>\n",
              "      <td>6.0622</td>\n",
              "      <td>3</td>\n",
              "      <td>222</td>\n",
              "      <td>18.7</td>\n",
              "      <td>396.90</td>\n",
              "      <td>5.33</td>\n",
              "      <td>36.2</td>\n",
              "    </tr>\n",
              "  </tbody>\n",
              "</table>\n",
              "</div>"
            ],
            "text/plain": [
              "     zn  indus  chas    nox     rm   age     dis  rad  tax  ptratio   black  \\\n",
              "0  18.0   2.31     0  0.538  6.575  65.2  4.0900    1  296     15.3  396.90   \n",
              "1   0.0   7.07     0  0.469  6.421  78.9  4.9671    2  242     17.8  396.90   \n",
              "2   0.0   7.07     0  0.469  7.185  61.1  4.9671    2  242     17.8  392.83   \n",
              "3   0.0   2.18     0  0.458  6.998  45.8  6.0622    3  222     18.7  394.63   \n",
              "4   0.0   2.18     0  0.458  7.147  54.2  6.0622    3  222     18.7  396.90   \n",
              "\n",
              "   lstat  medv  \n",
              "0   4.98  24.0  \n",
              "1   9.14  21.6  \n",
              "2   4.03  34.7  \n",
              "3   2.94  33.4  \n",
              "4   5.33  36.2  "
            ]
          },
          "execution_count": 17,
          "metadata": {},
          "output_type": "execute_result"
        }
      ],
      "source": [
        "# Column 삭제하기\n",
        "# drop으로 컬럼을 제거할때 axis=1을 기입 (axis =0 은 row 를 제거)\n",
        "\n",
        "print(\"crim 컬럼 삭제\")\n",
        "\n",
        "df_raw_new = df_raw.drop('crim', axis=1 )\n",
        "df_raw_new.head()"
      ]
    },
    {
      "cell_type": "markdown",
      "metadata": {
        "id": "_5pm7clsvtZw"
      },
      "source": [
        "## [5] Tensor"
      ]
    },
    {
      "cell_type": "markdown",
      "metadata": {
        "id": "0y3zWAVxvtZ0"
      },
      "source": [
        "#### 1) Tensor 생성"
      ]
    },
    {
      "cell_type": "code",
      "execution_count": null,
      "metadata": {
        "id": "j3IQ8mmivtZ1",
        "outputId": "2662ba8a-65b6-4a3e-c55d-b5ae48a6edfc"
      },
      "outputs": [
        {
          "name": "stdout",
          "output_type": "stream",
          "text": [
            "tensor([0., 1., 2., 3., 4., 5., 6.])\n",
            "1\n",
            "torch.Size([7])\n",
            "torch.Size([7])\n"
          ]
        }
      ],
      "source": [
        "#Tensor 생성\n",
        "t = torch.FloatTensor([0., 1., 2., 3., 4., 5., 6.]) # real value \n",
        "print(t)\n",
        "print(t.dim())  # rank\n",
        "print(t.shape)  # shape\n",
        "print(t.size()) # shape"
      ]
    },
    {
      "cell_type": "code",
      "execution_count": null,
      "metadata": {
        "id": "tvn6_he9vtZ2",
        "outputId": "e356bce8-f48b-4bc9-92a4-68645e82250a"
      },
      "outputs": [
        {
          "name": "stdout",
          "output_type": "stream",
          "text": [
            "tensor([[0.0819, 0.4911, 0.4033],\n",
            "        [0.3859, 0.8813, 0.8811]])\n",
            "tensor([[7, 7, 3],\n",
            "        [4, 1, 7]])\n"
          ]
        },
        {
          "data": {
            "text/plain": [
              "tensor([[ 1.4425, -1.4711, -1.3173],\n",
              "        [ 2.3271,  0.0894,  0.6558]])"
            ]
          },
          "execution_count": 19,
          "metadata": {},
          "output_type": "execute_result"
        }
      ],
      "source": [
        "torch.manual_seed(777) #동일한 랜덤 값을 사용할 수 있도록 해준다\n",
        "\n",
        "x = torch.rand(2, 3) #0~1사이의 숫자를 랜덤으로 반환\n",
        "print(x)\n",
        "\n",
        "x = torch.randint(10, size=(2,3)) #지정 범위내 숫자를 랜덤으로 반환\n",
        "print(x)\n",
        "\n",
        "x = torch.randn(2,3) # Z(0,1)인 가우시안 분포를 따르는 수를 랜덤 반환 \n",
        "x"
      ]
    },
    {
      "cell_type": "code",
      "execution_count": null,
      "metadata": {
        "id": "c6GvtGfLvtZ3",
        "outputId": "f306f43c-b9b0-4b3e-a3f1-e8e24bd3a798"
      },
      "outputs": [
        {
          "data": {
            "text/plain": [
              "tensor([[0., 0., 0.],\n",
              "        [0., 0., 0.]])"
            ]
          },
          "execution_count": 20,
          "metadata": {},
          "output_type": "execute_result"
        }
      ],
      "source": [
        "# torch.zeros(2,3) -> [[0,0,0],[0,0,0]]\n",
        "x = torch.zeros(2,3)\n",
        "x"
      ]
    },
    {
      "cell_type": "code",
      "execution_count": null,
      "metadata": {
        "id": "CqUiFftsvtZ4",
        "outputId": "d63824e5-a96a-43b0-ea58-f2207bac3a6f"
      },
      "outputs": [
        {
          "data": {
            "text/plain": [
              "tensor([[1., 1., 1.],\n",
              "        [1., 1., 1.]])"
            ]
          },
          "execution_count": 21,
          "metadata": {},
          "output_type": "execute_result"
        }
      ],
      "source": [
        "# torch.ones(2,3) -> [[0,0,0],[0,0,0]]\n",
        "x = torch.ones(2,3)\n",
        "x"
      ]
    },
    {
      "cell_type": "code",
      "execution_count": null,
      "metadata": {
        "scrolled": true,
        "id": "c978spw8vtZ5",
        "outputId": "fadb6dd5-ab6b-4d18-ce8f-9c59c1bcb99c"
      },
      "outputs": [
        {
          "data": {
            "text/plain": [
              "tensor([0.0000, 0.5000, 1.0000, 1.5000, 2.0000, 2.5000])"
            ]
          },
          "execution_count": 22,
          "metadata": {},
          "output_type": "execute_result"
        }
      ],
      "source": [
        "# torch.arange(start,end,step=1) -> [start,end) with step\n",
        "x = torch.arange(0, 3, 0.5)\n",
        "x"
      ]
    },
    {
      "cell_type": "code",
      "execution_count": null,
      "metadata": {
        "id": "Cn5CozZHvtZ6",
        "outputId": "00c0611a-ab08-411e-e531-07e0b2998930"
      },
      "outputs": [
        {
          "data": {
            "text/plain": [
              "tensor([[0., 0., 0.],\n",
              "        [0., 0., 0.]])"
            ]
          },
          "execution_count": 23,
          "metadata": {},
          "output_type": "execute_result"
        }
      ],
      "source": [
        "# torch.FloatTensor(size or list)\n",
        "x = torch.FloatTensor(2,3)\n",
        "x"
      ]
    },
    {
      "cell_type": "markdown",
      "metadata": {
        "id": "ir95T9o1vtZ7"
      },
      "source": [
        "#### 2) List, Numpy --> Tensor로 변환"
      ]
    },
    {
      "cell_type": "code",
      "execution_count": null,
      "metadata": {
        "id": "H-_GWOdlvtZ7",
        "outputId": "7e73c958-8989-4e55-be4a-9266ae20071f"
      },
      "outputs": [
        {
          "name": "stdout",
          "output_type": "stream",
          "text": [
            "tensor([[1., 2., 3.],\n",
            "        [4., 5., 6.]])\n",
            "tensor([[1., 2., 3.],\n",
            "        [4., 5., 6.]])\n"
          ]
        }
      ],
      "source": [
        "# list 로부터 2x3 텐서 생성\n",
        "x_list = [[1, 2, 3], [4, 5, 6]]\n",
        "x = torch.Tensor(x_list)\n",
        "print(x)\n",
        "\n",
        "# numpy array 로부터 2x3 텐서 생성\n",
        "x_numpy = np.array([[1, 2, 3], [4, 5, 6]])\n",
        "x = torch.Tensor(x_numpy)\n",
        "print(x)"
      ]
    },
    {
      "cell_type": "markdown",
      "metadata": {
        "id": "pZ01iSx9vtZ8"
      },
      "source": [
        "#### 3) Tensor 크기 변경하기"
      ]
    },
    {
      "cell_type": "code",
      "execution_count": null,
      "metadata": {
        "id": "2nzm4C1MvtZ9"
      },
      "outputs": [],
      "source": [
        "#view, reshape 함수\n",
        "x = np.array([[[0, 1, 2],\n",
        "               [3, 4, 5]],\n",
        "\n",
        "              [[6, 7, 8],\n",
        "               [9, 10, 11]]])\n",
        "\n",
        "x = torch.FloatTensor(x)"
      ]
    },
    {
      "cell_type": "code",
      "execution_count": null,
      "metadata": {
        "id": "hcVNFta1vtZ9",
        "outputId": "0be095c1-1c91-41a9-f403-c01853d12133"
      },
      "outputs": [
        {
          "name": "stdout",
          "output_type": "stream",
          "text": [
            "torch.Size([2, 2, 3])\n",
            "torch.Size([4, 3])\n",
            "torch.Size([6, 2])\n"
          ]
        }
      ],
      "source": [
        "print(x.shape)\n",
        "\n",
        "tensor_x = x.view(-1, 3)\n",
        "print(tensor_x.shape)\n",
        "\n",
        "tensor_x = x.reshape(-1,2)\n",
        "print(tensor_x.shape)\n"
      ]
    },
    {
      "cell_type": "markdown",
      "metadata": {
        "id": "Z3SxrQGQvtZ-"
      },
      "source": [
        "#### 4) Tensor 차원 추가 및 삭제"
      ]
    },
    {
      "cell_type": "code",
      "execution_count": null,
      "metadata": {
        "id": "96QQPgDkvtZ_",
        "outputId": "811f4f73-d98b-484a-9fdf-5b1df2f077c6"
      },
      "outputs": [
        {
          "name": "stdout",
          "output_type": "stream",
          "text": [
            "torch.Size([10, 1, 3, 1, 4])\n",
            "torch.Size([10, 3, 4])\n"
          ]
        }
      ],
      "source": [
        "# Squeeze 함수\n",
        "x1 = torch.FloatTensor(10, 1, 3, 1, 4) # rank를 줄여주는 기능\n",
        "\n",
        "x2 = x1.squeeze()\n",
        "\n",
        "print(x1.size())\n",
        "print(x2.size())"
      ]
    },
    {
      "cell_type": "code",
      "execution_count": null,
      "metadata": {
        "id": "BBhXFrTvvtaA",
        "outputId": "51b796d0-a4bf-4e1a-9c5f-dc5d078d765b"
      },
      "outputs": [
        {
          "name": "stdout",
          "output_type": "stream",
          "text": [
            "torch.Size([10, 3, 4])\n",
            "torch.Size([10, 1, 3, 4])\n"
          ]
        }
      ],
      "source": [
        "# Unsqueeze 함수\n",
        "x1 = torch.FloatTensor(10,3,4) #rank를 늘려주는 기능\n",
        "\n",
        "x2 = torch.unsqueeze(x1, dim=1)\n",
        "\n",
        "print(x1.size())\n",
        "print(x2.size())"
      ]
    },
    {
      "cell_type": "markdown",
      "metadata": {
        "id": "ierbIt0pvtaA"
      },
      "source": [
        "#### 5) Tensor 합치기"
      ]
    },
    {
      "cell_type": "code",
      "execution_count": null,
      "metadata": {
        "id": "wvKsCVhGvtaA",
        "outputId": "edc7ccc5-b7b5-49e8-ec92-307ba463f3ab"
      },
      "outputs": [
        {
          "name": "stdout",
          "output_type": "stream",
          "text": [
            "tensor([[5, 9, 1],\n",
            "        [8, 5, 7]])\n",
            "tensor([[7, 7, 3],\n",
            "        [4, 1, 7]])\n",
            "torch.Size([4, 3])\n",
            "tensor([[5, 9, 1],\n",
            "        [8, 5, 7],\n",
            "        [7, 7, 3],\n",
            "        [4, 1, 7]])\n"
          ]
        }
      ],
      "source": [
        "torch.manual_seed(777)\n",
        "x = torch.randint(10, size=(2, 3))\n",
        "y = torch.randint(10, size=(2, 3))\n",
        "\n",
        "z = torch.cat([x,y], dim=0 )\n",
        "\n",
        "print(x)\n",
        "print(y)\n",
        "print(z.shape)\n",
        "print(z)"
      ]
    },
    {
      "cell_type": "markdown",
      "metadata": {
        "id": "qlEvyFTpvtaB"
      },
      "source": [
        "#### 6) 평균, 분산 구하기"
      ]
    },
    {
      "cell_type": "code",
      "execution_count": null,
      "metadata": {
        "id": "njdMGWTqvtaC",
        "outputId": "d9642b16-9699-457e-e711-4f63797b9f92"
      },
      "outputs": [
        {
          "name": "stdout",
          "output_type": "stream",
          "text": [
            "tensor([  1., 100.])\n",
            "tensor(50.5000)\n",
            "tensor(4900.5000)\n"
          ]
        }
      ],
      "source": [
        "x = torch.FloatTensor([1, 100])\n",
        "\n",
        "print(x)\n",
        "print(x.mean())\n",
        "print(x.var())"
      ]
    },
    {
      "cell_type": "markdown",
      "metadata": {
        "id": "S7Q2e9-cvtaE"
      },
      "source": [
        "#### 7) Tensor 인덱싱"
      ]
    },
    {
      "cell_type": "code",
      "execution_count": null,
      "metadata": {
        "id": "wnV0NgnlvtaF",
        "outputId": "b13fe23a-6be1-4d50-bae0-b16e2446ee12"
      },
      "outputs": [
        {
          "data": {
            "text/plain": [
              "tensor([[5, 9, 1],\n",
              "        [8, 5, 7],\n",
              "        [7, 7, 3],\n",
              "        [4, 1, 7]])"
            ]
          },
          "execution_count": 31,
          "metadata": {},
          "output_type": "execute_result"
        }
      ],
      "source": [
        "z"
      ]
    },
    {
      "cell_type": "code",
      "execution_count": null,
      "metadata": {
        "id": "JWTdZAZLvtaG",
        "outputId": "4658e091-cfab-410b-ad0a-1101e48be8c4"
      },
      "outputs": [
        {
          "data": {
            "text/plain": [
              "tensor([4, 1, 7])"
            ]
          },
          "execution_count": 32,
          "metadata": {},
          "output_type": "execute_result"
        }
      ],
      "source": [
        "z[3]"
      ]
    },
    {
      "cell_type": "code",
      "execution_count": null,
      "metadata": {
        "id": "I-uJZmsjvtaH",
        "outputId": "7a251103-c104-4373-ed44-f2e61a31f847"
      },
      "outputs": [
        {
          "data": {
            "text/plain": [
              "tensor(9)"
            ]
          },
          "execution_count": 33,
          "metadata": {},
          "output_type": "execute_result"
        }
      ],
      "source": [
        "z[0,1]"
      ]
    },
    {
      "cell_type": "code",
      "execution_count": null,
      "metadata": {
        "id": "k6xSMQmOvtaI",
        "outputId": "be25f41d-d150-4826-908f-ef5c100ce192"
      },
      "outputs": [
        {
          "data": {
            "text/plain": [
              "tensor([9, 5, 7, 1])"
            ]
          },
          "execution_count": 34,
          "metadata": {},
          "output_type": "execute_result"
        }
      ],
      "source": [
        "z[:,1]"
      ]
    },
    {
      "cell_type": "code",
      "execution_count": null,
      "metadata": {
        "id": "NyyjhUkqvtaI",
        "outputId": "2614f92f-fbb9-464b-9b67-89c0202564d2"
      },
      "outputs": [
        {
          "data": {
            "text/plain": [
              "tensor([4, 1, 7])"
            ]
          },
          "execution_count": 35,
          "metadata": {},
          "output_type": "execute_result"
        }
      ],
      "source": [
        "z[-1]"
      ]
    },
    {
      "cell_type": "markdown",
      "metadata": {
        "id": "ZIFjUyPTvtaJ"
      },
      "source": [
        "####  Q1) z[:  ,  :-1] =?"
      ]
    },
    {
      "cell_type": "code",
      "execution_count": null,
      "metadata": {
        "id": "_6K5GredvtaJ",
        "outputId": "557c21e4-7d2c-4eec-c4c7-801acbb04702"
      },
      "outputs": [
        {
          "data": {
            "text/plain": [
              "tensor([[5, 9],\n",
              "        [8, 5],\n",
              "        [7, 7],\n",
              "        [4, 1]])"
            ]
          },
          "execution_count": 36,
          "metadata": {},
          "output_type": "execute_result"
        }
      ],
      "source": [
        "z[:,:-1]"
      ]
    },
    {
      "cell_type": "markdown",
      "metadata": {
        "id": "bJ0s7n1FvtaK"
      },
      "source": [
        "#### Q2)  ? = [[7,7,3],  [4,1,7]] "
      ]
    },
    {
      "cell_type": "code",
      "execution_count": null,
      "metadata": {
        "id": "hTviPpuNvtaK",
        "outputId": "924ab18d-f526-4760-a1d2-93c4048ef061"
      },
      "outputs": [
        {
          "data": {
            "text/plain": [
              "tensor([[7, 7, 3],\n",
              "        [4, 1, 7]])"
            ]
          },
          "execution_count": 37,
          "metadata": {},
          "output_type": "execute_result"
        }
      ],
      "source": [
        "z[2:, :]"
      ]
    },
    {
      "cell_type": "markdown",
      "metadata": {
        "id": "cnkbMHHkvtaL"
      },
      "source": [
        "-------------------------------------------------------------------"
      ]
    },
    {
      "cell_type": "code",
      "execution_count": null,
      "metadata": {
        "id": "Wm1St0vJvtaL",
        "outputId": "26414bcc-29f3-4078-db85-2826db3a8f94"
      },
      "outputs": [
        {
          "data": {
            "text/plain": [
              "tensor([[[5, 9, 1, 8],\n",
              "         [5, 7, 7, 7],\n",
              "         [3, 4, 1, 7]],\n",
              "\n",
              "        [[2, 0, 6, 3],\n",
              "         [2, 3, 0, 0],\n",
              "         [9, 5, 4, 2]]])"
            ]
          },
          "execution_count": 38,
          "metadata": {},
          "output_type": "execute_result"
        }
      ],
      "source": [
        "torch.manual_seed(777)\n",
        "x = torch.randint(10, size=(2, 3, 4))\n",
        "x"
      ]
    },
    {
      "cell_type": "markdown",
      "metadata": {
        "id": "J_S5AnIrvtaM"
      },
      "source": [
        "#### Q1) x[:,2,:] = ?"
      ]
    },
    {
      "cell_type": "code",
      "execution_count": null,
      "metadata": {
        "id": "9FTf0fCmvtaN",
        "outputId": "f09796b6-ab33-41b6-a267-8cce0bd1bfa5"
      },
      "outputs": [
        {
          "data": {
            "text/plain": [
              "tensor([[3, 4, 1, 7],\n",
              "        [9, 5, 4, 2]])"
            ]
          },
          "execution_count": 39,
          "metadata": {},
          "output_type": "execute_result"
        }
      ],
      "source": [
        "x[:, 2, :]"
      ]
    },
    {
      "cell_type": "markdown",
      "metadata": {
        "id": "k-reBiPfvtaN"
      },
      "source": [
        "#### Q2) ? = [[5, 9, 1],  [2, 0, 6]]"
      ]
    },
    {
      "cell_type": "code",
      "execution_count": null,
      "metadata": {
        "id": "LsuWlKAOvtaO",
        "outputId": "765a8cc8-936f-405f-e003-f1bbc71869bf"
      },
      "outputs": [
        {
          "data": {
            "text/plain": [
              "tensor([[5, 9, 1],\n",
              "        [2, 0, 6]])"
            ]
          },
          "execution_count": 40,
          "metadata": {},
          "output_type": "execute_result"
        }
      ],
      "source": [
        "x[:, 0, :3 ]"
      ]
    },
    {
      "cell_type": "code",
      "execution_count": null,
      "metadata": {
        "id": "jTVkFYbKvtaO"
      },
      "outputs": [],
      "source": [
        ""
      ]
    },
    {
      "cell_type": "code",
      "execution_count": null,
      "metadata": {
        "id": "layxoKLRvtaP"
      },
      "outputs": [],
      "source": [
        ""
      ]
    }
  ],
  "metadata": {
    "kernelspec": {
      "display_name": "Python 3",
      "language": "python",
      "name": "python3"
    },
    "language_info": {
      "codemirror_mode": {
        "name": "ipython",
        "version": 3
      },
      "file_extension": ".py",
      "mimetype": "text/x-python",
      "name": "python",
      "nbconvert_exporter": "python",
      "pygments_lexer": "ipython3",
      "version": "3.7.6"
    },
    "colab": {
      "name": "Chap1-1)_Library_&_Tensor.ipynb",
      "provenance": [],
      "include_colab_link": true
    }
  },
  "nbformat": 4,
  "nbformat_minor": 0
}