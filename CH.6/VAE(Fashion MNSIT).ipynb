{
  "cells": [
    {
      "cell_type": "markdown",
      "metadata": {
        "id": "view-in-github",
        "colab_type": "text"
      },
      "source": [
        "<a href=\"https://colab.research.google.com/github/simseoyoung/Deep-Learning/blob/main/CH.6/VAE(Fashion%20MNSIT).ipynb\" target=\"_parent\"><img src=\"https://colab.research.google.com/assets/colab-badge.svg\" alt=\"Open In Colab\"/></a>"
      ]
    },
    {
      "cell_type": "markdown",
      "metadata": {
        "id": "nm_WYEF4uNoH"
      },
      "source": [
        "# Variable AutoEncoder\n",
        "\n",
        " - fashion mnist dataset 사용\n",
        "\n"
      ]
    },
    {
      "cell_type": "code",
      "execution_count": 31,
      "metadata": {
        "id": "P7zqi-ShVCpc"
      },
      "outputs": [],
      "source": [
        "import numpy as np\n",
        "import torch\n",
        "import torch.nn as nn\n",
        "import torch.optim as optim\n",
        "from torch.nn import functional as F\n",
        "import random\n",
        "\n",
        "import pandas as pd\n",
        "\n",
        "from torchvision.utils import save_image\n",
        "\n",
        "from tensorflow.keras import datasets\n",
        "\n",
        "import torchvision.transforms as transforms\n",
        "from torch.utils.data import DataLoader\n",
        "import matplotlib.pyplot as plt"
      ]
    },
    {
      "cell_type": "code",
      "execution_count": 32,
      "metadata": {
        "colab": {
          "base_uri": "https://localhost:8080/"
        },
        "id": "pYEhVgIBvXPB",
        "outputId": "a8fac752-1e66-4259-932c-c5b7ea337794"
      },
      "outputs": [
        {
          "output_type": "stream",
          "name": "stdout",
          "text": [
            "cpu\n"
          ]
        }
      ],
      "source": [
        "device = 'cuda' if torch.cuda.is_available() else 'cpu'\n",
        "\n",
        "print(device)"
      ]
    },
    {
      "cell_type": "code",
      "execution_count": 33,
      "metadata": {
        "id": "dZcm-ScfveNq"
      },
      "outputs": [],
      "source": [
        "# for reproducibility\n",
        "random.seed(777)\n",
        "torch.manual_seed(777)\n",
        "if device == 'cuda':\n",
        "    torch.cuda.manual_seed_all(777)"
      ]
    },
    {
      "cell_type": "markdown",
      "metadata": {
        "id": "agsIDolRvYOr"
      },
      "source": [
        "[1] Data processing"
      ]
    },
    {
      "cell_type": "code",
      "execution_count": 34,
      "metadata": {
        "colab": {
          "base_uri": "https://localhost:8080/"
        },
        "id": "F-UGBxt-vTHg",
        "outputId": "d9410d9b-3932-4a3a-c43a-ac559175ec6d"
      },
      "outputs": [
        {
          "output_type": "stream",
          "name": "stdout",
          "text": [
            "x_train 의 length = 60000\n",
            "x_test 의 length = 10000\n"
          ]
        }
      ],
      "source": [
        "(x_train, y_train), (x_test, y_test) = datasets.fashion_mnist.load_data()\n",
        "\n",
        "print(\"x_train 의 length = {}\".format(len(x_train)))\n",
        "print(\"x_test 의 length = {}\".format(len(x_test)))"
      ]
    },
    {
      "cell_type": "code",
      "execution_count": null,
      "metadata": {
        "colab": {
          "base_uri": "https://localhost:8080/"
        },
        "id": "FgrdTqRkvjeU",
        "outputId": "9766ff8a-0034-4cf1-ae9c-9c568dbb2c0d"
      },
      "outputs": [
        {
          "name": "stdout",
          "output_type": "stream",
          "text": [
            "x_train 의 shape=(60000, 28, 28), x_test 의 shape=(10000, 28, 28)\n"
          ]
        }
      ],
      "source": [
        "x_train=np.asarray(x_train)\n",
        "y_train=np.asarray(y_train)\n",
        "x_test=np.asarray(x_test)\n",
        "y_test=np.asarray(y_test)\n",
        "\n",
        "# Rescale the image data to 0 ~ 1. \n",
        "x_train = x_train.astype(np.float32) / 255.0\n",
        "x_test = x_test.astype(np.float32) / 255.0\n",
        "\n",
        "print(\"x_train 의 shape={}, x_test 의 shape={}\".format(x_train.shape, x_test.shape))"
      ]
    },
    {
      "cell_type": "code",
      "execution_count": null,
      "metadata": {
        "colab": {
          "base_uri": "https://localhost:8080/",
          "height": 265
        },
        "id": "cvZ2v_s3v0lT",
        "outputId": "a0540a55-849b-4cee-b434-a3d981920382"
      },
      "outputs": [
        {
          "data": {
            "image/png": "[encoded data removed]",
            "text/plain": [
              "<Figure size 432x288 with 1 Axes>"
            ]
          },
          "metadata": {},
          "output_type": "display_data"
        }
      ],
      "source": [
        "# load dataset using dataloader\n",
        "batch_size = 256\n",
        "\n",
        "# batch size 만큼 나누어서 data를 로드\n",
        "train_loader = torch.utils.data.DataLoader(x_train ,batch_size=batch_size, shuffle=True, num_workers=0,drop_last=False)\n",
        "test_loader = torch.utils.data.DataLoader(x_test ,batch_size=len(x_test), shuffle=False, num_workers=0,drop_last=False)\n",
        "\n",
        "for batch_idx, image in enumerate(train_loader):\n",
        "    plt.imshow(image[0].reshape(28,28), cmap=\"gray\")\n",
        "    break"
      ]
    },
    {
      "cell_type": "markdown",
      "metadata": {
        "id": "Y3vrnrqYwIo3"
      },
      "source": [
        "[2] Model"
      ]
    },
    {
      "cell_type": "code",
      "execution_count": null,
      "metadata": {
        "id": "i4kgxrw5wH9w"
      },
      "outputs": [],
      "source": [
        "class VAE(nn.Module):\n",
        "    def __init__(self):\n",
        "        super(VAE, self).__init__()\n",
        "\n",
        "        # encoder 의 hidden layer\n",
        "        self.fc1 = nn.Linear(784, 400) \n",
        "        self.mu = nn.Linear(400, 20) # reparameterization 을 위한 20개의 gaussian 분포에 대한 mean\n",
        "        self.logvar = nn.Linear(400, 20) # reparameterization 을 위한 20개의 gaussian 분포에 대한 variance        \n",
        "\n",
        "        self.fc2 = nn.Linear(20, 400)    \n",
        "        self.fc3 = nn.Linear(400, 784)\n",
        "        \n",
        "    # Encoder\n",
        "    # hidden layer 를 한번만 통과 한 후 mu 와 variance 의 2개의 output layer 를 return 한다\n",
        "    \n",
        "    def encode(self, x):\n",
        "        h1 = F.relu(self.fc1(x))\n",
        "        mu = self.mu(h1)\n",
        "        logvar = self.logvar(h1)\n",
        "        \n",
        "        # linear 를 통과한 값은 - 의 값이 나오는 경우가 존재한다\n",
        "        # 이것을 방지하기 위해 linear 를 통과한 값은 var 가 아닌 log-variance 로 임의로 정해준다.\n",
        "        #(variance 는 항상 양수라는 guarantee 를 갖게 하기 위함)\n",
        "        # 즉 encoder 의 output 은 logvar 가 된다\n",
        "\n",
        "        return mu, logvar # gaussian parameters (mu 와 logvar) 를 return\n",
        "\n",
        "    # Reparameterization Trick\n",
        "    def reparameterize(self, mu_vector, logvar_vector):\n",
        "        var_vector = torch.exp(logvar_vector)\n",
        "        \n",
        "        std = torch.sqrt(var_vector) \n",
        "            \n",
        "        # Epsilon ~ N(0,1) 평균이 0이고 표준편차가 1인 가우시안 정규분포를 생성\n",
        "        # 특히 torch.randn_like() 를 사용하여 텐서로 바로 정의하기 때문에 deep learning 연산에 사용이 가능하다.\n",
        "        eps = torch.randn_like(std) # std의 shape를 그대로 가져와서 만들 수 있음\n",
        "            \n",
        "        # z_vector = eps.mul(std).add_(mu) => 둘중 아무거나 상관 없음\n",
        "        z_vector = mu_vector + eps.mul(std)\n",
        "            \n",
        "        return z_vector\n",
        "\n",
        "    # Decoder\n",
        "    # hidden layer(fc2)를 하나 통과한 후 다시 784 node의 output layer 를 만든후 sigmoid function 을 통과시켜준다.\n",
        "    def decode(self, z):\n",
        "        # z 를 input 으로 받아 decoder 부분 실행\n",
        "        h2 = F.relu(self.fc2(z))\n",
        "        \n",
        "        # hidden layer h3 를 input 으로 받아 output 생성\n",
        "        Bernouhlli_p = torch.sigmoid(self.fc3(h2)) #output 값       \n",
        "        return Bernouhlli_p\n",
        "\n",
        "    # 위에서부터 정의한 method 들을 이용해 하나의 network 생성\n",
        "    # forward() 메소드는 model 오브젝트를 데이터와 함께 호출하면 자동으로 실행\n",
        "    def forward(self, x):\n",
        "        # Encoder 를 통과\n",
        "        # Reparameterization Trick 을 위한  parameters (p) 호출 (= mu, logvar 생성)\n",
        "        # x 의 형태 => (bath_size, channel, H, W)\n",
        "        mu, logvar = self.encode(x)\n",
        "        \n",
        "        # z 생성\n",
        "        z = self.reparameterize(mu, logvar)\n",
        "        \n",
        "        # decoder 를 통과, y 값을 최종적으로 생성\n",
        "        Bernouhlli_p = self.decode(z)\n",
        "        \n",
        "        return Bernouhlli_p, mu, logvar\n",
        "\n",
        "model = VAE().to(device)"
      ]
    },
    {
      "cell_type": "code",
      "execution_count": null,
      "metadata": {
        "id": "U5eqMdupwgdQ"
      },
      "outputs": [],
      "source": [
        "# define loss function\n",
        "def loss_function(recon_x, x, mu, logvar):\n",
        "    # recon_x =y , x = original unput\n",
        "    # MNIST data는 흑과 백 즉 0,1로 이루어진 데이터이므로 베르누이 사용\n",
        "    Bernouhlli_loss  = F.binary_cross_entropy(recon_x, x.reshape(-1, 784), reduction='sum')\n",
        "    \n",
        "    Bernouhlli_loss_formula = -torch.sum(x.reshape(-1,784)*torch.log(recon_x) \n",
        "                                         + (1-x.reshape(-1,784))*torch.log(1-recon_x))\n",
        "\n",
        "    KL_divergence  = -0.5 * torch.sum(1 + logvar - mu.pow(2) - logvar.exp())\n",
        "        \n",
        "    return Bernouhlli_loss + KL_divergence"
      ]
    },
    {
      "cell_type": "markdown",
      "metadata": {
        "id": "mOo1m6-Ewm_4"
      },
      "source": [
        "[3] Train"
      ]
    },
    {
      "cell_type": "code",
      "execution_count": null,
      "metadata": {
        "id": "0tV4rp3_woja"
      },
      "outputs": [],
      "source": [
        "# parameter\n",
        "\n",
        "epoch = 100\n",
        "learning_rate = 0.001\n",
        "optimizer = torch.optim.Adam(model.parameters(), lr=learning_rate, weight_decay=1e-5)"
      ]
    },
    {
      "cell_type": "code",
      "execution_count": null,
      "metadata": {
        "colab": {
          "background_save": true,
          "base_uri": "https://localhost:8080/"
        },
        "id": "BITW2ulgwraD",
        "outputId": "a78a251f-a936-447b-9428-165efa5a6ebb"
      },
      "outputs": [
        {
          "name": "stdout",
          "output_type": "stream",
          "text": [
            "Epoch = 10 loss = 61943.277069\n",
            "Epoch = 20 loss = 61748.583078\n",
            "Epoch = 30 loss = 61640.502959\n",
            "Epoch = 40 loss = 61569.505568\n",
            "Epoch = 50 loss = 61519.842163\n",
            "Epoch = 60 loss = 61478.435979\n",
            "Epoch = 70 loss = 61455.635389\n",
            "Epoch = 80 loss = 61414.043118\n",
            "Epoch = 90 loss = 61376.223063\n",
            "Epoch = 100 loss = 61360.369058\n"
          ]
        }
      ],
      "source": [
        "loss_list = []\n",
        "for num_epoch in range(epoch):\n",
        "    avg_loss = 0\n",
        "    \n",
        "    for batch_idx, image in enumerate(train_loader):\n",
        "        num_of_mini_batch = len(train_loader) # 235 가 나올것이다 60000/256 = 234.xx => 235\n",
        "        \n",
        "        input_x = image.reshape(-1, 784).to(device)  \n",
        "        \n",
        "        optimizer.zero_grad()\n",
        "        \n",
        "        recon_x, mu, logvar = model(input_x)\n",
        "        \n",
        "        loss = loss_function(recon_x, input_x, mu, logvar)\n",
        "        loss.backward()\n",
        "\n",
        "        optimizer.step()\n",
        "        \n",
        "        avg_loss += (loss.item()/num_of_mini_batch)\n",
        "        loss_list.append(avg_loss)\n",
        "        \n",
        "    if (num_epoch+1) % 10 == 0:\n",
        "        print(\"Epoch = {} loss = {:.6f}\".format(num_epoch+1, avg_loss))"
      ]
    },
    {
      "cell_type": "markdown",
      "metadata": {
        "id": "WYE4ZcTBxv__"
      },
      "source": [
        "[4] Test"
      ]
    },
    {
      "cell_type": "code",
      "execution_count": 39,
      "metadata": {
        "id": "4Yljld9UxvWt"
      },
      "outputs": [],
      "source": [
        "for batch_idx, image in enumerate(test_loader):\n",
        "    with torch.no_grad():\n",
        "        test_img = image.reshape(10000,784)\n",
        "        \n",
        "        test_recon_x, _, _ = model(test_img)"
      ]
    },
    {
      "cell_type": "code",
      "execution_count": 40,
      "metadata": {
        "colab": {
          "base_uri": "https://localhost:8080/",
          "height": 248
        },
        "id": "mvPsrPFWx0Zm",
        "outputId": "f3191e19-9137-4291-8aa6-97283c8b83d2"
      },
      "outputs": [
        {
          "output_type": "display_data",
          "data": {
            "text/plain": [
              "<Figure size 1440x288 with 20 Axes>"
            ],
            "image/png": "[encoded data removed]"
          },
          "metadata": {
            "needs_background": "light"
          }
        }
      ],
      "source": [
        "n = 10 \n",
        "plt.figure(figsize=(20, 4))\n",
        "\n",
        "for i in range(n):\n",
        "    #  = pit.subplot(행의 갯수, 열의갯수, index )\n",
        "    ax = plt.subplot(2, 10, i + 1)\n",
        "    \n",
        "    image = test_img[i*1000].reshape(28,28)\n",
        "    plt.imshow(image.cpu(), cmap='gray')\n",
        "    \n",
        "    ax.get_xaxis().set_visible(False)\n",
        "    ax.get_yaxis().set_visible(False)\n",
        "    \n",
        "    ax = plt.subplot(2, 10, i+1+n)\n",
        "    \n",
        "    recon_image = test_recon_x.data[i*1000].cpu().reshape(28,28)\n",
        "    plt.imshow(recon_image, cmap='gray')\n",
        "\n",
        "    ax.get_xaxis().set_visible(False)\n",
        "    ax.get_yaxis().set_visible(False)"
      ]
    }
  ],
  "metadata": {
    "colab": {
      "name": "Untitled14.ipynb",
      "provenance": [],
      "authorship_tag": "ABX9TyPXN/GjByOgdjREq/zoD0xb",
      "include_colab_link": true
    },
    "kernelspec": {
      "display_name": "Python 3",
      "name": "python3"
    },
    "language_info": {
      "name": "python"
    }
  },
  "nbformat": 4,
  "nbformat_minor": 0
}