{
  "cells": [
    {
      "cell_type": "markdown",
      "metadata": {
        "id": "view-in-github",
        "colab_type": "text"
      },
      "source": [
        "<a href=\"https://colab.research.google.com/github/simseoyoung/Deep-Learning/blob/main/CH.6/6_1_AutoEncoder_Basic.ipynb\" target=\"_parent\"><img src=\"https://colab.research.google.com/assets/colab-badge.svg\" alt=\"Open In Colab\"/></a>"
      ]
    },
    {
      "cell_type": "markdown",
      "metadata": {
        "id": "T7iDakrw97cM"
      },
      "source": [
        "# AutoEncoder Basic"
      ]
    },
    {
      "cell_type": "markdown",
      "metadata": {
        "id": "AKYAtckA97cV"
      },
      "source": [
        "### Import Libraries"
      ]
    },
    {
      "cell_type": "code",
      "execution_count": 1,
      "metadata": {
        "id": "aB2dEgXN97cW"
      },
      "outputs": [],
      "source": [
        "import numpy as np\n",
        "import torch\n",
        "import torch.nn as nn\n",
        "import torch.optim as optim\n",
        "\n",
        "import random"
      ]
    },
    {
      "cell_type": "code",
      "execution_count": 2,
      "metadata": {
        "id": "kzxklcrP97cZ"
      },
      "outputs": [],
      "source": [
        "import torchvision\n",
        "import torchvision.datasets as dataset\n",
        "import torchvision.transforms as transforms\n",
        "from torch.utils.data import DataLoader\n",
        "import matplotlib.pyplot as plt"
      ]
    },
    {
      "cell_type": "code",
      "execution_count": 3,
      "metadata": {
        "colab": {
          "base_uri": "https://localhost:8080/"
        },
        "id": "vzp5BkKw97ca",
        "outputId": "94a32cee-2caa-459d-fcaa-659d68563381"
      },
      "outputs": [
        {
          "output_type": "stream",
          "name": "stdout",
          "text": [
            "cpu\n"
          ]
        }
      ],
      "source": [
        "device = 'cuda' if torch.cuda.is_available() else 'cpu'\n",
        "\n",
        "print(device)"
      ]
    },
    {
      "cell_type": "code",
      "execution_count": 4,
      "metadata": {
        "id": "kNunHHX_97cc"
      },
      "outputs": [],
      "source": [
        "# for reproducibility\n",
        "random.seed(777)\n",
        "torch.manual_seed(777)\n",
        "if device == 'cuda':\n",
        "    torch.cuda.manual_seed_all(777)"
      ]
    },
    {
      "cell_type": "markdown",
      "metadata": {
        "id": "66QproiJ97cd"
      },
      "source": [
        "### Import Dataset"
      ]
    },
    {
      "cell_type": "code",
      "execution_count": null,
      "metadata": {
        "id": "VbzHHWgC97ce"
      },
      "outputs": [],
      "source": [
        "# ../image_data/FashionMNIST\n",
        "fashion_train = dataset.FashionMNIST(\"../image_data/FashionMNIST\", train=True, download=False, transform=transforms.ToTensor())\n",
        "fashion_test = dataset.FashionMNIST(\"../image_data/FashionMNIST\", train=False, download=False, transform=transforms.ToTensor())"
      ]
    },
    {
      "cell_type": "markdown",
      "metadata": {
        "id": "HmX34xyP97cg"
      },
      "source": [
        "### Rescale data 0~1 (좀 더 좋은 퍼포먼스를 내기 위해)"
      ]
    },
    {
      "cell_type": "markdown",
      "metadata": {
        "id": "js_9otEJ97ch"
      },
      "source": [
        "https://pytorch.org/docs/stable/_modules/torchvision/datasets/mnist.html#FashionMNIST => 뒤에 들어가는 함수를 확인 가능"
      ]
    },
    {
      "cell_type": "code",
      "execution_count": null,
      "metadata": {
        "id": "Gr3X3QsL97ci"
      },
      "outputs": [],
      "source": [
        "fashion_train.data = fashion_train.data/255.0\n",
        "fashion_train.targets = fashion_train.targets\n",
        "\n",
        "# 참고 255.0 이 아닌 255로 나누어주면 pixel 값의 범위를 0~1이 아닌 0~255로 생각해서 그림이 이상하게 나온다"
      ]
    },
    {
      "cell_type": "code",
      "execution_count": null,
      "metadata": {
        "id": "0lK_SiR897cj",
        "outputId": "2b064362-1dd1-45c7-aedf-21835bf39265"
      },
      "outputs": [
        {
          "name": "stdout",
          "output_type": "stream",
          "text": [
            "60000\n"
          ]
        }
      ],
      "source": [
        "print(len(fashion_train.data))"
      ]
    },
    {
      "cell_type": "markdown",
      "metadata": {
        "id": "KYkLprB097ck"
      },
      "source": [
        "### Image 확인"
      ]
    },
    {
      "cell_type": "code",
      "execution_count": null,
      "metadata": {
        "id": "WDnIbGOS97cl",
        "outputId": "7a67ad9e-9f9d-4db4-8ac9-be543ee2cd7b"
      },
      "outputs": [
        {
          "name": "stdout",
          "output_type": "stream",
          "text": [
            "tensor(0)\n"
          ]
        },
        {
          "data": {
            "image/png": "[encoded data removed]",
            "text/plain": [
              "<Figure size 432x288 with 1 Axes>"
            ]
          },
          "metadata": {
            "needs_background": "light"
          },
          "output_type": "display_data"
        }
      ],
      "source": [
        "plt.imshow(fashion_train.data[1], cmap=\"gray\")\n",
        "print(fashion_train.targets[1])"
      ]
    },
    {
      "cell_type": "markdown",
      "metadata": {
        "id": "l4-OpU6A97cm"
      },
      "source": [
        "##### Test data 또한 가져와준다"
      ]
    },
    {
      "cell_type": "code",
      "execution_count": null,
      "metadata": {
        "id": "mxj197bY97cm"
      },
      "outputs": [],
      "source": [
        "fashion_test.data = fashion_test.data/255.0\n",
        "fashion_test.targets = fashion_test.targets"
      ]
    },
    {
      "cell_type": "markdown",
      "metadata": {
        "id": "T-HqUYhd97co"
      },
      "source": [
        "### Load dataset using DataLoader"
      ]
    },
    {
      "cell_type": "markdown",
      "metadata": {
        "id": "I5IjzzsT97cp"
      },
      "source": [
        "Unsupervised learning 이므로 label 은 필요하지 않다, x data 만 가지고 오도록 한다"
      ]
    },
    {
      "cell_type": "code",
      "execution_count": null,
      "metadata": {
        "id": "WTm0Hzay97cp"
      },
      "outputs": [],
      "source": [
        "batch_size = 256\n",
        "\n",
        "# batch size 만큼 나누어서 data를 로드\n",
        "train_loader = torch.utils.data.DataLoader(fashion_train.data ,batch_size=batch_size, shuffle=True,  drop_last=False)\n",
        "# drop last를 False로 지정해 마지막까지 training 시킬 수 있도록 함\n",
        "\n",
        "# batch size of test data => 전체 데이터를 하나의 배치로 크게 묶어줌\n",
        "test_loader = torch.utils.data.DataLoader(fashion_test.data , batch_size=len(fashion_test.data), shuffle=False, drop_last=False)"
      ]
    },
    {
      "cell_type": "code",
      "execution_count": null,
      "metadata": {
        "id": "sC3rikl097cq",
        "outputId": "fe3a7ec9-8501-475e-9244-aac9554ff2b9"
      },
      "outputs": [
        {
          "name": "stdout",
          "output_type": "stream",
          "text": [
            "torch.Size([28, 28])\n"
          ]
        }
      ],
      "source": [
        "# 이미지의 size 재보기\n",
        "for batch_idx,image in enumerate(train_loader):\n",
        "    print(image[0].shape)\n",
        "    break"
      ]
    },
    {
      "cell_type": "code",
      "execution_count": null,
      "metadata": {
        "id": "dsrHhdjX97cq",
        "outputId": "ebf0d70c-e74f-48ea-a2e7-85497188f40c"
      },
      "outputs": [
        {
          "data": {
            "image/png": "[encoded data removed]",
            "text/plain": [
              "<Figure size 432x288 with 1 Axes>"
            ]
          },
          "metadata": {
            "needs_background": "light"
          },
          "output_type": "display_data"
        }
      ],
      "source": [
        "for batch_idx, image in enumerate(train_loader):\n",
        "    plt.imshow(image[98].reshape(28,28), cmap=\"gray\")\n",
        "    break"
      ]
    },
    {
      "cell_type": "markdown",
      "metadata": {
        "id": "BETgXl9I97cq"
      },
      "source": [
        "### AutoEncoder Network"
      ]
    },
    {
      "cell_type": "code",
      "execution_count": null,
      "metadata": {
        "id": "Mbx24xCV97cr"
      },
      "outputs": [],
      "source": [
        "class Autoencoder(nn.Module):\n",
        "    def __init__(self):\n",
        "        super(Autoencoder,self).__init__()\n",
        "        \n",
        "        # Encoder 와 Decoder 를 layer 하나로 주어 최대한 간단한 학습을 하도록 modeling\n",
        "        # latent 의 size = 16\n",
        "        self.encoder = nn.Linear(784, 16)\n",
        "        self.decoder = nn.Linear(16, 784)\n",
        "           \n",
        "    def forward(self,x):\n",
        "        z_vector = self.encoder(x)\n",
        "        \n",
        "        output = self.decoder(z_vector)\n",
        "        \n",
        "        return torch.sigmoid(output) # output range should be 0~1"
      ]
    },
    {
      "cell_type": "code",
      "execution_count": null,
      "metadata": {
        "id": "pVUxDDLf97cr",
        "outputId": "40fe1a6e-330d-42c9-8b5e-07473255fbc3"
      },
      "outputs": [
        {
          "data": {
            "text/plain": [
              "Autoencoder(\n",
              "  (encoder): Linear(in_features=784, out_features=16, bias=True)\n",
              "  (decoder): Linear(in_features=16, out_features=784, bias=True)\n",
              ")"
            ]
          },
          "execution_count": 14,
          "metadata": {},
          "output_type": "execute_result"
        }
      ],
      "source": [
        "model = Autoencoder().to(device)\n",
        "model"
      ]
    },
    {
      "cell_type": "markdown",
      "metadata": {
        "id": "cmb3woT097cs"
      },
      "source": [
        "### Loss Function"
      ]
    },
    {
      "cell_type": "code",
      "execution_count": null,
      "metadata": {
        "id": "6E0NqP3o97cs"
      },
      "outputs": [],
      "source": [
        "# MSE = Mean Squared Error\n",
        "loss_function = nn.MSELoss()"
      ]
    },
    {
      "cell_type": "markdown",
      "metadata": {
        "id": "-RWCUJDL97cs"
      },
      "source": [
        "### Parameters and Optimizer"
      ]
    },
    {
      "cell_type": "code",
      "execution_count": null,
      "metadata": {
        "id": "nF9sAn6q97ct"
      },
      "outputs": [],
      "source": [
        "epoch = 100\n",
        "learning_rate = 1e-3\n",
        "optimizer = torch.optim.Adam(model.parameters(), lr=learning_rate, weight_decay=1e-5)"
      ]
    },
    {
      "cell_type": "markdown",
      "metadata": {
        "id": "iLzkIM5X97ct"
      },
      "source": [
        "### Train"
      ]
    },
    {
      "cell_type": "code",
      "execution_count": null,
      "metadata": {
        "id": "r0PriTVG97cu",
        "outputId": "c16bf1c9-d6e1-4424-8532-51c71a888dbb"
      },
      "outputs": [
        {
          "name": "stdout",
          "output_type": "stream",
          "text": [
            "Epoch = 10 loss = 0.018572\n",
            "Epoch = 20 loss = 0.017750\n",
            "Epoch = 30 loss = 0.017605\n",
            "Epoch = 40 loss = 0.017564\n",
            "Epoch = 50 loss = 0.017560\n",
            "Epoch = 60 loss = 0.017550\n",
            "Epoch = 70 loss = 0.017554\n",
            "Epoch = 80 loss = 0.017544\n",
            "Epoch = 90 loss = 0.017542\n",
            "Epoch = 100 loss = 0.017556\n"
          ]
        }
      ],
      "source": [
        "# training\n",
        "\n",
        "total_batch = len(train_loader) # 전체 mini batch 의 갯수 (즉, 60000/256 = 234.xxxx => 235개)\n",
        "\n",
        "for num_epoch in range(epoch):\n",
        "    avg_loss = 0\n",
        "    \n",
        "    for batch_num, images in enumerate(train_loader):\n",
        "        \n",
        "        X = images.to(device)\n",
        "        X = X.reshape(-1, 784)\n",
        "        \n",
        "        optimizer.zero_grad()\n",
        "        \n",
        "        output = model(X).to(device)\n",
        "        \n",
        "        loss = loss_function(output, X).to(device)\n",
        "        loss.backward()\n",
        "        \n",
        "        optimizer.step()   # update\n",
        "        \n",
        "        avg_loss += (loss/total_batch) \n",
        "    \n",
        "    # 10 epoch 마다 print\n",
        "    if ((num_epoch+1) % 10 == 0):\n",
        "        print(\"Epoch = {} loss = {:.6f}\".format(num_epoch+1, avg_loss))"
      ]
    },
    {
      "cell_type": "markdown",
      "metadata": {
        "id": "-y6PWk2y97cu"
      },
      "source": [
        "### Save model"
      ]
    },
    {
      "cell_type": "code",
      "execution_count": null,
      "metadata": {
        "id": "nz8bqdaN97cu"
      },
      "outputs": [],
      "source": [
        "torch.save(model.state_dict(), './pre_trained/AutoEncoder_Basic.pth')"
      ]
    },
    {
      "cell_type": "markdown",
      "metadata": {
        "id": "egoOzxO-97cu"
      },
      "source": [
        "### Load model"
      ]
    },
    {
      "cell_type": "code",
      "execution_count": null,
      "metadata": {
        "id": "MbVThhCD97cv"
      },
      "outputs": [],
      "source": [
        "model = Autoencoder().to(device)"
      ]
    },
    {
      "cell_type": "code",
      "execution_count": null,
      "metadata": {
        "id": "FqkbTtLU97cv",
        "outputId": "4609a537-7494-4cac-e1bb-be65bb9314a4"
      },
      "outputs": [
        {
          "data": {
            "text/plain": [
              "<All keys matched successfully>"
            ]
          },
          "execution_count": 20,
          "metadata": {},
          "output_type": "execute_result"
        }
      ],
      "source": [
        "model.load_state_dict(torch.load( './pre_trained/AutoEncoder_Basic.pth', map_location=device))"
      ]
    },
    {
      "cell_type": "markdown",
      "metadata": {
        "id": "J_3nz2wI97cv"
      },
      "source": [
        "### Test Model"
      ]
    },
    {
      "cell_type": "code",
      "execution_count": null,
      "metadata": {
        "id": "-yazFN9097cw"
      },
      "outputs": [],
      "source": [
        "for batch_idx, image in enumerate(test_loader):\n",
        "    with torch.no_grad():\n",
        "        test_img = image.reshape(-1, 784).to(device)\n",
        "        \n",
        "        test_recon_x = model(test_img)"
      ]
    },
    {
      "cell_type": "code",
      "execution_count": null,
      "metadata": {
        "id": "DEASthRd97cw",
        "outputId": "4cef7547-2dd7-4811-a483-5380faa394e5"
      },
      "outputs": [
        {
          "data": {
            "image/png": "[encoded data removed]",
            "text/plain": [
              "<Figure size 1440x360 with 20 Axes>"
            ]
          },
          "metadata": {
            "needs_background": "light"
          },
          "output_type": "display_data"
        }
      ],
      "source": [
        "n = 10  # 몇개를 보일것인가\n",
        "plt.figure(figsize=(20, 5)) \n",
        "\n",
        "for i in range(n):\n",
        "    #  Original data\n",
        "    #  = pit.subplot(행의 갯수, 열의갯수, index )\n",
        "    ax = plt.subplot(2, 10, i + 1) # i+1 = 1,2,3,4,5,6,7,8,9,10\n",
        "    \n",
        "    test_img = image[i*100].to(device) # 100개 단위로 출력 (특별한 이유는 없음)\n",
        "    plt.imshow(test_img.cpu(), cmap='gray')\n",
        "    \n",
        "    ax.get_xaxis().set_visible(False)\n",
        "    ax.get_yaxis().set_visible(False)\n",
        "    \n",
        "    # ===================================================================\n",
        "    \n",
        "    ax = plt.subplot(2, 10, i+1+n) # 11,12,13,14,15,16,17,18,19,20\n",
        "    \n",
        "    recon_image = test_recon_x.data[i*100].reshape(28,28)\n",
        "    plt.imshow(recon_image.cpu(), cmap='gray')\n",
        "\n",
        "#     x, y 축을 보이고 싶다면 아래를 주석처리\n",
        "    ax.get_xaxis().set_visible(False)\n",
        "    ax.get_yaxis().set_visible(False)"
      ]
    },
    {
      "cell_type": "code",
      "execution_count": null,
      "metadata": {
        "id": "j2JKaC4R97cw"
      },
      "outputs": [],
      "source": [
        ""
      ]
    }
  ],
  "metadata": {
    "kernelspec": {
      "display_name": "Python 3",
      "language": "python",
      "name": "python3"
    },
    "language_info": {
      "codemirror_mode": {
        "name": "ipython",
        "version": 3
      },
      "file_extension": ".py",
      "mimetype": "text/x-python",
      "name": "python",
      "nbconvert_exporter": "python",
      "pygments_lexer": "ipython3",
      "version": "3.7.7"
    },
    "colab": {
      "name": "Day06_01_AutoEncoder_Basic_answer.ipynb",
      "provenance": [],
      "include_colab_link": true
    }
  },
  "nbformat": 4,
  "nbformat_minor": 0
}