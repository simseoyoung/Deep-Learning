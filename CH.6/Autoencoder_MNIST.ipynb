{
  "nbformat": 4,
  "nbformat_minor": 0,
  "metadata": {
    "colab": {
      "name": "Untitled12.ipynb",
      "provenance": [],
      "authorship_tag": "ABX9TyNm+ksoyQrK8nLszjC72JcP",
      "include_colab_link": true
    },
    "kernelspec": {
      "name": "python3",
      "display_name": "Python 3"
    },
    "language_info": {
      "name": "python"
    }
  },
  "cells": [
    {
      "cell_type": "markdown",
      "metadata": {
        "id": "view-in-github",
        "colab_type": "text"
      },
      "source": [
        "<a href=\"https://colab.research.google.com/github/simseoyoung/Deep-Learning/blob/main/CH.6/Autoencoder_MNIST.ipynb\" target=\"_parent\"><img src=\"https://colab.research.google.com/assets/colab-badge.svg\" alt=\"Open In Colab\"/></a>"
      ]
    },
    {
      "cell_type": "markdown",
      "source": [
        "# AutoEncoder\n",
        "\n",
        "- MNIST dataset 사용\n",
        "- Unsupervised learning <br>\n",
        "    -> label 불필요"
      ],
      "metadata": {
        "id": "PB5MrBhRea3O"
      }
    },
    {
      "cell_type": "code",
      "execution_count": 4,
      "metadata": {
        "id": "nX2bIdIFeMqH"
      },
      "outputs": [],
      "source": [
        "import tensorflow as tf\n",
        "import numpy as np\n",
        "import tensorflow.keras as keras\n",
        "import matplotlib.pyplot as plt\n",
        "import torch.nn as nn\n",
        "import torch.optim as optim\n",
        "import random\n",
        "import torch"
      ]
    },
    {
      "cell_type": "code",
      "source": [
        "device = 'cuda' if torch.cuda.is_available() else 'cpu'\n",
        "\n",
        "print(device)"
      ],
      "metadata": {
        "colab": {
          "base_uri": "https://localhost:8080/"
        },
        "id": "Q6qQ7r92lPED",
        "outputId": "a9a2cf85-00a1-4b80-fc1d-66a5e6c6a862"
      },
      "execution_count": 5,
      "outputs": [
        {
          "output_type": "stream",
          "name": "stdout",
          "text": [
            "cpu\n"
          ]
        }
      ]
    },
    {
      "cell_type": "code",
      "source": [
        "# for reproducibility\n",
        "random.seed(777)\n",
        "torch.manual_seed(777)\n",
        "if device == 'cuda':\n",
        "    torch.cuda.manual_seed_all(777)"
      ],
      "metadata": {
        "id": "zjaGfDnVlWBI"
      },
      "execution_count": 7,
      "outputs": []
    },
    {
      "cell_type": "markdown",
      "source": [
        "[1] Data"
      ],
      "metadata": {
        "id": "Z9IA6Yz_lYt1"
      }
    },
    {
      "cell_type": "code",
      "source": [
        "(x_train, y_train), (x_test, y_test) = keras.datasets.mnist.load_data()\n",
        "\n",
        "# normalize (pixel을 나누어 0~1사이의 범위를 갖도록 바꿈)\n",
        "x_train = x_train.astype('float32')/255.0\n",
        "x_test = x_test.astype('float32')/255.0\n",
        "\n",
        "# 이미지 확인\n",
        "plt.imshow(x_train[1], cmap = 'gray')\n",
        "\n",
        "x_train = x_train.reshape((len(x_train), np.prod(x_train.shape[1:])))\n",
        "x_test = x_test.reshape((len(x_test), np.prod(x_test.shape[1:])))\n",
        "\n",
        "print(x_train.shape)\n",
        "print(x_test.shape)"
      ],
      "metadata": {
        "colab": {
          "base_uri": "https://localhost:8080/",
          "height": 302
        },
        "id": "wtHD5VuPlZ69",
        "outputId": "2fd8efda-ba6e-4839-9695-6f3aee38938d"
      },
      "execution_count": 17,
      "outputs": [
        {
          "output_type": "stream",
          "name": "stdout",
          "text": [
            "(60000, 784)\n",
            "(10000, 784)\n"
          ]
        },
        {
          "output_type": "display_data",
          "data": {
            "text/plain": [
              "<Figure size 432x288 with 1 Axes>"
            ],
            "image/png": "[encoded data removed]"
          },
          "metadata": {
            "needs_background": "light"
          }
        }
      ]
    },
    {
      "cell_type": "markdown",
      "source": [
        "[2] Model"
      ],
      "metadata": {
        "id": "5bO-gdiuoqA6"
      }
    },
    {
      "cell_type": "code",
      "source": [
        "# parameter 지정\n",
        "learning_rate = 0.01\n",
        "epoch = 20\n",
        "batch_size = 128\n",
        "num_hidden = 256\n",
        "size_input = 784\n",
        "# 28*28 = 784\n"
      ],
      "metadata": {
        "id": "4ZKMTlo8prrJ"
      },
      "execution_count": 22,
      "outputs": []
    },
    {
      "cell_type": "code",
      "source": [
        "class Autoencoder(nn.Module):\n",
        "  def __init__(self):\n",
        "    super(Autoencoder,self).__init__()\n",
        "    \n",
        "    self.encoder = nn.Linear(size_input, num_hidden)\n",
        "    self.decoder = nn.Linear(num_hidden, size_input)\n",
        "\n",
        "  def forward(self, x):\n",
        "    z_vector = self.encoder(x)\n",
        "\n",
        "    output = self.decoder(z_vector)\n",
        "\n",
        "    return torch.sigmoid(output)\n",
        "\n",
        "model = Autoencoder().to(device)\n",
        "model\n",
        "\n",
        "\n",
        "# optimizer 설정\n",
        "optimizer = optim.Adam(model.parameters(), lr = learning_rate)"
      ],
      "metadata": {
        "id": "GT91hLtKnOsN"
      },
      "execution_count": 23,
      "outputs": []
    },
    {
      "cell_type": "code",
      "source": [
        "# loss function\n",
        "loss_function = nn.MSELoss()"
      ],
      "metadata": {
        "id": "1kLPeyeVrI--"
      },
      "execution_count": 24,
      "outputs": []
    },
    {
      "cell_type": "code",
      "source": [
        "# Batch size만큼 나눠서 data load\n",
        "# batch size 만큼 나누어서 data를 로드\n",
        "train_loader = torch.utils.data.DataLoader(x_train ,batch_size=batch_size, shuffle=True,  drop_last=False)\n",
        "# drop last를 False로 지정해 마지막까지 training 시킬 수 있도록 함\n",
        "\n",
        "# batch size of test data => 전체 데이터를 하나의 배치로 크게 묶어줌\n",
        "test_loader = torch.utils.data.DataLoader(x_test, batch_size=len(x_test), shuffle=False, drop_last=False)"
      ],
      "metadata": {
        "id": "G8usXdYVrdyC"
      },
      "execution_count": 25,
      "outputs": []
    },
    {
      "cell_type": "markdown",
      "source": [
        "[3] Training"
      ],
      "metadata": {
        "id": "sFb0XlI4sPjV"
      }
    },
    {
      "cell_type": "code",
      "source": [
        "total_batch = len(train_loader)\n",
        "print(total_batch)\n",
        "\n",
        "for num_epoch in range(epoch):\n",
        "  avg_loss = 0\n",
        "  for batch_num, images in enumerate(train_loader):\n",
        "    x = images.to(device)\n",
        "    x = x.reshape(-1, 784)\n",
        "\n",
        "    optimizer.zero_grad()\n",
        "\n",
        "    output = model(x).to(device)\n",
        "\n",
        "    loss = loss_function(output, x).to(device)\n",
        "    loss.backward()\n",
        "\n",
        "    avg_loss += (loss/total_batch)\n",
        "\n",
        "    # update\n",
        "    optimizer.step()\n",
        "    \n",
        "  print(\"Epoch = {} loss = {:.6f}\".format(num_epoch+1, avg_loss))"
      ],
      "metadata": {
        "colab": {
          "base_uri": "https://localhost:8080/"
        },
        "id": "LFx6IVIbr8uH",
        "outputId": "a363eab8-04f0-41ed-e224-a09e979a1843"
      },
      "execution_count": 31,
      "outputs": [
        {
          "output_type": "stream",
          "name": "stdout",
          "text": [
            "469\n",
            "Epoch = 1 loss = 0.001632\n",
            "Epoch = 2 loss = 0.001626\n",
            "Epoch = 3 loss = 0.001638\n",
            "Epoch = 4 loss = 0.001644\n",
            "Epoch = 5 loss = 0.001664\n",
            "Epoch = 6 loss = 0.001637\n",
            "Epoch = 7 loss = 0.001642\n",
            "Epoch = 8 loss = 0.001653\n",
            "Epoch = 9 loss = 0.001639\n",
            "Epoch = 10 loss = 0.001675\n",
            "Epoch = 11 loss = 0.001631\n",
            "Epoch = 12 loss = 0.001654\n",
            "Epoch = 13 loss = 0.001656\n",
            "Epoch = 14 loss = 0.001662\n",
            "Epoch = 15 loss = 0.001654\n",
            "Epoch = 16 loss = 0.001651\n",
            "Epoch = 17 loss = 0.001651\n",
            "Epoch = 18 loss = 0.001661\n",
            "Epoch = 19 loss = 0.001661\n",
            "Epoch = 20 loss = 0.001656\n"
          ]
        }
      ]
    },
    {
      "cell_type": "markdown",
      "source": [
        "[4] Test"
      ],
      "metadata": {
        "id": "9cAOst1uthdW"
      }
    },
    {
      "cell_type": "code",
      "source": [
        "for batch_idx, image in enumerate(test_loader):\n",
        "    with torch.no_grad():\n",
        "        test_img = image.reshape(-1, 784).to(device)\n",
        "        \n",
        "        test_recon_x = model(test_img)"
      ],
      "metadata": {
        "id": "V7xrfaEftdaC"
      },
      "execution_count": 40,
      "outputs": []
    },
    {
      "cell_type": "code",
      "source": [
        "n = 10  # 몇개를 보일것인가\n",
        "plt.figure(figsize=(20, 5)) \n",
        "\n",
        "for i in range(n):\n",
        "    # pit.subplot(행의 갯수, 열의갯수, index )\n",
        "    ax = plt.subplot(2, 10, i + 1)\n",
        "    \n",
        "    test_img = image[i*100].to(device) # 100개 단위로 출력\n",
        "    plt.imshow(test_img.reshape(28,28), cmap='gray')\n",
        "    \n",
        "    ax.get_xaxis().set_visible(False)\n",
        "    ax.get_yaxis().set_visible(False)\n",
        "\n",
        "    ax = plt.subplot(2, 10, i+1+n)\n",
        "    recon_image = test_recon_x[i*100].reshape(28,28)\n",
        "    plt.imshow(recon_image.reshape(28,28), cmap='gray')\n",
        "\n",
        "    ax.get_xaxis().set_visible(False)\n",
        "    ax.get_yaxis().set_visible(False)"
      ],
      "metadata": {
        "colab": {
          "base_uri": "https://localhost:8080/",
          "height": 277
        },
        "id": "BGxUmbiXuSS4",
        "outputId": "be9c69bb-5379-4613-fc5b-4f9f55a1b97d"
      },
      "execution_count": 41,
      "outputs": [
        {
          "output_type": "display_data",
          "data": {
            "text/plain": [
              "<Figure size 1440x360 with 20 Axes>"
            ],
            "image/png": "[encoded data removed]"
          },
          "metadata": {
            "needs_background": "light"
          }
        }
      ]
    }
  ]
}