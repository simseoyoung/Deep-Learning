{
  "cells": [
    {
      "cell_type": "markdown",
      "metadata": {
        "id": "view-in-github",
        "colab_type": "text"
      },
      "source": [
        "<a href=\"https://colab.research.google.com/github/simseoyoung/Deep-Learning/blob/main/CH.6/06_2_VAE_Basic_MNIST_hidden2.ipynb\" target=\"_parent\"><img src=\"https://colab.research.google.com/assets/colab-badge.svg\" alt=\"Open In Colab\"/></a>"
      ]
    },
    {
      "cell_type": "markdown",
      "metadata": {
        "id": "DLJ5YNsUBqt8"
      },
      "source": [
        "# Variational AutoEncoder - Basic"
      ]
    },
    {
      "cell_type": "code",
      "execution_count": 1,
      "metadata": {
        "id": "N2kjzehoBquJ"
      },
      "outputs": [],
      "source": [
        "import numpy as np"
      ]
    },
    {
      "cell_type": "code",
      "execution_count": 2,
      "metadata": {
        "id": "tnkEoPzCBquP"
      },
      "outputs": [],
      "source": [
        "import torch\n",
        "import torch.nn as nn\n",
        "import torch.optim as optim\n",
        "from torch.nn import functional as F\n",
        "import random\n",
        "\n",
        "import pandas as pd\n",
        "\n",
        "from torchvision.utils import save_image"
      ]
    },
    {
      "cell_type": "code",
      "execution_count": null,
      "metadata": {
        "id": "jp5scVU-BquT"
      },
      "outputs": [],
      "source": [
        "# import torchvision.datasets as dset\n",
        "from mnist import MNIST # <= 다른거\n",
        "\n",
        "import torchvision.transforms as transforms\n",
        "from torch.utils.data import DataLoader\n",
        "import matplotlib.pyplot as plt"
      ]
    },
    {
      "cell_type": "markdown",
      "metadata": {
        "id": "4C7HLHKHBquV"
      },
      "source": [
        "### Check GPU"
      ]
    },
    {
      "cell_type": "code",
      "execution_count": null,
      "metadata": {
        "id": "rXTZgLsUBquW",
        "outputId": "8c425552-fd91-49e1-f836-d7bc336007f0"
      },
      "outputs": [
        {
          "name": "stdout",
          "output_type": "stream",
          "text": [
            "cpu\n"
          ]
        }
      ],
      "source": [
        "device = 'cuda' if torch.cuda.is_available() else 'cpu'\n",
        "\n",
        "print(device)"
      ]
    },
    {
      "cell_type": "code",
      "execution_count": null,
      "metadata": {
        "id": "KnQvKUquBquZ"
      },
      "outputs": [],
      "source": [
        "# for reproducibility\n",
        "random.seed(777)\n",
        "torch.manual_seed(777)\n",
        "if device == 'cuda':\n",
        "    torch.cuda.manual_seed_all(777)"
      ]
    },
    {
      "cell_type": "markdown",
      "metadata": {
        "id": "yJn0_-EQBqua"
      },
      "source": [
        "### Import Dataset"
      ]
    },
    {
      "cell_type": "code",
      "execution_count": null,
      "metadata": {
        "id": "kDkEq5coBquc"
      },
      "outputs": [],
      "source": [
        "mnist = MNIST('../image_data/MNIST/raw')\n",
        "x_train, y_train = mnist.load_training()\n",
        "x_test, y_test = mnist.load_testing()"
      ]
    },
    {
      "cell_type": "code",
      "execution_count": null,
      "metadata": {
        "id": "OEedvFEUBque"
      },
      "outputs": [],
      "source": [
        "print(\"x_train 의 length = {}\".format(len(x_train)))\n",
        "print(\"x_test 의 length = {}\".format(len(x_test)))"
      ]
    },
    {
      "cell_type": "markdown",
      "metadata": {
        "id": "eO2497UXBqug"
      },
      "source": [
        "### Data PreProcessing"
      ]
    },
    {
      "cell_type": "code",
      "execution_count": null,
      "metadata": {
        "id": "MhzxB3kIBquj"
      },
      "outputs": [],
      "source": [
        "x_train=np.asarray(x_train)\n",
        "y_train=np.asarray(y_train)\n",
        "x_test=np.asarray(x_test)\n",
        "y_test=np.asarray(y_test)"
      ]
    },
    {
      "cell_type": "code",
      "execution_count": null,
      "metadata": {
        "id": "6OFaRCnmBqul"
      },
      "outputs": [],
      "source": [
        "# Rescale the image data to 0 ~ 1. \n",
        "x_train = x_train.astype(np.float32) / 255.0\n",
        "x_test = x_test.astype(np.float32) / 255.0\n",
        "\n",
        "print(\"x_train 의 shape={}, x_test 의 shape={}\".format(x_train.shape,x_test.shape))"
      ]
    },
    {
      "cell_type": "markdown",
      "metadata": {
        "id": "k2FSoAH1Bqum"
      },
      "source": [
        "### Load Dataset using DataLoader"
      ]
    },
    {
      "cell_type": "code",
      "execution_count": null,
      "metadata": {
        "id": "FmPloXCaBqun"
      },
      "outputs": [],
      "source": [
        "batch_size = 256\n",
        "\n",
        "# batch size 만큼 나누어서 data를 로드\n",
        "train_loader = torch.utils.data.DataLoader(x_train ,batch_size=batch_size, shuffle=True, num_workers=0,drop_last=False)\n",
        "test_loader = torch.utils.data.DataLoader(x_test ,batch_size=len(x_test), shuffle=False, num_workers=0,drop_last=False)"
      ]
    },
    {
      "cell_type": "code",
      "execution_count": null,
      "metadata": {
        "scrolled": true,
        "id": "ptGyQ-F4Bquo",
        "outputId": "01363810-9872-4574-9969-d92955870e5e"
      },
      "outputs": [
        {
          "data": {
            "image/png": "[encoded data removed]",
            "text/plain": [
              "<Figure size 432x288 with 1 Axes>"
            ]
          },
          "metadata": {
            "needs_background": "light"
          },
          "output_type": "display_data"
        }
      ],
      "source": [
        "for batch_idx, image in enumerate(train_loader):\n",
        "    plt.imshow(image[0].reshape(28,28), cmap=\"gray\")\n",
        "    break"
      ]
    },
    {
      "cell_type": "markdown",
      "metadata": {
        "id": "INLy5MIjBqup"
      },
      "source": [
        "### Make VAE Network"
      ]
    },
    {
      "cell_type": "code",
      "execution_count": null,
      "metadata": {
        "id": "m9QrzY16Bquq"
      },
      "outputs": [],
      "source": [
        "class VAE(nn.Module):\n",
        "    def __init__(self):\n",
        "        super(VAE, self).__init__()\n",
        "\n",
        "        self.fc1 = nn.Linear(784, 400) # encoder 의 hidden layer\n",
        "#         self.mu = nn.Linear(400, 20) # reparameterization 을 위한 20개의 gaussian 분포에 대한 mean\n",
        "#         self.logvar = nn.Linear(400, 20) # reparameterization 을 위한 20개의 gaussian 분포에 대한 variance        \n",
        "        self.mu = nn.Linear(400, 2) # gaussian distribution을 만들기 위해 mean 값 구함\n",
        "        self.logvar = nn.Linear(400, 2) # 항상 양의 값을 갖도록 하기 위해서 log vatiance 사용\n",
        "\n",
        "#        self.fc2 = nn.Linear(20, 400)    \n",
        "        self.fc2 = nn.Linear(2, 400)\n",
        "\n",
        "        self.fc3 = nn.Linear(400, 784)\n",
        "        \n",
        "    # ===== 1 ============================================================================================================== #\n",
        "    # Encoder 부분\n",
        "    # hidden layer 를 한번만 통과 한 후 mu 와 variance 의 2개의 output layer 를 return 한다\n",
        "    \n",
        "    def encode(self, x):\n",
        "        h1 = F.relu(self.fc1(x))\n",
        "        mu = self.mu(h1)\n",
        "        logvar = self.logvar(h1)\n",
        "        \n",
        "        # linear 를 통과한 값은 - 의 값이 나오는 경우가 존재한다\n",
        "        # 이것을 방지하기 위해 linear 를 통과한 값은 var 가 아닌 log-variance 로 임의로 정해준다.\n",
        "        #(variance 는 항상 양수라는 guarantee 를 갖게 하기 위함)\n",
        "        # 즉 encoder 의 output 은 logvar 가 된다\n",
        "\n",
        "        return mu, logvar # gaussian parameters (mu 와 logvar) 를 return\n",
        "    # ===================================================================================================================== #\n",
        "    \n",
        "    \n",
        "    # ===== 2 ============================================================================================================== #\n",
        "    # Reparameterization Trick\n",
        "    def reparameterize(self, mu_vector, logvar_vector):\n",
        "        # torch.exp => 밑이 e 가 되는 지수함수로 변환 시켜준다 (torch.exp(4) = e^4)\n",
        "        # 그러므로 torch.exp(logvar_vector) 를 해주면  e^logvar_vector 가 되므로 variance 값이 나오게 된다는 사실이다.\n",
        "        var_vector = torch.exp(logvar_vector)\n",
        "        \n",
        "        # 루트를 씌워서 표준편차를 구한다\n",
        "        std = torch.sqrt(var_vector) \n",
        "            \n",
        "        # Epsilon ~ N(0,1) 평균이 0이고 표준편차가 1인 가우시안 정규분포를 생성\n",
        "        # 특히 torch.randn_like() 를 사용하여 텐서로 바로 정의하기 때문에 deep learning 연산에 사용이 가능하다.\n",
        "        eps = torch.randn_like(std) # std의 shape를 그대로 가져와서 만들 수 있음\n",
        "            \n",
        "        # z_vector = eps.mul(std).add_(mu) => 둘중 아무거나 상관 없음\n",
        "        z_vector = mu_vector + eps.mul(std)\n",
        "            \n",
        "        return z_vector\n",
        "    # ===================================================================================================================== #\n",
        "\n",
        "\n",
        "    # ===== 3 ============================================================================================================== #        \n",
        "    # Decoder 부분\n",
        "    # hidden layer(fc2)를 하나 통과한 후 다시 784 node의 output layer 를 만든후 sigmoid function 을 통과시켜준다.\n",
        "    def decode(self, z):\n",
        "        # z 를 input 으로 받아 decoder 부분 실행\n",
        "        h2 = F.relu(self.fc2(z))\n",
        "        \n",
        "        # hidden layer h3 를 input 으로 받아 output 생성\n",
        "        Bernouhlli_p = torch.sigmoid(self.fc3(h2)) #output 값       \n",
        "        return Bernouhlli_p\n",
        "    # ===================================================================================================================== #\n",
        "    \n",
        "    \n",
        "    # ===== 4 ============================================================================================================== #\n",
        "    # 위에서부터 정의한 method 들을 이용해 하나의 network 생성\n",
        "    # forward() 메소드는 model 오브젝트를 데이터와 함께 호출하면 자동으로 실행\n",
        "    def forward(self, x):\n",
        "        # Encoder 를 통과\n",
        "        # Reparameterization Trick 을 위한  parameters (p) 호출 (= mu, logvar 생성)\n",
        "        # x 의 형태 => (bath_size, channel, H, W)\n",
        "        mu, logvar = self.encode(x)\n",
        "        \n",
        "        # z 생성\n",
        "        z = self.reparameterize(mu, logvar)\n",
        "        \n",
        "        # decoder 를 통과, y 값을 최종적으로 생성\n",
        "        Bernouhlli_p = self.decode(z)\n",
        "        \n",
        "        return Bernouhlli_p, mu, logvar\n",
        "    # ======"
      ]
    },
    {
      "cell_type": "code",
      "execution_count": null,
      "metadata": {
        "id": "tUHFQPg7Bqut"
      },
      "outputs": [],
      "source": [
        "model = VAE().to(device)"
      ]
    },
    {
      "cell_type": "markdown",
      "metadata": {
        "id": "ip9vUlsdBquu"
      },
      "source": [
        "### Loss Function"
      ]
    },
    {
      "cell_type": "code",
      "execution_count": null,
      "metadata": {
        "id": "aeRE0tfMBquv"
      },
      "outputs": [],
      "source": [
        "def loss_function(recon_x, x, mu, logvar):\n",
        "    # recon_x =y , x = original unput\n",
        "    # MNIST data는 흑과 백 즉 0,1로 이루어진 데이터이므로 베르누이 사용\n",
        "    Bernouhlli_loss  = F.binary_cross_entropy(recon_x, x.reshape(-1, 784), reduction='sum')\n",
        "    \n",
        "    Bernouhlli_loss_formula = -torch.sum(x.reshape(-1,784)*torch.log(recon_x) \n",
        "                                         + (1-x.reshape(-1,784))*torch.log(1-recon_x))\n",
        "\n",
        "    # see Appendix B from VAE paper: Kingma and Welling. Auto-Encoding Variational Bayes. ICLR, 2014\n",
        "    # https://arxiv.org/abs/1312.6114\n",
        "    \n",
        "    # 논문 p.11 부분 (-D_KL)\n",
        "    # 0.5 * sum(1 + log(sigma^2) - mu^2 - sigma^2)\n",
        "    # 논문에서는 -KLD  = 1/2 ~~ 이므로 우변에 -를 붙여준다\n",
        "    KL_divergence  = -0.5 * torch.sum(1 + logvar - mu.pow(2) - logvar.exp())\n",
        "        \n",
        "    return Bernouhlli_loss + KL_divergence"
      ]
    },
    {
      "cell_type": "markdown",
      "metadata": {
        "id": "gaYsmSYuBquv"
      },
      "source": [
        "### Parameters and Optimizer"
      ]
    },
    {
      "cell_type": "code",
      "execution_count": null,
      "metadata": {
        "id": "U5LVHm6jBquw"
      },
      "outputs": [],
      "source": [
        "epoch = 100\n",
        "learning_rate = 1e-3\n",
        "optimizer = torch.optim.Adam(model.parameters(), lr=learning_rate, weight_decay=1e-5)"
      ]
    },
    {
      "cell_type": "markdown",
      "metadata": {
        "id": "Edje7VkfBquy"
      },
      "source": [
        "### Train VAE Model"
      ]
    },
    {
      "cell_type": "code",
      "execution_count": null,
      "metadata": {
        "id": "135H9uKCBquz",
        "outputId": "ec23ed9e-ddde-4da6-a1b4-b9c18d9b0241"
      },
      "outputs": [
        {
          "name": "stdout",
          "output_type": "stream",
          "text": [
            "10/100 epoch\tLoss = 155.71\n",
            "20/100 epoch\tLoss = 150.47\n",
            "30/100 epoch\tLoss = 148.02\n",
            "40/100 epoch\tLoss = 146.54\n",
            "50/100 epoch\tLoss = 145.40\n",
            "60/100 epoch\tLoss = 144.55\n",
            "70/100 epoch\tLoss = 143.89\n",
            "80/100 epoch\tLoss = 143.33\n",
            "90/100 epoch\tLoss = 142.90\n",
            "100/100 epoch\tLoss = 142.40\n"
          ]
        }
      ],
      "source": [
        "for num_epoch in range(epoch):\n",
        "    avg_loss = 0\n",
        "    \n",
        "    for batch_idx, image in enumerate(train_loader):\n",
        "        num_of_mini_batch = len(train_loader) # 235 가 나올것이다 60000/256 = 234.xx => 235\n",
        "        \n",
        "        input_x = image.reshape(-1, 784).to(device)  \n",
        "        \n",
        "        optimizer.zero_grad()\n",
        "        \n",
        "        recon_x, mu, logvar = model(input_x)\n",
        "        \n",
        "        loss = loss_function(recon_x, input_x, mu, logvar)\n",
        "        loss.backward()\n",
        "\n",
        "        optimizer.step()\n",
        "        \n",
        "        avg_loss += (loss.item()/num_of_mini_batch)\n",
        "        \n",
        "    if (num_epoch+1) % 10 == 0:\n",
        "        print(\"Epoch = {} loss = {:.6f}\".format(num_epoch+1, avg_loss))"
      ]
    },
    {
      "cell_type": "markdown",
      "metadata": {
        "id": "OfEyaogJBqu1"
      },
      "source": [
        "### Save model"
      ]
    },
    {
      "cell_type": "code",
      "execution_count": null,
      "metadata": {
        "id": "CUGJX6xkBqu1"
      },
      "outputs": [],
      "source": [
        "torch.save(model.state_dict(), './pre_trained/day06_06_VAE_Basic_MNIST_hidden_2.pth')"
      ]
    },
    {
      "cell_type": "markdown",
      "metadata": {
        "id": "4q5QwpCcBqu2"
      },
      "source": [
        "### Load model"
      ]
    },
    {
      "cell_type": "code",
      "execution_count": null,
      "metadata": {
        "id": "EX3Zx0q6Bqu2"
      },
      "outputs": [],
      "source": [
        "model = VAE().to(device)"
      ]
    },
    {
      "cell_type": "code",
      "execution_count": null,
      "metadata": {
        "id": "9bTIx1M9Bqu3",
        "outputId": "a39b1a21-e277-4fdc-a2f9-ac848ab5c111"
      },
      "outputs": [
        {
          "data": {
            "text/plain": [
              "<All keys matched successfully>"
            ]
          },
          "execution_count": 17,
          "metadata": {},
          "output_type": "execute_result"
        }
      ],
      "source": [
        "model.load_state_dict(torch.load('./pre_trained/day06_06_VAE_Basic_MNIST_hidden_2.pth', map_location=device))"
      ]
    },
    {
      "cell_type": "markdown",
      "metadata": {
        "id": "l-0rxRMGBqu3"
      },
      "source": [
        "### Test Images"
      ]
    },
    {
      "cell_type": "code",
      "execution_count": null,
      "metadata": {
        "id": "5oCadq91Bqu4"
      },
      "outputs": [],
      "source": [
        "for batch_idx, image in enumerate(test_loader):\n",
        "    with torch.no_grad():\n",
        "        test_img = image.to(device)\n",
        "        \n",
        "        test_recon_x, _, _ = model(test_img)"
      ]
    },
    {
      "cell_type": "code",
      "execution_count": null,
      "metadata": {
        "id": "dws2FAihBqu4",
        "outputId": "e987f426-cbad-4d65-fd6f-877cffe11c3d"
      },
      "outputs": [
        {
          "data": {
            "image/png": "[encoded data removed]",
            "text/plain": [
              "<Figure size 1440x288 with 20 Axes>"
            ]
          },
          "metadata": {
            "needs_background": "light"
          },
          "output_type": "display_data"
        }
      ],
      "source": [
        "n = 10  # 몇개를 보일것인가\n",
        "plt.figure(figsize=(20, 4)) # 전체 figure'들'의 총 행, 열의 크기)\n",
        "\n",
        "for i in range(n):\n",
        "    #  Original data\n",
        "    #  = pit.subplot(행의 갯수, 열의갯수, index )\n",
        "    ax = plt.subplot(2, 10, i + 1)\n",
        "    \n",
        "    image = test_img[i*1000].reshape(28,28)\n",
        "    plt.imshow(image.cpu(), cmap='gray')\n",
        "    \n",
        "    ax.get_xaxis().set_visible(False)\n",
        "    ax.get_yaxis().set_visible(False)\n",
        "    \n",
        "    # ===================================================================\n",
        "    \n",
        "    ax = plt.subplot(2, 10, i+1+n)\n",
        "    \n",
        "    recon_image = test_recon_x.data[i*1000].cpu().reshape(28,28)\n",
        "    plt.imshow(recon_image, cmap='gray')\n",
        "\n",
        "#     x, y 축을 보이고 싶다면 아래를 주석처리\n",
        "    ax.get_xaxis().set_visible(False)\n",
        "    ax.get_yaxis().set_visible(False)"
      ]
    },
    {
      "cell_type": "markdown",
      "metadata": {
        "id": "TJIy9X0HBqu5"
      },
      "source": [
        "### Generate New Images"
      ]
    },
    {
      "cell_type": "code",
      "execution_count": null,
      "metadata": {
        "id": "VMWy6euZBqu6"
      },
      "outputs": [],
      "source": [
        "for i in range(10):\n",
        "    with torch.no_grad():\n",
        "        sample_z = torch.randn(64,2).to(device)\n",
        "        input_z = sample_z\n",
        "        sample = model.decode(input_z).cpu()\n",
        "        save_image(sample.reshape(64, 1, 28, 28),\n",
        "                   './new_images/day06_06_Basic' + str(i) + str('_hidden2')+ '.png')"
      ]
    }
  ],
  "metadata": {
    "kernelspec": {
      "display_name": "Python 3",
      "language": "python",
      "name": "python3"
    },
    "language_info": {
      "codemirror_mode": {
        "name": "ipython",
        "version": 3
      },
      "file_extension": ".py",
      "mimetype": "text/x-python",
      "name": "python",
      "nbconvert_exporter": "python",
      "pygments_lexer": "ipython3",
      "version": "3.7.7"
    },
    "colab": {
      "name": "Day06_02_VAE_Basic_MNIST_hidden2_answer.ipynb",
      "provenance": [],
      "include_colab_link": true
    }
  },
  "nbformat": 4,
  "nbformat_minor": 0
}