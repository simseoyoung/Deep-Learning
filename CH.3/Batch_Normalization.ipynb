{
  "nbformat": 4,
  "nbformat_minor": 0,
  "metadata": {
    "colab": {
      "name": "Untitled8.ipynb",
      "provenance": [],
      "authorship_tag": "ABX9TyNkDsX7DoBruUZo8coNgqy6",
      "include_colab_link": true
    },
    "kernelspec": {
      "name": "python3",
      "display_name": "Python 3"
    },
    "language_info": {
      "name": "python"
    }
  },
  "cells": [
    {
      "cell_type": "markdown",
      "metadata": {
        "id": "view-in-github",
        "colab_type": "text"
      },
      "source": [
        "<a href=\"https://colab.research.google.com/github/simseoyoung/Deep-Learning/blob/main/CH.3/Batch_Normalization.ipynb\" target=\"_parent\"><img src=\"https://colab.research.google.com/assets/colab-badge.svg\" alt=\"Open In Colab\"/></a>"
      ]
    },
    {
      "cell_type": "markdown",
      "source": [
        "# Batch Normalization <br>\n",
        " : 학습 과정에서 각 배치 단위 별로 데이터가 다양한 분포를 가지더라도 각 배치별로 평균과 분산을 이용해 정규화하는 것\n",
        "\n"
      ],
      "metadata": {
        "id": "7WEixUJKekxa"
      }
    },
    {
      "cell_type": "code",
      "execution_count": 1,
      "metadata": {
        "id": "6DDiE1cxekMC"
      },
      "outputs": [],
      "source": [
        "import numpy as np\n",
        "import torch\n",
        "import torch.nn as nn\n",
        "import torch.optim as optim\n",
        "from torch.nn import functional as F\n",
        "from tensorflow import keras\n",
        "\n",
        "import random\n",
        "import torch.utils.data as data_utils\n",
        "from torch.utils.data import DataLoader\n",
        "\n",
        "import matplotlib.pyplot as plt"
      ]
    },
    {
      "cell_type": "code",
      "source": [
        "device = 'cuda' if torch.cuda.is_available() else 'cpu'\n",
        "print(device)\n",
        "\n",
        "random.seed(777)\n",
        "torch.manual_seed(777)\n",
        "if device == 'cuda':\n",
        "    torch.cuda.manual_seed_all(777)"
      ],
      "metadata": {
        "colab": {
          "base_uri": "https://localhost:8080/"
        },
        "id": "khV8RC90ewLJ",
        "outputId": "aed18d38-f396-4b6c-87b2-fe7830eddd1d"
      },
      "execution_count": 2,
      "outputs": [
        {
          "output_type": "stream",
          "name": "stdout",
          "text": [
            "cpu\n"
          ]
        }
      ]
    },
    {
      "cell_type": "markdown",
      "source": [
        "[1] Data"
      ],
      "metadata": {
        "id": "aPecb4X-e7qQ"
      }
    },
    {
      "cell_type": "code",
      "source": [
        "mnist = keras.datasets.mnist\n",
        "# MNIST 데이터셋 학습용(x,y), 테스트용(x,y)으로 나누기\n",
        "(x_train, y_train), (x_test, y_test) = mnist.load_data()\n",
        "# data 는 list 형식을 되어 있으므로 shape 을 보고, 이미지 visualization 을 하기 편한 array 형태로 바꾸어준다.\n",
        "\n",
        "x_train=np.asarray(x_train)\n",
        "y_train=np.asarray(y_train)\n",
        "x_test=np.asarray(x_test)\n",
        "y_test=np.asarray(y_test)\n",
        "\n",
        "print(\"x_train 의 shape={}, y_train 의 shape={}\".format(x_train.shape,y_train.shape))\n",
        "print(\"x_test 의 shape={}, y_test 의 shape={}\".format(x_test.shape,y_test.shape))"
      ],
      "metadata": {
        "colab": {
          "base_uri": "https://localhost:8080/"
        },
        "id": "DYDti_meeyYF",
        "outputId": "9d613828-2139-4dea-9cc6-66fdb9a2c1b2"
      },
      "execution_count": 3,
      "outputs": [
        {
          "output_type": "stream",
          "name": "stdout",
          "text": [
            "Downloading data from https://storage.googleapis.com/tensorflow/tf-keras-datasets/mnist.npz\n",
            "11493376/11490434 [==============================] - 0s 0us/step\n",
            "11501568/11490434 [==============================] - 0s 0us/step\n",
            "x_train 의 shape=(60000, 28, 28), y_train 의 shape=(60000,)\n",
            "x_test 의 shape=(10000, 28, 28), y_test 의 shape=(10000,)\n"
          ]
        }
      ]
    },
    {
      "cell_type": "code",
      "source": [
        "batch_size = 1000\n",
        "traindata = data_utils.TensorDataset(torch.FloatTensor(x_train), torch.FloatTensor(y_train))\n",
        "trainloader = data_utils.DataLoader(traindata, batch_size = 1000, shuffle = True, drop_last = False)"
      ],
      "metadata": {
        "id": "hFMjjfrge2Ze"
      },
      "execution_count": 4,
      "outputs": []
    },
    {
      "cell_type": "markdown",
      "source": [
        "[2] Model"
      ],
      "metadata": {
        "id": "antH3ERSe-Ti"
      }
    },
    {
      "cell_type": "code",
      "source": [
        "class Batch_Norm(nn.Module):\n",
        "  def __init__(self):\n",
        "    super(Batch_Norm, self).__init__()\n",
        "\n",
        "    self.network = nn.Sequential(nn.Linear(784,256),\n",
        "                                     nn.BatchNorm1d(256),\n",
        "                                     nn.ReLU(),\n",
        "                                     nn.Linear(256,64),\n",
        "                                     nn.BatchNorm1d(64),\n",
        "                                     nn.ReLU(),\n",
        "                                     nn.Linear(64,10))\n",
        "  def forward(self, x):\n",
        "      output = self.network(x)\n",
        "        \n",
        "      return output\n",
        "    \n",
        "model = Batch_Norm().to(device) "
      ],
      "metadata": {
        "id": "fPMzJPIZe6P9"
      },
      "execution_count": 5,
      "outputs": []
    },
    {
      "cell_type": "code",
      "source": [
        "epoch = 20\n",
        "learning_rate = 0.01\n",
        "weight_decay = 1e-5\n",
        "\n",
        "loss_function = torch.nn.CrossEntropyLoss()\n",
        "optimizer = torch.optim.Adam(model.parameters(), lr = learning_rate, weight_decay=weight_decay)"
      ],
      "metadata": {
        "id": "uh8ZZrvffgbQ"
      },
      "execution_count": 6,
      "outputs": []
    },
    {
      "cell_type": "markdown",
      "source": [
        "[3] Training"
      ],
      "metadata": {
        "id": "bqShUo57ffmJ"
      }
    },
    {
      "cell_type": "code",
      "source": [
        "loss_list = []\n",
        "\n",
        "for num_epoch in range(epoch):\n",
        "    model.train()\n",
        "    average_loss = 0\n",
        "\n",
        "    for batch_idx, (image, label) in enumerate(trainloader):\n",
        "        data_len = len(trainloader)\n",
        "\n",
        "        x_Data = image.reshape(1000,784)\n",
        "        \n",
        "        optimizer.zero_grad()\n",
        "        \n",
        "        y_predict = model.forward(x_Data)\n",
        "        \n",
        "        y_label_long = torch.tensor(label, dtype=torch.long)\n",
        "        y_label_long = y_label_long.to(device)\n",
        "        \n",
        "        loss = loss_function(y_predict, y_label_long)\n",
        "        \n",
        "        loss.backward()\n",
        "        \n",
        "        optimizer.step()\n",
        "        \n",
        "        loss_list.append(loss.detach().numpy())\n",
        "        \n",
        "        average_loss += (loss.item()/data_len)\n",
        "        \n",
        "    print(\"Epoch = {}\\tAverage loss = {}\".format((num_epoch+1), average_loss))"
      ],
      "metadata": {
        "colab": {
          "base_uri": "https://localhost:8080/"
        },
        "id": "kzmvs_8NfoHF",
        "outputId": "33942d81-62ad-4a5d-8978-0882d3a4adc6"
      },
      "execution_count": 7,
      "outputs": [
        {
          "output_type": "stream",
          "name": "stderr",
          "text": [
            "/usr/local/lib/python3.7/dist-packages/ipykernel_launcher.py:16: UserWarning: To copy construct from a tensor, it is recommended to use sourceTensor.clone().detach() or sourceTensor.clone().detach().requires_grad_(True), rather than torch.tensor(sourceTensor).\n",
            "  app.launch_new_instance()\n"
          ]
        },
        {
          "output_type": "stream",
          "name": "stdout",
          "text": [
            "Epoch = 1\tAverage loss = 0.32770997534195595\n",
            "Epoch = 2\tAverage loss = 0.0933742708216111\n",
            "Epoch = 3\tAverage loss = 0.057550367340445524\n",
            "Epoch = 4\tAverage loss = 0.03924326431006194\n",
            "Epoch = 5\tAverage loss = 0.03057101052254439\n",
            "Epoch = 6\tAverage loss = 0.024212357137973102\n",
            "Epoch = 7\tAverage loss = 0.018694637009563548\n",
            "Epoch = 8\tAverage loss = 0.01710708905011416\n",
            "Epoch = 9\tAverage loss = 0.012627323344349862\n",
            "Epoch = 10\tAverage loss = 0.011001143876152735\n",
            "Epoch = 11\tAverage loss = 0.013389472903994226\n",
            "Epoch = 12\tAverage loss = 0.013774764421395951\n",
            "Epoch = 13\tAverage loss = 0.012189622743365663\n",
            "Epoch = 14\tAverage loss = 0.010118118258348357\n",
            "Epoch = 15\tAverage loss = 0.007554000293991216\n",
            "Epoch = 16\tAverage loss = 0.009650536828363934\n",
            "Epoch = 17\tAverage loss = 0.011647379510880755\n",
            "Epoch = 18\tAverage loss = 0.009853098297026007\n",
            "Epoch = 19\tAverage loss = 0.01227199592782806\n",
            "Epoch = 20\tAverage loss = 0.009305773244705053\n"
          ]
        }
      ]
    },
    {
      "cell_type": "code",
      "source": [
        "plt.plot(np.array(loss_list[7:]), 'g')\n",
        "plt.xlabel('loss')\n",
        "plt.ylabel('iterations')"
      ],
      "metadata": {
        "colab": {
          "base_uri": "https://localhost:8080/",
          "height": 299
        },
        "id": "xRnu3cdYf9Zq",
        "outputId": "c76b9191-af6f-4f96-b2bf-630627f5f43f"
      },
      "execution_count": 8,
      "outputs": [
        {
          "output_type": "execute_result",
          "data": {
            "text/plain": [
              "Text(0, 0.5, 'iterations')"
            ]
          },
          "metadata": {},
          "execution_count": 8
        },
        {
          "output_type": "display_data",
          "data": {
            "text/plain": [
              "<Figure size 432x288 with 1 Axes>"
            ],
            "image/png": "[encoded data removed]"
          },
          "metadata": {
            "needs_background": "light"
          }
        }
      ]
    }
  ]
}