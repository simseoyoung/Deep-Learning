{
  "cells": [
    {
      "cell_type": "markdown",
      "metadata": {
        "id": "view-in-github",
        "colab_type": "text"
      },
      "source": [
        "<a href=\"https://colab.research.google.com/github/simseoyoung/Deep-Learning/blob/main/CH.3/3_3_Optimizer_MNIST(ADAM)_Answer.ipynb\" target=\"_parent\"><img src=\"https://colab.research.google.com/assets/colab-badge.svg\" alt=\"Open In Colab\"/></a>"
      ]
    },
    {
      "cell_type": "markdown",
      "metadata": {
        "id": "HAA7xWZMCtVF"
      },
      "source": [
        "### Class 방식으로 Adam Optimzer 를 쓰는 pytorch 코드를 구현한다"
      ]
    },
    {
      "cell_type": "code",
      "execution_count": null,
      "metadata": {
        "colab": {
          "base_uri": "https://localhost:8080/"
        },
        "id": "82HPzBK7CtVR",
        "outputId": "92c7676d-84d2-472b-dda5-32906830b891"
      },
      "outputs": [
        {
          "output_type": "stream",
          "name": "stdout",
          "text": [
            "Requirement already satisfied: python-mnist==0.5 in /usr/local/lib/python3.7/dist-packages (0.5)\n",
            "Requirement already satisfied: keras in /usr/local/lib/python3.7/dist-packages (2.8.0)\n"
          ]
        }
      ],
      "source": [
        "# warning message 제거\n",
        "!pip install python-mnist==0.5\n",
        "!pip install keras\n",
        "import warnings\n",
        "warnings.filterwarnings(action='ignore')"
      ]
    },
    {
      "cell_type": "code",
      "execution_count": null,
      "metadata": {
        "id": "N5zDo_mzCtVU"
      },
      "outputs": [],
      "source": [
        "import numpy as np\n",
        "import torch\n",
        "import torch.nn as nn\n",
        "import torch.optim as optim\n",
        "from torch.nn import functional as F\n",
        "from tensorflow import keras\n",
        "\n",
        "import random"
      ]
    },
    {
      "cell_type": "code",
      "execution_count": null,
      "metadata": {
        "id": "VxZqpdHNCtVY"
      },
      "outputs": [],
      "source": [
        "from mnist import MNIST\n",
        "\n",
        "import torch.utils.data as data_utils\n",
        "from torch.utils.data import DataLoader\n",
        "\n",
        "# loss 값 ploting 을 위해 사용\n",
        "import matplotlib.pyplot as plt"
      ]
    },
    {
      "cell_type": "markdown",
      "metadata": {
        "id": "MjEWQVNqCtVb"
      },
      "source": [
        "Check GPU and fix the random seed"
      ]
    },
    {
      "cell_type": "code",
      "execution_count": null,
      "metadata": {
        "colab": {
          "base_uri": "https://localhost:8080/"
        },
        "id": "_m7i5fOBCtVd",
        "outputId": "4015a50b-64bc-47cc-d05c-1715c4e0d80e"
      },
      "outputs": [
        {
          "output_type": "stream",
          "name": "stdout",
          "text": [
            "cpu\n"
          ]
        }
      ],
      "source": [
        "device = 'cuda' if torch.cuda.is_available() else 'cpu'\n",
        "print(device)\n",
        "\n",
        "random.seed(777)\n",
        "torch.manual_seed(777)\n",
        "if device == 'cuda':\n",
        "    torch.cuda.manual_seed_all(777)"
      ]
    },
    {
      "cell_type": "markdown",
      "metadata": {
        "id": "qZyc0SF_CtVg"
      },
      "source": [
        "### Load Dataset and preprocessing"
      ]
    },
    {
      "cell_type": "code",
      "execution_count": null,
      "metadata": {
        "scrolled": true,
        "colab": {
          "base_uri": "https://localhost:8080/"
        },
        "id": "HrDt7huPCtVj",
        "outputId": "7037a13b-3093-467d-9398-311669949d17"
      },
      "outputs": [
        {
          "output_type": "stream",
          "name": "stdout",
          "text": [
            "Downloading data from https://storage.googleapis.com/tensorflow/tf-keras-datasets/mnist.npz\n",
            "11493376/11490434 [==============================] - 0s 0us/step\n",
            "11501568/11490434 [==============================] - 0s 0us/step\n",
            "x_train 의 shape=(60000, 28, 28), y_train 의 shape=(60000,)\n",
            "x_test 의 shape=(10000, 28, 28), y_test 의 shape=(10000,)\n"
          ]
        }
      ],
      "source": [
        "mnist = keras.datasets.mnist\n",
        "# MNIST 데이터셋 학습용(x,y), 테스트용(x,y)으로 나누기\n",
        "(x_train, y_train), (x_test, y_test) = mnist.load_data()\n",
        "\n",
        "# data 는 list 형식을 되어 있으므로 shape 을 보고, 이미지 visualization 을 하기 편한 array 형태로 바꾸어준다.\n",
        "\n",
        "x_train=np.asarray(x_train)\n",
        "y_train=np.asarray(y_train)\n",
        "x_test=np.asarray(x_test)\n",
        "y_test=np.asarray(y_test)\n",
        "\n",
        "print(\"x_train 의 shape={}, y_train 의 shape={}\".format(x_train.shape,y_train.shape))\n",
        "print(\"x_test 의 shape={}, y_test 의 shape={}\".format(x_test.shape,y_test.shape))"
      ]
    },
    {
      "cell_type": "markdown",
      "metadata": {
        "id": "Sq_dNLXtCtVp"
      },
      "source": [
        "### Convert array data into Tensor Dataset"
      ]
    },
    {
      "cell_type": "markdown",
      "metadata": {
        "id": "DpT7KZeeCtVs"
      },
      "source": [
        "1. array 형태의 x와 y data 를 TensorDataset 형태로 train_data 에 담고"
      ]
    },
    {
      "cell_type": "code",
      "execution_count": null,
      "metadata": {
        "id": "vI7tIchoCtVt"
      },
      "outputs": [],
      "source": [
        "train_data = data_utils.TensorDataset(torch.FloatTensor(x_train), torch.FloatTensor(y_train))"
      ]
    },
    {
      "cell_type": "markdown",
      "metadata": {
        "id": "BzD9lAI6CtVv"
      },
      "source": [
        "2. 하나로 묶어준 x tensor, y tensor data 를 batch 단위로 나누어서 trainloader 에 담아준다"
      ]
    },
    {
      "cell_type": "code",
      "execution_count": null,
      "metadata": {
        "id": "ydAWrYYCCtVw"
      },
      "outputs": [],
      "source": [
        "batch_size = 1000\n",
        "trainloader = data_utils.DataLoader(train_data, batch_size = batch_size, shuffle = True)"
      ]
    },
    {
      "cell_type": "code",
      "execution_count": null,
      "metadata": {
        "scrolled": false,
        "colab": {
          "base_uri": "https://localhost:8080/",
          "height": 284
        },
        "id": "l7Q0gSGxCtVx",
        "outputId": "3ed2d3b5-81d7-48e4-d60d-1bb58961de7a"
      },
      "outputs": [
        {
          "output_type": "stream",
          "name": "stdout",
          "text": [
            "tensor(0.)\n"
          ]
        },
        {
          "output_type": "display_data",
          "data": {
            "text/plain": [
              "<Figure size 432x288 with 1 Axes>"
            ],
            "image/png": "[encoded data removed]"
          },
          "metadata": {
            "needs_background": "light"
          }
        }
      ],
      "source": [
        "for batch_idx, (image, label) in enumerate(trainloader):\n",
        "    plt.imshow(image[0].reshape(28,28), cmap = 'gray')\n",
        "    print(label[0])\n",
        "    break"
      ]
    },
    {
      "cell_type": "markdown",
      "metadata": {
        "id": "M_NhOVXNCtVy"
      },
      "source": [
        "### Define Linear Model using with ReLU\n",
        "### Use Forward Function"
      ]
    },
    {
      "cell_type": "code",
      "execution_count": null,
      "metadata": {
        "id": "v6wv-6umCtVz"
      },
      "outputs": [],
      "source": [
        "class Adam_Model(nn.Module):\n",
        "    def __init__(self):\n",
        "        super(Adam_Model, self).__init__()\n",
        "        \n",
        "        self.fc1 = nn.Linear(784,256)\n",
        "        self.fc2 = nn.Linear(256,64)\n",
        "        self.fc3 = nn.Linear(64,10)\n",
        "        \n",
        "    def forward(self, x):\n",
        "        h1 = F.relu(self.fc1(x))\n",
        "        h2 = F.relu(self.fc2(h1))\n",
        "        class_label = self.fc3(h2)\n",
        "        \n",
        "        return class_label       "
      ]
    },
    {
      "cell_type": "code",
      "execution_count": null,
      "metadata": {
        "id": "vfNiT2_-CtV0"
      },
      "outputs": [],
      "source": [
        "model = Adam_Model().to(device)"
      ]
    },
    {
      "cell_type": "markdown",
      "metadata": {
        "id": "aVOqZpOUCtV0"
      },
      "source": [
        "### dummy data"
      ]
    },
    {
      "cell_type": "code",
      "source": [
        "# CNN => convoulutional layer 사용 => kernel size, stride, padding => output size"
      ],
      "metadata": {
        "id": "nwSrffECFVZ8"
      },
      "execution_count": null,
      "outputs": []
    },
    {
      "cell_type": "code",
      "execution_count": null,
      "metadata": {
        "id": "_QC8YAxZCtV1"
      },
      "outputs": [],
      "source": [
        "# 직접 데이터를 만들기 힘들 때 사이즈를 맞춘 dummy data 사용\n",
        "a = torch.Tensor(1,784).to(device)"
      ]
    },
    {
      "cell_type": "code",
      "execution_count": null,
      "metadata": {
        "colab": {
          "base_uri": "https://localhost:8080/"
        },
        "id": "0pBbp5pICtV4",
        "outputId": "168d70ab-0ff0-4e64-a280-3c48b8db6f7a"
      },
      "outputs": [
        {
          "output_type": "execute_result",
          "data": {
            "text/plain": [
              "torch.Size([1, 10])"
            ]
          },
          "metadata": {},
          "execution_count": 36
        }
      ],
      "source": [
        "model(a).shape"
      ]
    },
    {
      "cell_type": "markdown",
      "metadata": {
        "id": "jdwpmbxWCtV5"
      },
      "source": [
        "### Set parameters"
      ]
    },
    {
      "cell_type": "code",
      "execution_count": null,
      "metadata": {
        "id": "cKJZa2t8CtV5"
      },
      "outputs": [],
      "source": [
        "epoch = 15\n",
        "learning_rate = 0.01\n",
        "weight_decay = 1e-5"
      ]
    },
    {
      "cell_type": "markdown",
      "metadata": {
        "id": "e4GnPKuDCtV6"
      },
      "source": [
        "### Define Loss Function & Define Optimizer"
      ]
    },
    {
      "cell_type": "code",
      "execution_count": null,
      "metadata": {
        "id": "-SvazbA-CtV7"
      },
      "outputs": [],
      "source": [
        "loss_function = torch.nn.CrossEntropyLoss()\n",
        "optimizer = torch.optim.Adam(model.parameters(), lr = learning_rate, weight_decay=weight_decay)"
      ]
    },
    {
      "cell_type": "markdown",
      "metadata": {
        "id": "lP-YQqjpCtV7"
      },
      "source": [
        "### Train"
      ]
    },
    {
      "cell_type": "code",
      "execution_count": null,
      "metadata": {
        "scrolled": true,
        "id": "dB0O7lu2CtV8"
      },
      "outputs": [],
      "source": [
        "# model = Adam_Model().to(device)\n",
        "\n",
        "loss_list = []\n",
        "\n",
        "for epoch_num in range(epoch):\n",
        "    average_loss = 0\n",
        "        \n",
        "    for batch_idx, (x_data, y_label) in enumerate(trainloader):\n",
        "        \n",
        "        num_of_mini_batch = len(trainloader)\n",
        "        \n",
        "        images = x_data.to(device)\n",
        "        labels = y_label.to(device)\n",
        "        \n",
        "        # zero_grad 한 후 () 를 꼭 빼먹지 않도록한다\n",
        "        optimizer.zero_grad()\n",
        "        \n",
        "        predict = model(images)\n",
        "        \n",
        "        y_label_long = torch.tensor(labels, dtype = torch.long)\n",
        "        y_label_long = y_label_long.to(device)\n",
        "        \n",
        "        loss = loss_function(predict, y_label_long)\n",
        "        \n",
        "        # 마찬가지로 ()를 꼭 넣어준다\n",
        "        loss.backward()\n",
        "        \n",
        "        optimizer.step()\n",
        "        \n",
        "        average_loss += (loss.item()/num_of_mini_batch)\n",
        "        loss_list.append(loss)\n",
        "     \n",
        "                \n",
        "    print(\"epoch {} 의 평균 loss 값은 ==> {:.5f}\".format((epoch_num+1), average_loss))"
      ]
    },
    {
      "cell_type": "code",
      "execution_count": null,
      "metadata": {
        "id": "oboVH4lfCtV9",
        "outputId": "44788f97-6ccc-4db7-e753-e8efe1e7d919"
      },
      "outputs": [
        {
          "name": "stdout",
          "output_type": "stream",
          "text": [
            "loss_list의 길이 = 900\n"
          ]
        }
      ],
      "source": [
        "# 60000개를 1000 배치로 나누었을때 60이 되므로 epoch 하나당 60 묶음의 배치가 학습이된다\n",
        "# 15 epoch 이므로 900 묶음의 배치가 학습이 되게 되고 list 에 append 되는 loss value 도 900 개가 된다.\n",
        "print(\"loss_list의 길이 =\",len(loss_list))"
      ]
    },
    {
      "cell_type": "code",
      "execution_count": null,
      "metadata": {
        "scrolled": true,
        "id": "GzsuUdhOCtV-",
        "outputId": "07c715a9-9bc7-4f0b-dedd-11ec7097c96e"
      },
      "outputs": [
        {
          "data": {
            "text/plain": [
              "[tensor(11.8309, device='cuda:0', grad_fn=<NllLossBackward>),\n",
              " tensor(184.9861, device='cuda:0', grad_fn=<NllLossBackward>),\n",
              " tensor(120.8217, device='cuda:0', grad_fn=<NllLossBackward>),\n",
              " tensor(59.9786, device='cuda:0', grad_fn=<NllLossBackward>),\n",
              " tensor(31.2644, device='cuda:0', grad_fn=<NllLossBackward>),\n",
              " tensor(17.5259, device='cuda:0', grad_fn=<NllLossBackward>),\n",
              " tensor(8.0432, device='cuda:0', grad_fn=<NllLossBackward>),\n",
              " tensor(5.3625, device='cuda:0', grad_fn=<NllLossBackward>),\n",
              " tensor(2.2147, device='cuda:0', grad_fn=<NllLossBackward>),\n",
              " tensor(1.9889, device='cuda:0', grad_fn=<NllLossBackward>)]"
            ]
          },
          "execution_count": 17,
          "metadata": {},
          "output_type": "execute_result"
        }
      ],
      "source": [
        "loss_list[:10]"
      ]
    },
    {
      "cell_type": "markdown",
      "metadata": {
        "id": "1eBf_tf_CtV_"
      },
      "source": [
        "### 2번째 epoch 의 loss 값을 한 번 재확인"
      ]
    },
    {
      "cell_type": "code",
      "execution_count": null,
      "metadata": {
        "id": "Ao4fXkcPCtV_",
        "outputId": "4c2997fc-06fc-4e98-be73-b4a7824a284b"
      },
      "outputs": [
        {
          "name": "stdout",
          "output_type": "stream",
          "text": [
            "tensor(1.2891, device='cuda:0', grad_fn=<DivBackward0>)\n"
          ]
        }
      ],
      "source": [
        "# epoch 하나당 60개의 batch 묶음\n",
        "epoch_loss = 0\n",
        "for i in range(60):\n",
        "    epoch_loss = epoch_loss + loss_list[i+60]\n",
        "    \n",
        "print(epoch_loss/60)"
      ]
    },
    {
      "cell_type": "code",
      "execution_count": null,
      "metadata": {
        "id": "dTroQf-1CtWA"
      },
      "outputs": [],
      "source": [
        "from matplotlib import pyplot as plt"
      ]
    },
    {
      "cell_type": "code",
      "execution_count": null,
      "metadata": {
        "scrolled": false,
        "id": "7j4xmvVuCtWA",
        "outputId": "0c284aa8-3d0e-4733-8307-3ecb06b3930b"
      },
      "outputs": [
        {
          "data": {
            "text/plain": [
              "[<matplotlib.lines.Line2D at 0x7fa22e7cd090>]"
            ]
          },
          "execution_count": 20,
          "metadata": {},
          "output_type": "execute_result"
        },
        {
          "data": {
            "image/png": "[encoded data removed]",
            "text/plain": [
              "<Figure size 432x288 with 1 Axes>"
            ]
          },
          "metadata": {
            "needs_background": "light"
          },
          "output_type": "display_data"
        }
      ],
      "source": [
        "plt.plot(np.array(loss_list[7:]), 'r')"
      ]
    },
    {
      "cell_type": "code",
      "execution_count": null,
      "metadata": {
        "id": "CHP1nt0nCtWB"
      },
      "outputs": [],
      "source": [
        "import pickle\n",
        "\n",
        "# wb - 바이트 형식으로 저장\n",
        "\n",
        "with open('ADAM.pickle', 'wb') as f:\n",
        "    pickle.dump(loss_list, f)"
      ]
    },
    {
      "cell_type": "markdown",
      "metadata": {
        "id": "gIT7xuM_CtWC"
      },
      "source": [
        "### Test code??"
      ]
    },
    {
      "cell_type": "markdown",
      "metadata": {
        "id": "1rJHtfZjCtWC"
      },
      "source": [
        "Load test dataset"
      ]
    },
    {
      "cell_type": "code",
      "execution_count": null,
      "metadata": {
        "id": "oF8LA7FcCtWC"
      },
      "outputs": [],
      "source": [
        "test_data = data_utils.TensorDataset(torch.FloatTensor(x_test), torch.FloatTensor(y_test))\n",
        "\n",
        "testloader = data_utils.DataLoader(test_data, batch_size = 5000, shuffle = False)"
      ]
    },
    {
      "cell_type": "code",
      "execution_count": null,
      "metadata": {
        "id": "Ju01OrpzCtWD",
        "outputId": "85df9dd0-f63e-48d7-a77f-7a15928ef323"
      },
      "outputs": [
        {
          "name": "stdout",
          "output_type": "stream",
          "text": [
            "Adam 을 사용한 model 의 accuracy는 95.13%\n"
          ]
        }
      ],
      "source": [
        "with torch.no_grad():\n",
        "    num_total_data = 0\n",
        "    correct = 0\n",
        "    \n",
        "    for batch_idx, (images, labels) in enumerate(testloader):\n",
        "        \n",
        "        images = images.to(device)\n",
        "        labels = labels.to(device)\n",
        "        \n",
        "        outputs = model(images)\n",
        "        output_softmax = torch.nn.functional.softmax(outputs)\n",
        "        predicted = torch.argmax(output_softmax, dim = 1)\n",
        "        \n",
        "        num_total_data += len(images)\n",
        "        \n",
        "        answer = sum(labels == predicted).item()\n",
        "        correct += answer\n",
        "        \n",
        "    print(\"Adam 을 사용한 model 의 accuracy는 %.2f%%\" %((correct/num_total_data)*100))"
      ]
    }
  ],
  "metadata": {
    "kernelspec": {
      "display_name": "Python 3",
      "language": "python",
      "name": "python3"
    },
    "language_info": {
      "codemirror_mode": {
        "name": "ipython",
        "version": 3
      },
      "file_extension": ".py",
      "mimetype": "text/x-python",
      "name": "python",
      "nbconvert_exporter": "python",
      "pygments_lexer": "ipython3",
      "version": "3.7.6"
    },
    "colab": {
      "name": "Day3_03_Optimizer_MNIST(ADAM)-Answer.ipynb",
      "provenance": [],
      "include_colab_link": true
    }
  },
  "nbformat": 4,
  "nbformat_minor": 0
}
