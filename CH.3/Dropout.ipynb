{
  "nbformat": 4,
  "nbformat_minor": 0,
  "metadata": {
    "colab": {
      "name": "Untitled7.ipynb",
      "provenance": [],
      "authorship_tag": "ABX9TyPz8EJ91byRbDTax++040yy",
      "include_colab_link": true
    },
    "kernelspec": {
      "name": "python3",
      "display_name": "Python 3"
    },
    "language_info": {
      "name": "python"
    }
  },
  "cells": [
    {
      "cell_type": "markdown",
      "metadata": {
        "id": "view-in-github",
        "colab_type": "text"
      },
      "source": [
        "<a href=\"https://colab.research.google.com/github/simseoyoung/Deep-Learning/blob/main/CH.3/Dropout.ipynb\" target=\"_parent\"><img src=\"https://colab.research.google.com/assets/colab-badge.svg\" alt=\"Open In Colab\"/></a>"
      ]
    },
    {
      "cell_type": "markdown",
      "source": [
        "#  Dropout"
      ],
      "metadata": {
        "id": "7_HhhcqTWL9J"
      }
    },
    {
      "cell_type": "code",
      "execution_count": null,
      "metadata": {
        "id": "vp2kR4oxVYAA"
      },
      "outputs": [],
      "source": [
        "import torch\n",
        "import matplotlib.pyplot as plt\n",
        "import numpy as np\n",
        "from torchvision import datasets\n",
        "from torchvision import transforms\n",
        "from torch.utils.data import DataLoader\n",
        "import torch.utils.data as data_utils\n",
        "from torch.nn import functional as F\n",
        "import torch.optim as optim\n",
        "import os\n",
        "import random"
      ]
    },
    {
      "cell_type": "code",
      "source": [
        "device = 'cuda' if torch.cuda.is_available() else 'cpu'\n",
        "print(device)\n",
        "\n",
        "random.seed(777)\n",
        "torch.manual_seed(777)\n",
        "if device == 'cuda':\n",
        "    torch.cuda.manual_seed_all(777)"
      ],
      "metadata": {
        "colab": {
          "base_uri": "https://localhost:8080/"
        },
        "id": "QiVm3c4OWiV5",
        "outputId": "13a3fad7-88a8-40de-86d6-c489e35eb0e8"
      },
      "execution_count": null,
      "outputs": [
        {
          "output_type": "stream",
          "name": "stdout",
          "text": [
            "cpu\n"
          ]
        }
      ]
    },
    {
      "cell_type": "markdown",
      "source": [
        "[1] Data"
      ],
      "metadata": {
        "id": "Q-FH-9WIWmqE"
      }
    },
    {
      "cell_type": "code",
      "source": [
        "# MNIST dataset \n",
        "from tensorflow import keras\n",
        "mnist = keras.datasets.mnist\n",
        "# MNIST 데이터셋 학습용(x,y), 테스트용(x,y)으로 나누기\n",
        "(x_train, y_train), (x_test, y_test) = mnist.load_data()\n",
        "x_train=np.asarray(x_train)\n",
        "y_train=np.asarray(y_train)\n",
        "x_test=np.asarray(x_test)\n",
        "y_test=np.asarray(y_test)"
      ],
      "metadata": {
        "id": "V0Gd9qk0Wnve"
      },
      "execution_count": null,
      "outputs": []
    },
    {
      "cell_type": "code",
      "source": [
        "#Data loader\n",
        "batch_size = 1000\n",
        "train_data = data_utils.TensorDataset(torch.FloatTensor(x_train), torch.FloatTensor(y_train))\n",
        "\n",
        "trainloader = data_utils.DataLoader(train_data, batch_size=batch_size, shuffle=True)\n"
      ],
      "metadata": {
        "id": "mVIIsd0TY6bW"
      },
      "execution_count": null,
      "outputs": []
    },
    {
      "cell_type": "markdown",
      "source": [
        "[2] Dropout Model"
      ],
      "metadata": {
        "id": "Y574ihhMaS-X"
      }
    },
    {
      "cell_type": "code",
      "source": [
        "drop_prob1 = 0.5\n",
        "drop_prob2 = 0.2\n",
        "\n",
        "class Dropout(torch.nn.Module):\n",
        "  def __init__(self):\n",
        "    super(Dropout, self).__init__()\n",
        "\n",
        "    self.fc1 = torch.nn.Linear(784,256)\n",
        "    self.fc2 = torch.nn.Linear(256,64)\n",
        "    self.fc3 = torch.nn.Linear(64,10)\n",
        "    self.dp1 = torch.nn.Dropout(p = drop_prob1)\n",
        "    self.dp2 = torch.nn.Dropout(p = drop_prob2)\n",
        "\n",
        "  def forward(self, x):\n",
        "        h1 = F.relu(self.fc1(x))\n",
        "        h1dp = self.dp1(h1)\n",
        "            \n",
        "        h2 = F.relu(self.fc2(h1dp))\n",
        "        h2dp = self.dp2(h2)\n",
        "\n",
        "        output = self.fc3(h2dp)\n",
        "            \n",
        "        return output\n",
        "\n",
        "model = Dropout().to(device)"
      ],
      "metadata": {
        "id": "VW3-9avcZRVt"
      },
      "execution_count": null,
      "outputs": []
    },
    {
      "cell_type": "code",
      "source": [
        "epoch = 20\n",
        "learning_rate = 0.01\n",
        "weight_decay = 1e-5\n",
        "\n",
        "loss_function = torch.nn.CrossEntropyLoss()\n",
        "optimizer = optim.Adam(model.parameters(), lr = learning_rate, weight_decay=weight_decay)"
      ],
      "metadata": {
        "id": "VQC8aWEhZ8ru"
      },
      "execution_count": null,
      "outputs": []
    },
    {
      "cell_type": "markdown",
      "source": [
        "[3] Train"
      ],
      "metadata": {
        "id": "wQlEVcU7aMbT"
      }
    },
    {
      "cell_type": "code",
      "source": [
        "loss_list = []\n",
        "\n",
        "for epoch_num in range(epoch):\n",
        "    model.train()\n",
        "    average_loss = 0\n",
        "    \n",
        "    for batch_idx, (images, labels) in enumerate(trainloader):\n",
        "        num_of_mini_batch = len(trainloader)\n",
        "        \n",
        "        input_images = images.reshape(1000,784)\n",
        "        labels = labels.to(device)\n",
        "        \n",
        "        optimizer.zero_grad()\n",
        "        \n",
        "        predicted = model(input_images)\n",
        "        \n",
        "        labels_long = torch.tensor(labels, dtype = torch.long)\n",
        "        labels_long = labels_long.to(device)\n",
        "        \n",
        "        loss = loss_function(predicted, labels_long)\n",
        "        \n",
        "        loss.backward()\n",
        "        optimizer.step()\n",
        "        \n",
        "        loss_list.append(loss.detach().numpy())\n",
        "        \n",
        "        average_loss += (loss.item()/num_of_mini_batch)\n",
        "   \n",
        "    print(\"Epoch = {}\\tAverage loss = {}\".format((epoch_num+1), average_loss))"
      ],
      "metadata": {
        "colab": {
          "base_uri": "https://localhost:8080/"
        },
        "id": "YZwou4vJaVDr",
        "outputId": "ed3a72f5-d81d-4b2e-bd44-a9926f471df2"
      },
      "execution_count": null,
      "outputs": [
        {
          "output_type": "stream",
          "name": "stderr",
          "text": [
            "/usr/local/lib/python3.7/dist-packages/ipykernel_launcher.py:17: UserWarning: To copy construct from a tensor, it is recommended to use sourceTensor.clone().detach() or sourceTensor.clone().detach().requires_grad_(True), rather than torch.tensor(sourceTensor).\n"
          ]
        },
        {
          "output_type": "stream",
          "name": "stdout",
          "text": [
            "Epoch = 1\tAverage loss = 5.49433498183886\n",
            "Epoch = 2\tAverage loss = 1.3598594466845189\n",
            "Epoch = 3\tAverage loss = 0.9443229079246522\n",
            "Epoch = 4\tAverage loss = 0.7722308248281479\n",
            "Epoch = 5\tAverage loss = 0.6698539207379023\n",
            "Epoch = 6\tAverage loss = 0.6332634061574935\n",
            "Epoch = 7\tAverage loss = 0.6077441622813543\n",
            "Epoch = 8\tAverage loss = 0.5787004197637239\n",
            "Epoch = 9\tAverage loss = 0.552726013958454\n",
            "Epoch = 10\tAverage loss = 0.5576462432742119\n",
            "Epoch = 11\tAverage loss = 0.5405519351363184\n",
            "Epoch = 12\tAverage loss = 0.5312656740347544\n",
            "Epoch = 13\tAverage loss = 0.5168568705519041\n",
            "Epoch = 14\tAverage loss = 0.5133263702193895\n",
            "Epoch = 15\tAverage loss = 0.5066045800844828\n",
            "Epoch = 16\tAverage loss = 0.5080694407224656\n",
            "Epoch = 17\tAverage loss = 0.5071712856491407\n",
            "Epoch = 18\tAverage loss = 0.501035671432813\n",
            "Epoch = 19\tAverage loss = 0.5008388191461562\n",
            "Epoch = 20\tAverage loss = 0.4869235108296077\n"
          ]
        }
      ]
    },
    {
      "cell_type": "code",
      "source": [
        "print(\"loss_list의 길이 =\",len(loss_list))\n",
        "plt.plot(np.array(loss_list[7:]), 'g')\n",
        "plt.ylabel('loss')\n",
        "plt.xlabel('iterations')"
      ],
      "metadata": {
        "colab": {
          "base_uri": "https://localhost:8080/",
          "height": 316
        },
        "id": "rLE_EBlLcaIh",
        "outputId": "4e04f3c6-6fed-4fd2-b4d7-894fd9833174"
      },
      "execution_count": null,
      "outputs": [
        {
          "output_type": "stream",
          "name": "stdout",
          "text": [
            "loss_list의 길이 = 1200\n"
          ]
        },
        {
          "output_type": "execute_result",
          "data": {
            "text/plain": [
              "Text(0.5, 0, 'iterations')"
            ]
          },
          "metadata": {},
          "execution_count": 42
        },
        {
          "output_type": "display_data",
          "data": {
            "text/plain": [
              "<Figure size 432x288 with 1 Axes>"
            ],
            "image/png": "[encoded data removed]"
          },
          "metadata": {
            "needs_background": "light"
          }
        }
      ]
    }
  ]
}